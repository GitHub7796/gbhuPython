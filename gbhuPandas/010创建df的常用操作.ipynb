{
 "cells": [
  {
   "cell_type": "code",
   "execution_count": 1,
   "id": "071953b4",
   "metadata": {},
   "outputs": [],
   "source": [
    "from IPython.core.interactiveshell import InteractiveShell\n",
    "InteractiveShell.ast_node_interactivity = \"all\""
   ]
  },
  {
   "cell_type": "code",
   "execution_count": 2,
   "id": "2e01fb7b",
   "metadata": {},
   "outputs": [
    {
     "name": "stderr",
     "output_type": "stream",
     "text": [
      "C:\\Users\\huguobin\\AppData\\Local\\Temp\\ipykernel_38148\\4080736814.py:1: DeprecationWarning: \n",
      "Pyarrow will become a required dependency of pandas in the next major release of pandas (pandas 3.0),\n",
      "(to allow more performant data types, such as the Arrow string type, and better interoperability with other libraries)\n",
      "but was not found to be installed on your system.\n",
      "If this would cause problems for you,\n",
      "please provide us feedback at https://github.com/pandas-dev/pandas/issues/54466\n",
      "        \n",
      "  import pandas as pd\n"
     ]
    }
   ],
   "source": [
    "import pandas as pd"
   ]
  },
  {
   "cell_type": "markdown",
   "id": "00354c07",
   "metadata": {},
   "source": [
    "# 依次插入每行"
   ]
  },
  {
   "cell_type": "markdown",
   "id": "d7aac326",
   "metadata": {},
   "source": [
    "从无到有创建一个 dataframe\n",
    "\n",
    "- 一行一行插入数据\n",
    "\n",
    "- 准备好数据后，一次性生成(效率更高)"
   ]
  },
  {
   "cell_type": "code",
   "execution_count": 5,
   "id": "82f992c7",
   "metadata": {},
   "outputs": [
    {
     "name": "stdout",
     "output_type": "stream",
     "text": [
      "   A  B\n",
      "0  0  0\n",
      "1  1  2\n",
      "2  2  4\n",
      "3  3  6\n",
      "4  4  8\n"
     ]
    }
   ],
   "source": [
    "df = pd.DataFrame(columns=['A', 'B'])\n",
    "# 一行一行插入数据\n",
    "for i in range(5):\n",
    "    new_row = {'A': i, 'B': i*2}\n",
    "    df = df._append(new_row, ignore_index=True)\n",
    "\n",
    "print(df)"
   ]
  },
  {
   "cell_type": "code",
   "execution_count": 7,
   "id": "d1dfde2c",
   "metadata": {},
   "outputs": [
    {
     "name": "stdout",
     "output_type": "stream",
     "text": [
      "[{'A': 0, 'B': 0}, {'A': 1, 'B': 2}, {'A': 2, 'B': 4}, {'A': 3, 'B': 6}, {'A': 4, 'B': 8}]\n",
      "   A  B\n",
      "0  0  0\n",
      "1  1  2\n",
      "2  2  4\n",
      "3  3  6\n",
      "4  4  8\n"
     ]
    }
   ],
   "source": [
    "# 收集数据\n",
    "rows = [{'A': i, 'B': i*2} for i in range(5)]\n",
    "print(rows)\n",
    "# 一次性创建DataFrame\n",
    "df = pd.DataFrame(rows)\n",
    "# 或者如果df已经存在，则\n",
    "# df = pd.concat([df, pd.DataFrame(rows)], ignore_index=True)\n",
    "print(df)"
   ]
  },
  {
   "cell_type": "code",
   "execution_count": null,
   "id": "3786658c",
   "metadata": {},
   "outputs": [],
   "source": []
  }
 ],
 "metadata": {
  "kernelspec": {
   "display_name": "Python 3 (ipykernel)",
   "language": "python",
   "name": "python3"
  },
  "language_info": {
   "codemirror_mode": {
    "name": "ipython",
    "version": 3
   },
   "file_extension": ".py",
   "mimetype": "text/x-python",
   "name": "python",
   "nbconvert_exporter": "python",
   "pygments_lexer": "ipython3",
   "version": "3.12.1"
  },
  "toc": {
   "base_numbering": 1,
   "nav_menu": {},
   "number_sections": true,
   "sideBar": true,
   "skip_h1_title": false,
   "title_cell": "Table of Contents",
   "title_sidebar": "Contents",
   "toc_cell": false,
   "toc_position": {},
   "toc_section_display": true,
   "toc_window_display": true
  },
  "varInspector": {
   "cols": {
    "lenName": 16,
    "lenType": 16,
    "lenVar": 40
   },
   "kernels_config": {
    "python": {
     "delete_cmd_postfix": "",
     "delete_cmd_prefix": "del ",
     "library": "var_list.py",
     "varRefreshCmd": "print(var_dic_list())"
    },
    "r": {
     "delete_cmd_postfix": ") ",
     "delete_cmd_prefix": "rm(",
     "library": "var_list.r",
     "varRefreshCmd": "cat(var_dic_list()) "
    }
   },
   "types_to_exclude": [
    "module",
    "function",
    "builtin_function_or_method",
    "instance",
    "_Feature"
   ],
   "window_display": false
  }
 },
 "nbformat": 4,
 "nbformat_minor": 5
}
