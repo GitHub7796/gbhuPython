{
 "cells": [
  {
   "cell_type": "markdown",
   "id": "9d182271",
   "metadata": {},
   "source": [
    "# 数据清洗"
   ]
  },
  {
   "cell_type": "markdown",
   "id": "7a9d138b",
   "metadata": {},
   "source": [
    "数据清洗是查找、纠正数据集的NaN和异常点\n",
    "\n",
    "数据清洗的方法取决于数据存储方式和分析的方向\n",
    "\n",
    "数据清洗不是为了删除数据，而是在尽量不删除数据最大限度提高数据集准确性"
   ]
  },
  {
   "cell_type": "markdown",
   "id": "4e1049cd",
   "metadata": {},
   "source": [
    "## 数据清洗操作"
   ]
  },
  {
   "cell_type": "markdown",
   "id": "0a23ba31",
   "metadata": {},
   "source": [
    "Pandas 提供以下核心的数据清洗操作：\n",
    "```\n",
    "DataFrame.dropna(self[, axis, how, thresh, …])\n",
    "DataFrame.fillna(self[, value, method, …])\n",
    "DataFrame.replace(self[, to_replace, value, …])\n",
    "DataFrame.interpolate(self[, method, axis, …])\n",
    "```\n",
    "主要完成以下工作：\n",
    "```\n",
    "缺失值的认定\n",
    "缺失值数字\n",
    "缺失日期时间\n",
    "插入缺失值\n",
    "缺失值计算\n",
    "聚合分组中的缺失值\n",
    "缺失值填充 .interpolate()\n",
    "清除缺失值\n",
    "替换泛型值\n",
    "```"
   ]
  },
  {
   "cell_type": "markdown",
   "id": "c5369054",
   "metadata": {},
   "source": [
    "## 缺失值判定"
   ]
  },
  {
   "cell_type": "markdown",
   "id": "241d697b",
   "metadata": {},
   "source": [
    "### 缺失值类型"
   ]
  },
  {
   "cell_type": "markdown",
   "id": "35e6681d",
   "metadata": {},
   "source": [
    "一般使用特殊类型 NaN 代表缺失值，可以用 Numpy 可定义它np.NaN/np.nan。在 Pandas 1.0 以后实验性地使用一个标量 pd.NA 来代表"
   ]
  },
  {
   "cell_type": "markdown",
   "id": "259d2d98",
   "metadata": {},
   "source": [
    "如果想把正负无穷也为认是缺失值，可以通过以下全局配置来设定："
   ]
  },
  {
   "cell_type": "code",
   "execution_count": null,
   "id": "70994473",
   "metadata": {},
   "outputs": [],
   "source": [
    "pandas.options.mode.use_inf_as_na = True"
   ]
  },
  {
   "cell_type": "markdown",
   "id": "d55b8fc3",
   "metadata": {},
   "source": [
    "需要注意的是，Numpy 中 np.nan 和 np.nan 不相等，因此不能用 ==/!= 进行对比："
   ]
  },
  {
   "cell_type": "code",
   "execution_count": 7,
   "id": "d6ad6c7d",
   "metadata": {},
   "outputs": [
    {
     "data": {
      "text/plain": [
       "True"
      ]
     },
     "execution_count": 7,
     "metadata": {},
     "output_type": "execute_result"
    }
   ],
   "source": [
    "None==None"
   ]
  },
  {
   "cell_type": "code",
   "execution_count": 9,
   "id": "845d45d2",
   "metadata": {},
   "outputs": [
    {
     "data": {
      "text/plain": [
       "False"
      ]
     },
     "execution_count": 9,
     "metadata": {},
     "output_type": "execute_result"
    }
   ],
   "source": [
    "np.nan==np.nan"
   ]
  },
  {
   "cell_type": "code",
   "execution_count": 11,
   "id": "32f249b9",
   "metadata": {},
   "outputs": [
    {
     "data": {
      "text/plain": [
       "False"
      ]
     },
     "execution_count": 11,
     "metadata": {},
     "output_type": "execute_result"
    }
   ],
   "source": [
    "None==np.nan"
   ]
  },
  {
   "cell_type": "markdown",
   "id": "5d755024",
   "metadata": {},
   "source": [
    "判断 dataframe、series 数据是否为 空\n",
    "```\n",
    "**dataframe**\n",
    "df.notna()\n",
    "df.isna()\n",
    "df.isnull()\n",
    "**serise**\n",
    "df['team'].notna()\n",
    "df['team'].isna()\n",
    "df['team'].isnull()\n",
    "```"
   ]
  },
  {
   "cell_type": "markdown",
   "id": "1c1bbd5a",
   "metadata": {},
   "source": [
    "创建数据"
   ]
  },
  {
   "cell_type": "code",
   "execution_count": 4,
   "id": "dbb3b92e",
   "metadata": {},
   "outputs": [
    {
     "data": {
      "text/html": [
       "<div>\n",
       "<style scoped>\n",
       "    .dataframe tbody tr th:only-of-type {\n",
       "        vertical-align: middle;\n",
       "    }\n",
       "\n",
       "    .dataframe tbody tr th {\n",
       "        vertical-align: top;\n",
       "    }\n",
       "\n",
       "    .dataframe thead th {\n",
       "        text-align: right;\n",
       "    }\n",
       "</style>\n",
       "<table border=\"1\" class=\"dataframe\">\n",
       "  <thead>\n",
       "    <tr style=\"text-align: right;\">\n",
       "      <th></th>\n",
       "      <th>one</th>\n",
       "      <th>two</th>\n",
       "      <th>three</th>\n",
       "    </tr>\n",
       "  </thead>\n",
       "  <tbody>\n",
       "    <tr>\n",
       "      <th>a</th>\n",
       "      <td>0.150429</td>\n",
       "      <td>-0.510476</td>\n",
       "      <td>-0.903740</td>\n",
       "    </tr>\n",
       "    <tr>\n",
       "      <th>b</th>\n",
       "      <td>NaN</td>\n",
       "      <td>NaN</td>\n",
       "      <td>NaN</td>\n",
       "    </tr>\n",
       "    <tr>\n",
       "      <th>c</th>\n",
       "      <td>0.293057</td>\n",
       "      <td>0.057782</td>\n",
       "      <td>-0.297130</td>\n",
       "    </tr>\n",
       "    <tr>\n",
       "      <th>d</th>\n",
       "      <td>NaN</td>\n",
       "      <td>NaN</td>\n",
       "      <td>NaN</td>\n",
       "    </tr>\n",
       "    <tr>\n",
       "      <th>e</th>\n",
       "      <td>1.733106</td>\n",
       "      <td>0.389178</td>\n",
       "      <td>0.318092</td>\n",
       "    </tr>\n",
       "    <tr>\n",
       "      <th>f</th>\n",
       "      <td>-0.257835</td>\n",
       "      <td>1.601407</td>\n",
       "      <td>0.615031</td>\n",
       "    </tr>\n",
       "    <tr>\n",
       "      <th>g</th>\n",
       "      <td>NaN</td>\n",
       "      <td>NaN</td>\n",
       "      <td>NaN</td>\n",
       "    </tr>\n",
       "    <tr>\n",
       "      <th>h</th>\n",
       "      <td>1.508012</td>\n",
       "      <td>-0.644326</td>\n",
       "      <td>-1.003819</td>\n",
       "    </tr>\n",
       "  </tbody>\n",
       "</table>\n",
       "</div>"
      ],
      "text/plain": [
       "        one       two     three\n",
       "a  0.150429 -0.510476 -0.903740\n",
       "b       NaN       NaN       NaN\n",
       "c  0.293057  0.057782 -0.297130\n",
       "d       NaN       NaN       NaN\n",
       "e  1.733106  0.389178  0.318092\n",
       "f -0.257835  1.601407  0.615031\n",
       "g       NaN       NaN       NaN\n",
       "h  1.508012 -0.644326 -1.003819"
      ]
     },
     "execution_count": 4,
     "metadata": {},
     "output_type": "execute_result"
    }
   ],
   "source": [
    "df=(pd.DataFrame(np.random.randn(5, 3),\n",
    "              index=['a', 'c', 'e', 'f', 'h'], \n",
    "              columns=['one', 'two', 'three'])\n",
    ".reindex(['a', 'b', 'c', 'd', 'e', 'f', 'g', 'h'])\n",
    ")\n",
    "df"
   ]
  },
  {
   "cell_type": "code",
   "execution_count": 14,
   "id": "58431c86",
   "metadata": {
    "scrolled": true
   },
   "outputs": [
    {
     "data": {
      "text/html": [
       "<div>\n",
       "<style scoped>\n",
       "    .dataframe tbody tr th:only-of-type {\n",
       "        vertical-align: middle;\n",
       "    }\n",
       "\n",
       "    .dataframe tbody tr th {\n",
       "        vertical-align: top;\n",
       "    }\n",
       "\n",
       "    .dataframe thead th {\n",
       "        text-align: right;\n",
       "    }\n",
       "</style>\n",
       "<table border=\"1\" class=\"dataframe\">\n",
       "  <thead>\n",
       "    <tr style=\"text-align: right;\">\n",
       "      <th></th>\n",
       "      <th>one</th>\n",
       "      <th>two</th>\n",
       "      <th>three</th>\n",
       "    </tr>\n",
       "  </thead>\n",
       "  <tbody>\n",
       "    <tr>\n",
       "      <th>a</th>\n",
       "      <td>0.150429</td>\n",
       "      <td>-0.510476</td>\n",
       "      <td>-0.903740</td>\n",
       "    </tr>\n",
       "    <tr>\n",
       "      <th>c</th>\n",
       "      <td>0.293057</td>\n",
       "      <td>0.057782</td>\n",
       "      <td>-0.297130</td>\n",
       "    </tr>\n",
       "    <tr>\n",
       "      <th>e</th>\n",
       "      <td>1.733106</td>\n",
       "      <td>0.389178</td>\n",
       "      <td>0.318092</td>\n",
       "    </tr>\n",
       "    <tr>\n",
       "      <th>f</th>\n",
       "      <td>-0.257835</td>\n",
       "      <td>1.601407</td>\n",
       "      <td>0.615031</td>\n",
       "    </tr>\n",
       "    <tr>\n",
       "      <th>h</th>\n",
       "      <td>1.508012</td>\n",
       "      <td>-0.644326</td>\n",
       "      <td>-1.003819</td>\n",
       "    </tr>\n",
       "  </tbody>\n",
       "</table>\n",
       "</div>"
      ],
      "text/plain": [
       "        one       two     three\n",
       "a  0.150429 -0.510476 -0.903740\n",
       "c  0.293057  0.057782 -0.297130\n",
       "e  1.733106  0.389178  0.318092\n",
       "f -0.257835  1.601407  0.615031\n",
       "h  1.508012 -0.644326 -1.003819"
      ]
     },
     "execution_count": 14,
     "metadata": {},
     "output_type": "execute_result"
    }
   ],
   "source": [
    "# 进行筛选\n",
    "df[df.one.notna()]"
   ]
  },
  {
   "cell_type": "code",
   "execution_count": 26,
   "id": "ef354009",
   "metadata": {
    "scrolled": true
   },
   "outputs": [
    {
     "data": {
      "text/plain": [
       "'h'"
      ]
     },
     "execution_count": 26,
     "metadata": {},
     "output_type": "execute_result"
    }
   ],
   "source": [
    "# 每列有多少个缺失值\n",
    "df.isnull().sum()\n",
    "# 每行有多少个缺失值\n",
    "df.isnull().sum(1)\n",
    "# 总共共有多少个缺失值\n",
    "df.isna().sum().sum()\n",
    "# 有缺失值的行\n",
    "df.loc[df.isna().any(1)]\n",
    "# 有缺失值的列\n",
    "df.loc[:,df.isna().any()]\n",
    "# 没有缺失值的行\n",
    "df.loc[~(df.isna().any(1))]\n",
    "# 没有缺失值的列\n",
    "df.loc[:,~(df.isna().any())]\n",
    "\n",
    "# 返回第一个非NA/空值的索引\n",
    "# valid 有效的\n",
    "df.first_valid_index() # 0\n",
    "# 返回最后一个非NA/空值的索引\n",
    "df.last_valid_index() # 99"
   ]
  },
  {
   "cell_type": "markdown",
   "id": "edae914d",
   "metadata": {},
   "source": [
    "## Pandas数据清洗"
   ]
  },
  {
   "cell_type": "markdown",
   "id": "306e2e96",
   "metadata": {},
   "source": [
    "### 缺失值认定"
   ]
  },
  {
   "cell_type": "markdown",
   "id": "d78f9479",
   "metadata": {},
   "source": [
    "### 缺失值操作"
   ]
  },
  {
   "cell_type": "markdown",
   "id": "cd897f10",
   "metadata": {},
   "source": [
    "### 数据替换"
   ]
  },
  {
   "cell_type": "markdown",
   "id": "1f408dce",
   "metadata": {},
   "source": [
    "### 重复值及删除数据"
   ]
  },
  {
   "cell_type": "markdown",
   "id": "5d9a7c11",
   "metadata": {},
   "source": [
    "### NumPy格式转换"
   ]
  },
  {
   "cell_type": "markdown",
   "id": "c89f23e4",
   "metadata": {},
   "source": [
    "## Pandas 文本处理"
   ]
  },
  {
   "cell_type": "markdown",
   "id": "18037102",
   "metadata": {},
   "source": [
    "### 数据类型"
   ]
  },
  {
   "cell_type": "markdown",
   "id": "5144e8ff",
   "metadata": {},
   "source": [
    "### 字符的操作"
   ]
  },
  {
   "cell_type": "markdown",
   "id": "88348b8a",
   "metadata": {},
   "source": [
    "### 文本高级处理"
   ]
  },
  {
   "cell_type": "markdown",
   "id": "afb3b83e",
   "metadata": {},
   "source": [
    "## Pandas分类数据"
   ]
  },
  {
   "cell_type": "markdown",
   "id": "794194ab",
   "metadata": {},
   "source": [
    "### 分类数据"
   ]
  },
  {
   "cell_type": "markdown",
   "id": "6e53f873",
   "metadata": {},
   "source": [
    "### 分类操作"
   ]
  },
  {
   "cell_type": "code",
   "execution_count": null,
   "id": "db3dfe03",
   "metadata": {},
   "outputs": [],
   "source": []
  }
 ],
 "metadata": {
  "kernelspec": {
   "display_name": "Python 3 (ipykernel)",
   "language": "python",
   "name": "python3"
  },
  "language_info": {
   "codemirror_mode": {
    "name": "ipython",
    "version": 3
   },
   "file_extension": ".py",
   "mimetype": "text/x-python",
   "name": "python",
   "nbconvert_exporter": "python",
   "pygments_lexer": "ipython3",
   "version": "3.9.7"
  },
  "toc": {
   "base_numbering": 1,
   "nav_menu": {},
   "number_sections": true,
   "sideBar": true,
   "skip_h1_title": false,
   "title_cell": "Table of Contents",
   "title_sidebar": "Contents",
   "toc_cell": false,
   "toc_position": {},
   "toc_section_display": true,
   "toc_window_display": false
  },
  "varInspector": {
   "cols": {
    "lenName": 16,
    "lenType": 16,
    "lenVar": 40
   },
   "kernels_config": {
    "python": {
     "delete_cmd_postfix": "",
     "delete_cmd_prefix": "del ",
     "library": "var_list.py",
     "varRefreshCmd": "print(var_dic_list())"
    },
    "r": {
     "delete_cmd_postfix": ") ",
     "delete_cmd_prefix": "rm(",
     "library": "var_list.r",
     "varRefreshCmd": "cat(var_dic_list()) "
    }
   },
   "types_to_exclude": [
    "module",
    "function",
    "builtin_function_or_method",
    "instance",
    "_Feature"
   ],
   "window_display": false
  }
 },
 "nbformat": 4,
 "nbformat_minor": 5
}
