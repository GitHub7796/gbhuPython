{
 "cells": [
  {
   "cell_type": "markdown",
   "id": "b688b93a",
   "metadata": {},
   "source": [
    "数据准备"
   ]
  },
  {
   "cell_type": "code",
   "execution_count": 2,
   "id": "94b2a8aa",
   "metadata": {
    "ExecuteTime": {
     "end_time": "2022-04-06T10:12:34.598108Z",
     "start_time": "2022-04-06T10:12:34.559212Z"
    }
   },
   "outputs": [
    {
     "data": {
      "text/html": [
       "<div>\n",
       "<style scoped>\n",
       "    .dataframe tbody tr th:only-of-type {\n",
       "        vertical-align: middle;\n",
       "    }\n",
       "\n",
       "    .dataframe tbody tr th {\n",
       "        vertical-align: top;\n",
       "    }\n",
       "\n",
       "    .dataframe thead tr th {\n",
       "        text-align: left;\n",
       "    }\n",
       "\n",
       "    .dataframe thead tr:last-of-type th {\n",
       "        text-align: right;\n",
       "    }\n",
       "</style>\n",
       "<table border=\"1\" class=\"dataframe\">\n",
       "  <thead>\n",
       "    <tr>\n",
       "      <th></th>\n",
       "      <th>number</th>\n",
       "      <th colspan=\"2\" halign=\"left\">1</th>\n",
       "      <th colspan=\"2\" halign=\"left\">2</th>\n",
       "      <th colspan=\"2\" halign=\"left\">3</th>\n",
       "    </tr>\n",
       "    <tr>\n",
       "      <th></th>\n",
       "      <th>color</th>\n",
       "      <th>bule</th>\n",
       "      <th>green</th>\n",
       "      <th>bule</th>\n",
       "      <th>green</th>\n",
       "      <th>bule</th>\n",
       "      <th>green</th>\n",
       "    </tr>\n",
       "    <tr>\n",
       "      <th>number</th>\n",
       "      <th>color</th>\n",
       "      <th></th>\n",
       "      <th></th>\n",
       "      <th></th>\n",
       "      <th></th>\n",
       "      <th></th>\n",
       "      <th></th>\n",
       "    </tr>\n",
       "  </thead>\n",
       "  <tbody>\n",
       "    <tr>\n",
       "      <th rowspan=\"2\" valign=\"top\">1</th>\n",
       "      <th>bule</th>\n",
       "      <td>0.306405</td>\n",
       "      <td>-0.831923</td>\n",
       "      <td>-0.309999</td>\n",
       "      <td>0.717170</td>\n",
       "      <td>1.081196</td>\n",
       "      <td>1.344566</td>\n",
       "    </tr>\n",
       "    <tr>\n",
       "      <th>green</th>\n",
       "      <td>0.177813</td>\n",
       "      <td>-0.899795</td>\n",
       "      <td>-1.900077</td>\n",
       "      <td>-1.485457</td>\n",
       "      <td>-0.425468</td>\n",
       "      <td>0.091279</td>\n",
       "    </tr>\n",
       "    <tr>\n",
       "      <th rowspan=\"2\" valign=\"top\">2</th>\n",
       "      <th>bule</th>\n",
       "      <td>1.078996</td>\n",
       "      <td>-2.353536</td>\n",
       "      <td>-0.416396</td>\n",
       "      <td>-1.205152</td>\n",
       "      <td>-1.326024</td>\n",
       "      <td>-0.231985</td>\n",
       "    </tr>\n",
       "    <tr>\n",
       "      <th>green</th>\n",
       "      <td>1.699191</td>\n",
       "      <td>0.036600</td>\n",
       "      <td>-0.720186</td>\n",
       "      <td>-1.776045</td>\n",
       "      <td>1.669891</td>\n",
       "      <td>0.469562</td>\n",
       "    </tr>\n",
       "    <tr>\n",
       "      <th rowspan=\"2\" valign=\"top\">3</th>\n",
       "      <th>bule</th>\n",
       "      <td>0.148632</td>\n",
       "      <td>0.744012</td>\n",
       "      <td>-1.238803</td>\n",
       "      <td>0.380989</td>\n",
       "      <td>0.419839</td>\n",
       "      <td>0.473438</td>\n",
       "    </tr>\n",
       "    <tr>\n",
       "      <th>green</th>\n",
       "      <td>1.029978</td>\n",
       "      <td>0.251970</td>\n",
       "      <td>-0.316622</td>\n",
       "      <td>-1.637931</td>\n",
       "      <td>0.107140</td>\n",
       "      <td>-1.488764</td>\n",
       "    </tr>\n",
       "  </tbody>\n",
       "</table>\n",
       "</div>"
      ],
      "text/plain": [
       "number               1                   2                   3          \n",
       "color             bule     green      bule     green      bule     green\n",
       "number color                                                            \n",
       "1      bule   0.306405 -0.831923 -0.309999  0.717170  1.081196  1.344566\n",
       "       green  0.177813 -0.899795 -1.900077 -1.485457 -0.425468  0.091279\n",
       "2      bule   1.078996 -2.353536 -0.416396 -1.205152 -1.326024 -0.231985\n",
       "       green  1.699191  0.036600 -0.720186 -1.776045  1.669891  0.469562\n",
       "3      bule   0.148632  0.744012 -1.238803  0.380989  0.419839  0.473438\n",
       "       green  1.029978  0.251970 -0.316622 -1.637931  0.107140 -1.488764"
      ]
     },
     "execution_count": 2,
     "metadata": {},
     "output_type": "execute_result"
    }
   ],
   "source": [
    "import pandas as pd\n",
    "import numpy as np\n",
    "\n",
    "iterables = [['1', '2', '3'], ['bule', 'green']]\n",
    "arrays = pd.MultiIndex.from_product(iterables, names=['number', 'color'])\n",
    "use_df = pd.DataFrame(\n",
    "    np.random.randn(6,6),\n",
    "    index = arrays,\n",
    "    columns=arrays\n",
    ")\n",
    "use_df"
   ]
  },
  {
   "cell_type": "markdown",
   "id": "86d10bb3",
   "metadata": {},
   "source": [
    "# 获取索引"
   ]
  },
  {
   "cell_type": "code",
   "execution_count": 14,
   "id": "701965a3",
   "metadata": {
    "ExecuteTime": {
     "end_time": "2022-04-06T10:58:59.999744Z",
     "start_time": "2022-04-06T10:58:59.989771Z"
    }
   },
   "outputs": [
    {
     "data": {
      "text/plain": [
       "MultiIndex([('1',  'bule'),\n",
       "            ('1', 'green'),\n",
       "            ('2',  'bule'),\n",
       "            ('2', 'green'),\n",
       "            ('3',  'bule'),\n",
       "            ('3', 'green')],\n",
       "           names=['number', 'color'])"
      ]
     },
     "execution_count": 14,
     "metadata": {},
     "output_type": "execute_result"
    }
   ],
   "source": [
    "use_df.index"
   ]
  },
  {
   "cell_type": "code",
   "execution_count": 15,
   "id": "efdb63b7",
   "metadata": {
    "ExecuteTime": {
     "end_time": "2022-04-06T10:59:09.882334Z",
     "start_time": "2022-04-06T10:59:09.868371Z"
    }
   },
   "outputs": [
    {
     "data": {
      "text/plain": [
       "array([('1', 'bule'), ('1', 'green'), ('2', 'bule'), ('2', 'green'),\n",
       "       ('3', 'bule'), ('3', 'green')], dtype=object)"
      ]
     },
     "execution_count": 15,
     "metadata": {},
     "output_type": "execute_result"
    }
   ],
   "source": [
    "use_df.index.values"
   ]
  },
  {
   "cell_type": "code",
   "execution_count": 17,
   "id": "03b52cad",
   "metadata": {
    "ExecuteTime": {
     "end_time": "2022-04-06T10:59:58.207191Z",
     "start_time": "2022-04-06T10:59:58.190237Z"
    }
   },
   "outputs": [
    {
     "data": {
      "text/plain": [
       "Index(['1', '1', '2', '2', '3', '3'], dtype='object', name='number')"
      ]
     },
     "execution_count": 17,
     "metadata": {},
     "output_type": "execute_result"
    }
   ],
   "source": [
    "use_df.index.get_level_values(0)\n",
    "# use_df.index.get_level_values('number')"
   ]
  },
  {
   "cell_type": "markdown",
   "id": "440dcd12",
   "metadata": {},
   "source": [
    "# 获取数据"
   ]
  },
  {
   "cell_type": "code",
   "execution_count": 10,
   "id": "1f1a08d5",
   "metadata": {
    "ExecuteTime": {
     "end_time": "2022-04-06T10:54:45.086443Z",
     "start_time": "2022-04-06T10:54:45.067494Z"
    }
   },
   "outputs": [
    {
     "data": {
      "text/html": [
       "<div>\n",
       "<style scoped>\n",
       "    .dataframe tbody tr th:only-of-type {\n",
       "        vertical-align: middle;\n",
       "    }\n",
       "\n",
       "    .dataframe tbody tr th {\n",
       "        vertical-align: top;\n",
       "    }\n",
       "\n",
       "    .dataframe thead th {\n",
       "        text-align: right;\n",
       "    }\n",
       "</style>\n",
       "<table border=\"1\" class=\"dataframe\">\n",
       "  <thead>\n",
       "    <tr style=\"text-align: right;\">\n",
       "      <th></th>\n",
       "      <th>color</th>\n",
       "      <th>bule</th>\n",
       "      <th>green</th>\n",
       "    </tr>\n",
       "    <tr>\n",
       "      <th>number</th>\n",
       "      <th>color</th>\n",
       "      <th></th>\n",
       "      <th></th>\n",
       "    </tr>\n",
       "  </thead>\n",
       "  <tbody>\n",
       "    <tr>\n",
       "      <th rowspan=\"2\" valign=\"top\">1</th>\n",
       "      <th>bule</th>\n",
       "      <td>0.306405</td>\n",
       "      <td>-0.831923</td>\n",
       "    </tr>\n",
       "    <tr>\n",
       "      <th>green</th>\n",
       "      <td>0.177813</td>\n",
       "      <td>-0.899795</td>\n",
       "    </tr>\n",
       "    <tr>\n",
       "      <th rowspan=\"2\" valign=\"top\">2</th>\n",
       "      <th>bule</th>\n",
       "      <td>1.078996</td>\n",
       "      <td>-2.353536</td>\n",
       "    </tr>\n",
       "    <tr>\n",
       "      <th>green</th>\n",
       "      <td>1.699191</td>\n",
       "      <td>0.036600</td>\n",
       "    </tr>\n",
       "    <tr>\n",
       "      <th rowspan=\"2\" valign=\"top\">3</th>\n",
       "      <th>bule</th>\n",
       "      <td>0.148632</td>\n",
       "      <td>0.744012</td>\n",
       "    </tr>\n",
       "    <tr>\n",
       "      <th>green</th>\n",
       "      <td>1.029978</td>\n",
       "      <td>0.251970</td>\n",
       "    </tr>\n",
       "  </tbody>\n",
       "</table>\n",
       "</div>"
      ],
      "text/plain": [
       "color             bule     green\n",
       "number color                    \n",
       "1      bule   0.306405 -0.831923\n",
       "       green  0.177813 -0.899795\n",
       "2      bule   1.078996 -2.353536\n",
       "       green  1.699191  0.036600\n",
       "3      bule   0.148632  0.744012\n",
       "       green  1.029978  0.251970"
      ]
     },
     "execution_count": 10,
     "metadata": {},
     "output_type": "execute_result"
    }
   ],
   "source": [
    "use_df['1']"
   ]
  },
  {
   "cell_type": "code",
   "execution_count": 11,
   "id": "86fe9e90",
   "metadata": {
    "ExecuteTime": {
     "end_time": "2022-04-06T10:55:26.609477Z",
     "start_time": "2022-04-06T10:55:26.585544Z"
    }
   },
   "outputs": [
    {
     "data": {
      "text/html": [
       "<div>\n",
       "<style scoped>\n",
       "    .dataframe tbody tr th:only-of-type {\n",
       "        vertical-align: middle;\n",
       "    }\n",
       "\n",
       "    .dataframe tbody tr th {\n",
       "        vertical-align: top;\n",
       "    }\n",
       "\n",
       "    .dataframe thead tr th {\n",
       "        text-align: left;\n",
       "    }\n",
       "\n",
       "    .dataframe thead tr:last-of-type th {\n",
       "        text-align: right;\n",
       "    }\n",
       "</style>\n",
       "<table border=\"1\" class=\"dataframe\">\n",
       "  <thead>\n",
       "    <tr>\n",
       "      <th></th>\n",
       "      <th>number</th>\n",
       "      <th colspan=\"2\" halign=\"left\">1</th>\n",
       "      <th colspan=\"2\" halign=\"left\">2</th>\n",
       "    </tr>\n",
       "    <tr>\n",
       "      <th></th>\n",
       "      <th>color</th>\n",
       "      <th>bule</th>\n",
       "      <th>green</th>\n",
       "      <th>bule</th>\n",
       "      <th>green</th>\n",
       "    </tr>\n",
       "    <tr>\n",
       "      <th>number</th>\n",
       "      <th>color</th>\n",
       "      <th></th>\n",
       "      <th></th>\n",
       "      <th></th>\n",
       "      <th></th>\n",
       "    </tr>\n",
       "  </thead>\n",
       "  <tbody>\n",
       "    <tr>\n",
       "      <th rowspan=\"2\" valign=\"top\">1</th>\n",
       "      <th>bule</th>\n",
       "      <td>0.306405</td>\n",
       "      <td>-0.831923</td>\n",
       "      <td>-0.309999</td>\n",
       "      <td>0.717170</td>\n",
       "    </tr>\n",
       "    <tr>\n",
       "      <th>green</th>\n",
       "      <td>0.177813</td>\n",
       "      <td>-0.899795</td>\n",
       "      <td>-1.900077</td>\n",
       "      <td>-1.485457</td>\n",
       "    </tr>\n",
       "    <tr>\n",
       "      <th rowspan=\"2\" valign=\"top\">2</th>\n",
       "      <th>bule</th>\n",
       "      <td>1.078996</td>\n",
       "      <td>-2.353536</td>\n",
       "      <td>-0.416396</td>\n",
       "      <td>-1.205152</td>\n",
       "    </tr>\n",
       "    <tr>\n",
       "      <th>green</th>\n",
       "      <td>1.699191</td>\n",
       "      <td>0.036600</td>\n",
       "      <td>-0.720186</td>\n",
       "      <td>-1.776045</td>\n",
       "    </tr>\n",
       "    <tr>\n",
       "      <th rowspan=\"2\" valign=\"top\">3</th>\n",
       "      <th>bule</th>\n",
       "      <td>0.148632</td>\n",
       "      <td>0.744012</td>\n",
       "      <td>-1.238803</td>\n",
       "      <td>0.380989</td>\n",
       "    </tr>\n",
       "    <tr>\n",
       "      <th>green</th>\n",
       "      <td>1.029978</td>\n",
       "      <td>0.251970</td>\n",
       "      <td>-0.316622</td>\n",
       "      <td>-1.637931</td>\n",
       "    </tr>\n",
       "  </tbody>\n",
       "</table>\n",
       "</div>"
      ],
      "text/plain": [
       "number               1                   2          \n",
       "color             bule     green      bule     green\n",
       "number color                                        \n",
       "1      bule   0.306405 -0.831923 -0.309999  0.717170\n",
       "       green  0.177813 -0.899795 -1.900077 -1.485457\n",
       "2      bule   1.078996 -2.353536 -0.416396 -1.205152\n",
       "       green  1.699191  0.036600 -0.720186 -1.776045\n",
       "3      bule   0.148632  0.744012 -1.238803  0.380989\n",
       "       green  1.029978  0.251970 -0.316622 -1.637931"
      ]
     },
     "execution_count": 11,
     "metadata": {},
     "output_type": "execute_result"
    }
   ],
   "source": [
    "use_df[['1','2']]"
   ]
  },
  {
   "cell_type": "code",
   "execution_count": 12,
   "id": "ae8e6522",
   "metadata": {
    "ExecuteTime": {
     "end_time": "2022-04-06T10:55:49.009615Z",
     "start_time": "2022-04-06T10:55:48.982688Z"
    }
   },
   "outputs": [
    {
     "data": {
      "text/html": [
       "<div>\n",
       "<style scoped>\n",
       "    .dataframe tbody tr th:only-of-type {\n",
       "        vertical-align: middle;\n",
       "    }\n",
       "\n",
       "    .dataframe tbody tr th {\n",
       "        vertical-align: top;\n",
       "    }\n",
       "\n",
       "    .dataframe thead tr th {\n",
       "        text-align: left;\n",
       "    }\n",
       "\n",
       "    .dataframe thead tr:last-of-type th {\n",
       "        text-align: right;\n",
       "    }\n",
       "</style>\n",
       "<table border=\"1\" class=\"dataframe\">\n",
       "  <thead>\n",
       "    <tr>\n",
       "      <th>number</th>\n",
       "      <th colspan=\"2\" halign=\"left\">1</th>\n",
       "      <th colspan=\"2\" halign=\"left\">2</th>\n",
       "      <th colspan=\"2\" halign=\"left\">3</th>\n",
       "    </tr>\n",
       "    <tr>\n",
       "      <th>color</th>\n",
       "      <th>bule</th>\n",
       "      <th>green</th>\n",
       "      <th>bule</th>\n",
       "      <th>green</th>\n",
       "      <th>bule</th>\n",
       "      <th>green</th>\n",
       "    </tr>\n",
       "    <tr>\n",
       "      <th>color</th>\n",
       "      <th></th>\n",
       "      <th></th>\n",
       "      <th></th>\n",
       "      <th></th>\n",
       "      <th></th>\n",
       "      <th></th>\n",
       "    </tr>\n",
       "  </thead>\n",
       "  <tbody>\n",
       "    <tr>\n",
       "      <th>bule</th>\n",
       "      <td>0.306405</td>\n",
       "      <td>-0.831923</td>\n",
       "      <td>-0.309999</td>\n",
       "      <td>0.717170</td>\n",
       "      <td>1.081196</td>\n",
       "      <td>1.344566</td>\n",
       "    </tr>\n",
       "    <tr>\n",
       "      <th>green</th>\n",
       "      <td>0.177813</td>\n",
       "      <td>-0.899795</td>\n",
       "      <td>-1.900077</td>\n",
       "      <td>-1.485457</td>\n",
       "      <td>-0.425468</td>\n",
       "      <td>0.091279</td>\n",
       "    </tr>\n",
       "  </tbody>\n",
       "</table>\n",
       "</div>"
      ],
      "text/plain": [
       "number         1                   2                   3          \n",
       "color       bule     green      bule     green      bule     green\n",
       "color                                                             \n",
       "bule    0.306405 -0.831923 -0.309999  0.717170  1.081196  1.344566\n",
       "green   0.177813 -0.899795 -1.900077 -1.485457 -0.425468  0.091279"
      ]
     },
     "execution_count": 12,
     "metadata": {},
     "output_type": "execute_result"
    }
   ],
   "source": [
    "use_df.loc['1']"
   ]
  },
  {
   "cell_type": "code",
   "execution_count": null,
   "id": "e41cf14e",
   "metadata": {},
   "outputs": [],
   "source": []
  }
 ],
 "metadata": {
  "kernelspec": {
   "display_name": "Python 3 (ipykernel)",
   "language": "python",
   "name": "python3"
  },
  "language_info": {
   "codemirror_mode": {
    "name": "ipython",
    "version": 3
   },
   "file_extension": ".py",
   "mimetype": "text/x-python",
   "name": "python",
   "nbconvert_exporter": "python",
   "pygments_lexer": "ipython3",
   "version": "3.9.7"
  },
  "toc": {
   "base_numbering": 1,
   "nav_menu": {},
   "number_sections": true,
   "sideBar": true,
   "skip_h1_title": false,
   "title_cell": "Table of Contents",
   "title_sidebar": "Contents",
   "toc_cell": false,
   "toc_position": {},
   "toc_section_display": true,
   "toc_window_display": false
  },
  "varInspector": {
   "cols": {
    "lenName": 16,
    "lenType": 16,
    "lenVar": 40
   },
   "kernels_config": {
    "python": {
     "delete_cmd_postfix": "",
     "delete_cmd_prefix": "del ",
     "library": "var_list.py",
     "varRefreshCmd": "print(var_dic_list())"
    },
    "r": {
     "delete_cmd_postfix": ") ",
     "delete_cmd_prefix": "rm(",
     "library": "var_list.r",
     "varRefreshCmd": "cat(var_dic_list()) "
    }
   },
   "types_to_exclude": [
    "module",
    "function",
    "builtin_function_or_method",
    "instance",
    "_Feature"
   ],
   "window_display": false
  }
 },
 "nbformat": 4,
 "nbformat_minor": 5
}
