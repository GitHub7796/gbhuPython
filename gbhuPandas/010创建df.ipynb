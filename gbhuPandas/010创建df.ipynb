{
 "cells": [
  {
   "cell_type": "code",
   "execution_count": 2,
   "id": "071953b4",
   "metadata": {},
   "outputs": [],
   "source": [
    "from IPython.core.interactiveshell import InteractiveShell\n",
    "InteractiveShell.ast_node_interactivity = \"all\""
   ]
  },
  {
   "cell_type": "code",
   "execution_count": 3,
   "id": "076c2304",
   "metadata": {},
   "outputs": [
    {
     "name": "stderr",
     "output_type": "stream",
     "text": [
      "C:\\Users\\26598\\AppData\\Local\\Temp\\ipykernel_8696\\3059718635.py:1: DeprecationWarning: \n",
      "Pyarrow will become a required dependency of pandas in the next major release of pandas (pandas 3.0),\n",
      "(to allow more performant data types, such as the Arrow string type, and better interoperability with other libraries)\n",
      "but was not found to be installed on your system.\n",
      "If this would cause problems for you,\n",
      "please provide us feedback at https://github.com/pandas-dev/pandas/issues/54466\n",
      "        \n",
      "  import pandas as pd\n"
     ]
    }
   ],
   "source": [
    "import pandas as pd\n",
    "import numpy as np\n",
    "import datetime"
   ]
  },
  {
   "cell_type": "markdown",
   "id": "ae9706b3",
   "metadata": {},
   "source": [
    "参考:[创建DataFrame：10种方式任你选 (qq.com)](https://mp.weixin.qq.com/s?__biz=Mzg3ODY2MDAyMQ==&mid=2247493062&idx=1&sn=915f5cd239c9499bffd56b2c398ec202&chksm=cf12f51cf8657c0ade5433ca848aa07a8b4895d29f86d962c69a31854fce7095e020fe1aeabd&scene=178&cur_album_id=1999223977226862596#rd)"
   ]
  },
  {
   "cell_type": "markdown",
   "id": "03019f9e",
   "metadata": {},
   "source": [
    "## 手动创建df"
   ]
  },
  {
   "cell_type": "markdown",
   "id": "31af48ab",
   "metadata": {},
   "source": [
    "空df"
   ]
  },
  {
   "cell_type": "code",
   "execution_count": 9,
   "id": "d38cdd27",
   "metadata": {},
   "outputs": [
    {
     "data": {
      "text/html": [
       "<div>\n",
       "<style scoped>\n",
       "    .dataframe tbody tr th:only-of-type {\n",
       "        vertical-align: middle;\n",
       "    }\n",
       "\n",
       "    .dataframe tbody tr th {\n",
       "        vertical-align: top;\n",
       "    }\n",
       "\n",
       "    .dataframe thead th {\n",
       "        text-align: right;\n",
       "    }\n",
       "</style>\n",
       "<table border=\"1\" class=\"dataframe\">\n",
       "  <thead>\n",
       "    <tr style=\"text-align: right;\">\n",
       "      <th></th>\n",
       "    </tr>\n",
       "  </thead>\n",
       "  <tbody>\n",
       "  </tbody>\n",
       "</table>\n",
       "</div>"
      ],
      "text/plain": [
       "Empty DataFrame\n",
       "Columns: []\n",
       "Index: []"
      ]
     },
     "execution_count": 9,
     "metadata": {},
     "output_type": "execute_result"
    }
   ],
   "source": [
    "pd.DataFrame()"
   ]
  },
  {
   "cell_type": "code",
   "execution_count": 6,
   "id": "156b6f09",
   "metadata": {},
   "outputs": [
    {
     "data": {
      "text/html": [
       "<div>\n",
       "<style scoped>\n",
       "    .dataframe tbody tr th:only-of-type {\n",
       "        vertical-align: middle;\n",
       "    }\n",
       "\n",
       "    .dataframe tbody tr th {\n",
       "        vertical-align: top;\n",
       "    }\n",
       "\n",
       "    .dataframe thead th {\n",
       "        text-align: right;\n",
       "    }\n",
       "</style>\n",
       "<table border=\"1\" class=\"dataframe\">\n",
       "  <thead>\n",
       "    <tr style=\"text-align: right;\">\n",
       "      <th></th>\n",
       "      <th>A</th>\n",
       "      <th>B</th>\n",
       "      <th>C</th>\n",
       "    </tr>\n",
       "  </thead>\n",
       "  <tbody>\n",
       "  </tbody>\n",
       "</table>\n",
       "</div>"
      ],
      "text/plain": [
       "Empty DataFrame\n",
       "Columns: [A, B, C]\n",
       "Index: []"
      ]
     },
     "execution_count": 6,
     "metadata": {},
     "output_type": "execute_result"
    }
   ],
   "source": [
    "# index 默认 None\n",
    "pd.DataFrame(columns=['A','B','C'])"
   ]
  },
  {
   "cell_type": "markdown",
   "id": "8dbdb8f3",
   "metadata": {},
   "source": [
    "可以看出 index=None 的话，dataframe只有列，没有行"
   ]
  },
  {
   "cell_type": "code",
   "execution_count": 5,
   "id": "41871480",
   "metadata": {},
   "outputs": [
    {
     "data": {
      "text/html": [
       "<div>\n",
       "<style scoped>\n",
       "    .dataframe tbody tr th:only-of-type {\n",
       "        vertical-align: middle;\n",
       "    }\n",
       "\n",
       "    .dataframe tbody tr th {\n",
       "        vertical-align: top;\n",
       "    }\n",
       "\n",
       "    .dataframe thead th {\n",
       "        text-align: right;\n",
       "    }\n",
       "</style>\n",
       "<table border=\"1\" class=\"dataframe\">\n",
       "  <thead>\n",
       "    <tr style=\"text-align: right;\">\n",
       "      <th></th>\n",
       "      <th>A</th>\n",
       "      <th>B</th>\n",
       "      <th>C</th>\n",
       "    </tr>\n",
       "  </thead>\n",
       "  <tbody>\n",
       "    <tr>\n",
       "      <th>1</th>\n",
       "      <td>NaN</td>\n",
       "      <td>NaN</td>\n",
       "      <td>NaN</td>\n",
       "    </tr>\n",
       "    <tr>\n",
       "      <th>2</th>\n",
       "      <td>NaN</td>\n",
       "      <td>NaN</td>\n",
       "      <td>NaN</td>\n",
       "    </tr>\n",
       "    <tr>\n",
       "      <th>3</th>\n",
       "      <td>NaN</td>\n",
       "      <td>NaN</td>\n",
       "      <td>NaN</td>\n",
       "    </tr>\n",
       "  </tbody>\n",
       "</table>\n",
       "</div>"
      ],
      "text/plain": [
       "     A    B    C\n",
       "1  NaN  NaN  NaN\n",
       "2  NaN  NaN  NaN\n",
       "3  NaN  NaN  NaN"
      ]
     },
     "execution_count": 5,
     "metadata": {},
     "output_type": "execute_result"
    }
   ],
   "source": [
    "pd.DataFrame(columns=['A','B','C'],index=[1,2,3])"
   ]
  },
  {
   "cell_type": "markdown",
   "id": "f6c410b3",
   "metadata": {},
   "source": [
    "dict[list] 创建 df\n",
    "\n",
    "dict中是每一列的数据"
   ]
  },
  {
   "cell_type": "code",
   "execution_count": 13,
   "id": "77675e66",
   "metadata": {},
   "outputs": [
    {
     "data": {
      "text/html": [
       "<div>\n",
       "<style scoped>\n",
       "    .dataframe tbody tr th:only-of-type {\n",
       "        vertical-align: middle;\n",
       "    }\n",
       "\n",
       "    .dataframe tbody tr th {\n",
       "        vertical-align: top;\n",
       "    }\n",
       "\n",
       "    .dataframe thead th {\n",
       "        text-align: right;\n",
       "    }\n",
       "</style>\n",
       "<table border=\"1\" class=\"dataframe\">\n",
       "  <thead>\n",
       "    <tr style=\"text-align: right;\">\n",
       "      <th></th>\n",
       "      <th>name</th>\n",
       "      <th>age</th>\n",
       "      <th>sex</th>\n",
       "    </tr>\n",
       "  </thead>\n",
       "  <tbody>\n",
       "    <tr>\n",
       "      <th>0</th>\n",
       "      <td>小明</td>\n",
       "      <td>20</td>\n",
       "      <td>男</td>\n",
       "    </tr>\n",
       "    <tr>\n",
       "      <th>1</th>\n",
       "      <td>小红</td>\n",
       "      <td>18</td>\n",
       "      <td>女</td>\n",
       "    </tr>\n",
       "    <tr>\n",
       "      <th>2</th>\n",
       "      <td>小孙</td>\n",
       "      <td>27</td>\n",
       "      <td>男</td>\n",
       "    </tr>\n",
       "  </tbody>\n",
       "</table>\n",
       "</div>"
      ],
      "text/plain": [
       "  name  age sex\n",
       "0   小明   20   男\n",
       "1   小红   18   女\n",
       "2   小孙   27   男"
      ]
     },
     "execution_count": 13,
     "metadata": {},
     "output_type": "execute_result"
    }
   ],
   "source": [
    "dic1 = {\n",
    "    \"name\": [\"小明\", \"小红\", \"小孙\"],\n",
    "    \"age\": [20, 18, 27],\n",
    "    \"sex\": [\"男\", \"女\", \"男\"],\n",
    "}\n",
    "pd.DataFrame(dic1)"
   ]
  },
  {
   "cell_type": "markdown",
   "id": "1580e25c",
   "metadata": {},
   "source": [
    "dict[dict] 创建df\n",
    "\n",
    "dict中是每一列的数据"
   ]
  },
  {
   "cell_type": "code",
   "execution_count": 14,
   "id": "628ccc41",
   "metadata": {},
   "outputs": [
    {
     "data": {
      "text/html": [
       "<div>\n",
       "<style scoped>\n",
       "    .dataframe tbody tr th:only-of-type {\n",
       "        vertical-align: middle;\n",
       "    }\n",
       "\n",
       "    .dataframe tbody tr th {\n",
       "        vertical-align: top;\n",
       "    }\n",
       "\n",
       "    .dataframe thead th {\n",
       "        text-align: right;\n",
       "    }\n",
       "</style>\n",
       "<table border=\"1\" class=\"dataframe\">\n",
       "  <thead>\n",
       "    <tr style=\"text-align: right;\">\n",
       "      <th></th>\n",
       "      <th>数量</th>\n",
       "      <th>价格</th>\n",
       "      <th>产地</th>\n",
       "    </tr>\n",
       "  </thead>\n",
       "  <tbody>\n",
       "    <tr>\n",
       "      <th>苹果</th>\n",
       "      <td>3</td>\n",
       "      <td>10</td>\n",
       "      <td>陕西</td>\n",
       "    </tr>\n",
       "    <tr>\n",
       "      <th>梨</th>\n",
       "      <td>2</td>\n",
       "      <td>9</td>\n",
       "      <td>山东</td>\n",
       "    </tr>\n",
       "    <tr>\n",
       "      <th>草莓</th>\n",
       "      <td>5</td>\n",
       "      <td>8</td>\n",
       "      <td>广东</td>\n",
       "    </tr>\n",
       "  </tbody>\n",
       "</table>\n",
       "</div>"
      ],
      "text/plain": [
       "    数量  价格  产地\n",
       "苹果   3  10  陕西\n",
       "梨    2   9  山东\n",
       "草莓   5   8  广东"
      ]
     },
     "execution_count": 14,
     "metadata": {},
     "output_type": "execute_result"
    }
   ],
   "source": [
    "dic2 = {\n",
    "    \"数量\": {\"苹果\": 3, \"梨\": 2, \"草莓\": 5},\n",
    "    \"价格\": {\"苹果\": 10, \"梨\": 9, \"草莓\": 8},\n",
    "    \"产地\": {\"苹果\": \"陕西\", \"梨\": \"山东\", \"草莓\": \"广东\"},\n",
    "}\n",
    "pd.DataFrame(dic2)"
   ]
  },
  {
   "cell_type": "markdown",
   "id": "afd4f299",
   "metadata": {},
   "source": [
    "list 创建df"
   ]
  },
  {
   "cell_type": "code",
   "execution_count": 17,
   "id": "45fa5829",
   "metadata": {},
   "outputs": [
    {
     "data": {
      "text/html": [
       "<div>\n",
       "<style scoped>\n",
       "    .dataframe tbody tr th:only-of-type {\n",
       "        vertical-align: middle;\n",
       "    }\n",
       "\n",
       "    .dataframe tbody tr th {\n",
       "        vertical-align: top;\n",
       "    }\n",
       "\n",
       "    .dataframe thead th {\n",
       "        text-align: right;\n",
       "    }\n",
       "</style>\n",
       "<table border=\"1\" class=\"dataframe\">\n",
       "  <thead>\n",
       "    <tr style=\"text-align: right;\">\n",
       "      <th></th>\n",
       "      <th>姓名</th>\n",
       "      <th>年龄</th>\n",
       "      <th>性别</th>\n",
       "    </tr>\n",
       "  </thead>\n",
       "  <tbody>\n",
       "    <tr>\n",
       "      <th>0</th>\n",
       "      <td>小明</td>\n",
       "      <td>20</td>\n",
       "      <td>男</td>\n",
       "    </tr>\n",
       "    <tr>\n",
       "      <th>1</th>\n",
       "      <td>小红</td>\n",
       "      <td>23</td>\n",
       "      <td>女</td>\n",
       "    </tr>\n",
       "    <tr>\n",
       "      <th>2</th>\n",
       "      <td>小周</td>\n",
       "      <td>19</td>\n",
       "      <td>男</td>\n",
       "    </tr>\n",
       "    <tr>\n",
       "      <th>3</th>\n",
       "      <td>小孙</td>\n",
       "      <td>28</td>\n",
       "      <td>男</td>\n",
       "    </tr>\n",
       "  </tbody>\n",
       "</table>\n",
       "</div>"
      ],
      "text/plain": [
       "   姓名  年龄 性别\n",
       "0  小明  20  男\n",
       "1  小红  23  女\n",
       "2  小周  19  男\n",
       "3  小孙  28  男"
      ]
     },
     "execution_count": 17,
     "metadata": {},
     "output_type": "execute_result"
    }
   ],
   "source": [
    "lst = [\n",
    "    [\"小明\", \"20\", \"男\"],\n",
    "    [\"小红\", \"23\", \"女\"],\n",
    "    [\"小周\", \"19\", \"男\"],\n",
    "    [\"小孙\", \"28\", \"男\"],\n",
    "]\n",
    "pd.DataFrame(lst,columns=[\"姓名\",\"年龄\",\"性别\"])"
   ]
  },
  {
   "cell_type": "markdown",
   "id": "60ae70cb",
   "metadata": {},
   "source": [
    "## 本地文件创建"
   ]
  },
  {
   "cell_type": "markdown",
   "id": "b4ae16a3",
   "metadata": {},
   "source": [
    "读取excle\n",
    "\n",
    "参考：https://zhuanlan.zhihu.com/p/142972462"
   ]
  },
  {
   "cell_type": "code",
   "execution_count": 7,
   "id": "e8baa97e",
   "metadata": {},
   "outputs": [
    {
     "data": {
      "text/html": [
       "<div>\n",
       "<style scoped>\n",
       "    .dataframe tbody tr th:only-of-type {\n",
       "        vertical-align: middle;\n",
       "    }\n",
       "\n",
       "    .dataframe tbody tr th {\n",
       "        vertical-align: top;\n",
       "    }\n",
       "\n",
       "    .dataframe thead th {\n",
       "        text-align: right;\n",
       "    }\n",
       "</style>\n",
       "<table border=\"1\" class=\"dataframe\">\n",
       "  <thead>\n",
       "    <tr style=\"text-align: right;\">\n",
       "      <th></th>\n",
       "      <th>name</th>\n",
       "      <th>team</th>\n",
       "      <th>Q1</th>\n",
       "      <th>Q2</th>\n",
       "      <th>Q3</th>\n",
       "      <th>Q4</th>\n",
       "    </tr>\n",
       "    <tr>\n",
       "      <th>序号</th>\n",
       "      <th></th>\n",
       "      <th></th>\n",
       "      <th></th>\n",
       "      <th></th>\n",
       "      <th></th>\n",
       "      <th></th>\n",
       "    </tr>\n",
       "  </thead>\n",
       "  <tbody>\n",
       "    <tr>\n",
       "      <th>1</th>\n",
       "      <td>Liver</td>\n",
       "      <td>E</td>\n",
       "      <td>89</td>\n",
       "      <td>21</td>\n",
       "      <td>24</td>\n",
       "      <td>64</td>\n",
       "    </tr>\n",
       "    <tr>\n",
       "      <th>2</th>\n",
       "      <td>Arry</td>\n",
       "      <td>C</td>\n",
       "      <td>36</td>\n",
       "      <td>37</td>\n",
       "      <td>37</td>\n",
       "      <td>57</td>\n",
       "    </tr>\n",
       "    <tr>\n",
       "      <th>3</th>\n",
       "      <td>Ack</td>\n",
       "      <td>A</td>\n",
       "      <td>57</td>\n",
       "      <td>60</td>\n",
       "      <td>18</td>\n",
       "      <td>84</td>\n",
       "    </tr>\n",
       "    <tr>\n",
       "      <th>4</th>\n",
       "      <td>Eorge</td>\n",
       "      <td>C</td>\n",
       "      <td>93</td>\n",
       "      <td>96</td>\n",
       "      <td>71</td>\n",
       "      <td>78</td>\n",
       "    </tr>\n",
       "    <tr>\n",
       "      <th>5</th>\n",
       "      <td>Oah</td>\n",
       "      <td>D</td>\n",
       "      <td>65</td>\n",
       "      <td>49</td>\n",
       "      <td>61</td>\n",
       "      <td>86</td>\n",
       "    </tr>\n",
       "    <tr>\n",
       "      <th>...</th>\n",
       "      <td>...</td>\n",
       "      <td>...</td>\n",
       "      <td>...</td>\n",
       "      <td>...</td>\n",
       "      <td>...</td>\n",
       "      <td>...</td>\n",
       "    </tr>\n",
       "    <tr>\n",
       "      <th>96</th>\n",
       "      <td>Gabriel</td>\n",
       "      <td>C</td>\n",
       "      <td>48</td>\n",
       "      <td>59</td>\n",
       "      <td>87</td>\n",
       "      <td>74</td>\n",
       "    </tr>\n",
       "    <tr>\n",
       "      <th>97</th>\n",
       "      <td>Austin7</td>\n",
       "      <td>C</td>\n",
       "      <td>21</td>\n",
       "      <td>31</td>\n",
       "      <td>30</td>\n",
       "      <td>43</td>\n",
       "    </tr>\n",
       "    <tr>\n",
       "      <th>98</th>\n",
       "      <td>Lincoln4</td>\n",
       "      <td>C</td>\n",
       "      <td>98</td>\n",
       "      <td>93</td>\n",
       "      <td>1</td>\n",
       "      <td>20</td>\n",
       "    </tr>\n",
       "    <tr>\n",
       "      <th>99</th>\n",
       "      <td>Eli</td>\n",
       "      <td>E</td>\n",
       "      <td>11</td>\n",
       "      <td>74</td>\n",
       "      <td>58</td>\n",
       "      <td>91</td>\n",
       "    </tr>\n",
       "    <tr>\n",
       "      <th>100</th>\n",
       "      <td>Ben</td>\n",
       "      <td>E</td>\n",
       "      <td>21</td>\n",
       "      <td>43</td>\n",
       "      <td>41</td>\n",
       "      <td>74</td>\n",
       "    </tr>\n",
       "  </tbody>\n",
       "</table>\n",
       "<p>100 rows × 6 columns</p>\n",
       "</div>"
      ],
      "text/plain": [
       "         name team  Q1  Q2  Q3  Q4\n",
       "序号                                \n",
       "1       Liver    E  89  21  24  64\n",
       "2        Arry    C  36  37  37  57\n",
       "3         Ack    A  57  60  18  84\n",
       "4       Eorge    C  93  96  71  78\n",
       "5         Oah    D  65  49  61  86\n",
       "..        ...  ...  ..  ..  ..  ..\n",
       "96    Gabriel    C  48  59  87  74\n",
       "97    Austin7    C  21  31  30  43\n",
       "98   Lincoln4    C  98  93   1  20\n",
       "99        Eli    E  11  74  58  91\n",
       "100       Ben    E  21  43  41  74\n",
       "\n",
       "[100 rows x 6 columns]"
      ]
     },
     "execution_count": 7,
     "metadata": {},
     "output_type": "execute_result"
    }
   ],
   "source": [
    "# header 表头，默认0，表示第一行\n",
    "    # header = 1 第二行是表头，第一行就不要了\n",
    "    # header = [1,2,3] 第234行是表头\n",
    "    # header =None 没有表头\n",
    "# index_col 默认 None，表示使用第几列为索引\n",
    "    #index_col=None 不适用数据列作为索引，自增0开始\n",
    "    #index_col=0 使用数据第一列作为索引\n",
    "    #index_col=[0,2] 使用指定数据列的 整数列为索引列\n",
    "pd.read_excel(\n",
    "    './data/team.xlsx'\n",
    "    ,header=0\n",
    "    ,index_col=0\n",
    "    )"
   ]
  },
  {
   "cell_type": "code",
   "execution_count": null,
   "id": "6f423b84",
   "metadata": {},
   "outputs": [],
   "source": [
    "pd.read_excel()"
   ]
  },
  {
   "cell_type": "markdown",
   "id": "ecb41213",
   "metadata": {},
   "source": [
    "## 读取数据库文件创建"
   ]
  },
  {
   "cell_type": "markdown",
   "id": "f9ae9db4",
   "metadata": {},
   "source": [
    "## 使用python字典创建"
   ]
  },
  {
   "cell_type": "markdown",
   "id": "d93aea1b",
   "metadata": {},
   "source": [
    "## python列表创建"
   ]
  },
  {
   "cell_type": "markdown",
   "id": "c44e86e2",
   "metadata": {},
   "source": [
    "## python元组创建"
   ]
  },
  {
   "cell_type": "markdown",
   "id": "0a872e60",
   "metadata": {},
   "source": [
    "## 使用Series数据创建"
   ]
  },
  {
   "cell_type": "markdown",
   "id": "c160c08d",
   "metadata": {},
   "source": [
    "## numpy数组创建"
   ]
  },
  {
   "cell_type": "markdown",
   "id": "73d736a6",
   "metadata": {},
   "source": [
    "## 使用构建器from_dict"
   ]
  },
  {
   "cell_type": "markdown",
   "id": "5bcb9ecd",
   "metadata": {},
   "source": [
    "## 使用构建器from_records"
   ]
  },
  {
   "cell_type": "code",
   "execution_count": null,
   "id": "70f287e5",
   "metadata": {},
   "outputs": [],
   "source": []
  }
 ],
 "metadata": {
  "kernelspec": {
   "display_name": "Python 3 (ipykernel)",
   "language": "python",
   "name": "python3"
  },
  "language_info": {
   "codemirror_mode": {
    "name": "ipython",
    "version": 3
   },
   "file_extension": ".py",
   "mimetype": "text/x-python",
   "name": "python",
   "nbconvert_exporter": "python",
   "pygments_lexer": "ipython3",
   "version": "3.11.4"
  },
  "toc": {
   "base_numbering": 1,
   "nav_menu": {},
   "number_sections": true,
   "sideBar": true,
   "skip_h1_title": false,
   "title_cell": "Table of Contents",
   "title_sidebar": "Contents",
   "toc_cell": false,
   "toc_position": {},
   "toc_section_display": true,
   "toc_window_display": true
  },
  "varInspector": {
   "cols": {
    "lenName": 16,
    "lenType": 16,
    "lenVar": 40
   },
   "kernels_config": {
    "python": {
     "delete_cmd_postfix": "",
     "delete_cmd_prefix": "del ",
     "library": "var_list.py",
     "varRefreshCmd": "print(var_dic_list())"
    },
    "r": {
     "delete_cmd_postfix": ") ",
     "delete_cmd_prefix": "rm(",
     "library": "var_list.r",
     "varRefreshCmd": "cat(var_dic_list()) "
    }
   },
   "types_to_exclude": [
    "module",
    "function",
    "builtin_function_or_method",
    "instance",
    "_Feature"
   ],
   "window_display": false
  }
 },
 "nbformat": 4,
 "nbformat_minor": 5
}
