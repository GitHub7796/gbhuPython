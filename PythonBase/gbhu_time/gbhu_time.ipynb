{
 "cells": [
  {
   "cell_type": "code",
   "execution_count": null,
   "metadata": {},
   "outputs": [],
   "source": [
    "# datetime 模块：\n",
    "# Python 内置的 datetime 模块提供了处理日期和时间的类和函数，包括 datetime、date、time 等类，以及相关的方法用于日期和时间的操作。\n",
    "\n",
    "# arrow：\n",
    "# Arrow 是一个功能强大且易于使用的日期时间库，提供了丰富的功能和操作方法，支持时区、日期时间格式化、日期时间运算等。\n",
    "\n",
    "# pendulum：\n",
    "# Pendulum 是一个人性化的日期时间库，提供了比 Python 内置的 datetime 模块更方便和易用的日期时间操作方法，支持时区、日期时间格式化、日期时间运算等。\n",
    "\n",
    "# dateutil：\n",
    "# dateutil 是 Python 的一个扩展库，提供了一些额外的日期时间处理功能，包括相对时间计算、日期解析等，使日期时间处理更加灵活和方便。\n",
    "\n",
    "# pytz：\n",
    "# pytz 是 Python 的时区库，用于处理时区相关的问题，提供了对时区信息的获取、时区转换等功能，适用于处理跨时区的日期时间数据。"
   ]
  },
  {
   "cell_type": "code",
   "execution_count": null,
   "metadata": {},
   "outputs": [],
   "source": []
  }
 ],
 "metadata": {
  "language_info": {
   "name": "python"
  }
 },
 "nbformat": 4,
 "nbformat_minor": 2
}
