{
 "cells": [
  {
   "cell_type": "markdown",
   "metadata": {},
   "source": [
    "参考：https://pendulum.eustace.io/docs/"
   ]
  },
  {
   "cell_type": "code",
   "execution_count": 1,
   "metadata": {},
   "outputs": [
    {
     "name": "stdout",
     "output_type": "stream",
     "text": [
      "Collecting pendulum\n",
      "  Obtaining dependency information for pendulum from https://files.pythonhosted.org/packages/9a/91/fcd992eb36b77ab43f2cf44307b72c01a6fbb27f55c1bb2d4af30e9a6cb7/pendulum-3.0.0-cp312-none-win_amd64.whl.metadata\n",
      "  Downloading pendulum-3.0.0-cp312-none-win_amd64.whl.metadata (7.0 kB)\n",
      "Requirement already satisfied: python-dateutil>=2.6 in c:\\users\\huguobin\\appdata\\local\\programs\\python\\python312\\lib\\site-packages (from pendulum) (2.8.2)\n",
      "Collecting tzdata>=2020.1 (from pendulum)\n",
      "  Obtaining dependency information for tzdata>=2020.1 from https://files.pythonhosted.org/packages/a3/fb/52b62131e21b24ee297e4e95ed41eba29647dad0e0051a92bb66b43c70ff/tzdata-2023.4-py2.py3-none-any.whl.metadata\n",
      "  Downloading tzdata-2023.4-py2.py3-none-any.whl.metadata (1.4 kB)\n",
      "Collecting time-machine>=2.6.0 (from pendulum)\n",
      "  Obtaining dependency information for time-machine>=2.6.0 from https://files.pythonhosted.org/packages/03/1e/a47b7b9645e81321727b9a86f55b59b36f19f1a82d25d71e96587974c497/time_machine-2.13.0-cp312-cp312-win_amd64.whl.metadata\n",
      "  Downloading time_machine-2.13.0-cp312-cp312-win_amd64.whl.metadata (21 kB)\n",
      "Requirement already satisfied: six>=1.5 in c:\\users\\huguobin\\appdata\\local\\programs\\python\\python312\\lib\\site-packages (from python-dateutil>=2.6->pendulum) (1.16.0)\n",
      "Downloading pendulum-3.0.0-cp312-none-win_amd64.whl (293 kB)\n",
      "   ---------------------------------------- 0.0/293.5 kB ? eta -:--:--\n",
      "   ---- ---------------------------------- 30.7/293.5 kB 640.0 kB/s eta 0:00:01\n",
      "   -------- ------------------------------ 61.4/293.5 kB 656.4 kB/s eta 0:00:01\n",
      "   -------------- ----------------------- 112.6/293.5 kB 930.9 kB/s eta 0:00:01\n",
      "   --------------------------- ------------ 204.8/293.5 kB 1.2 MB/s eta 0:00:01\n",
      "   ---------------------------------------- 293.5/293.5 kB 1.4 MB/s eta 0:00:00\n",
      "Downloading time_machine-2.13.0-cp312-cp312-win_amd64.whl (19 kB)\n",
      "Downloading tzdata-2023.4-py2.py3-none-any.whl (346 kB)\n",
      "   ---------------------------------------- 0.0/346.6 kB ? eta -:--:--\n",
      "   ------------- -------------------------- 112.6/346.6 kB 6.8 MB/s eta 0:00:01\n",
      "   ---------------------------- ----------- 245.8/346.6 kB 2.5 MB/s eta 0:00:01\n",
      "   ---------------------------------------- 346.6/346.6 kB 3.1 MB/s eta 0:00:00\n",
      "Installing collected packages: tzdata, time-machine, pendulum\n",
      "Successfully installed pendulum-3.0.0 time-machine-2.13.0 tzdata-2023.4\n"
     ]
    },
    {
     "name": "stderr",
     "output_type": "stream",
     "text": [
      "\n",
      "[notice] A new release of pip is available: 23.2.1 -> 23.3.2\n",
      "[notice] To update, run: python.exe -m pip install --upgrade pip\n"
     ]
    }
   ],
   "source": [
    "!pip install pendulum"
   ]
  },
  {
   "cell_type": "code",
   "execution_count": 3,
   "metadata": {},
   "outputs": [],
   "source": [
    "import pendulum"
   ]
  },
  {
   "cell_type": "code",
   "execution_count": 6,
   "metadata": {},
   "outputs": [
    {
     "data": {
      "text/plain": [
       "DateTime(2024, 2, 7, 0, 0, 0, tzinfo=Timezone('Asia/Shanghai'))"
      ]
     },
     "execution_count": 6,
     "metadata": {},
     "output_type": "execute_result"
    }
   ],
   "source": [
    "today=pendulum.today()\n",
    "today"
   ]
  },
  {
   "cell_type": "code",
   "execution_count": 8,
   "metadata": {},
   "outputs": [
    {
     "data": {
      "text/plain": [
       "'2024-02-07'"
      ]
     },
     "execution_count": 8,
     "metadata": {},
     "output_type": "execute_result"
    }
   ],
   "source": [
    "today.to_date_string()"
   ]
  },
  {
   "cell_type": "code",
   "execution_count": null,
   "metadata": {},
   "outputs": [],
   "source": []
  }
 ],
 "metadata": {
  "kernelspec": {
   "display_name": "Python 3",
   "language": "python",
   "name": "python3"
  },
  "language_info": {
   "codemirror_mode": {
    "name": "ipython",
    "version": 3
   },
   "file_extension": ".py",
   "mimetype": "text/x-python",
   "name": "python",
   "nbconvert_exporter": "python",
   "pygments_lexer": "ipython3",
   "version": "3.12.1"
  }
 },
 "nbformat": 4,
 "nbformat_minor": 2
}
