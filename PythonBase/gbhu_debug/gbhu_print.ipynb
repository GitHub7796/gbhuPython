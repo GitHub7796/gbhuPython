{
 "cells": [
  {
   "cell_type": "code",
   "execution_count": 1,
   "metadata": {},
   "outputs": [],
   "source": [
    "from IPython.core.interactiveshell import InteractiveShell\n",
    "InteractiveShell.ast_node_interactivity = \"all\"\n"
   ]
  },
  {
   "cell_type": "markdown",
   "metadata": {},
   "source": [
    "colorama 控制台颜色控制"
   ]
  },
  {
   "cell_type": "code",
   "execution_count": 5,
   "metadata": {},
   "outputs": [
    {
     "name": "stdout",
     "output_type": "stream",
     "text": [
      "hello colorama\n"
     ]
    }
   ],
   "source": [
    "from colorama import init,Fore,Back,Style\n",
    "init(autoreset=True)\n",
    "# vscode jupyter 无效 see https://github.com/microsoft/vscode-jupyter/issues/12323\n",
    "print( Fore.RED + 'hello colorama')"
   ]
  },
  {
   "cell_type": "markdown",
   "metadata": {},
   "source": [
    "icecream 更便捷的调试"
   ]
  },
  {
   "cell_type": "code",
   "execution_count": 1,
   "metadata": {},
   "outputs": [
    {
     "name": "stderr",
     "output_type": "stream",
     "text": [
      "ic| num1: 20\n",
      "ic| plus_five(num1): 25\n"
     ]
    },
    {
     "data": {
      "text/plain": [
       "25"
      ]
     },
     "execution_count": 1,
     "metadata": {},
     "output_type": "execute_result"
    }
   ],
   "source": [
    "from icecream import ic\n",
    "num1 = 20\n",
    "def plus_five(a):\n",
    "    return a+5\n",
    "# 输出变量信息 变量名+值\n",
    "ic(num1)\n",
    "# 输出函数调用信息\n",
    "ic(plus_five(num1))"
   ]
  },
  {
   "cell_type": "code",
   "execution_count": 2,
   "metadata": {},
   "outputs": [
    {
     "name": "stderr",
     "output_type": "stream",
     "text": [
      "ic| 3132807984.py:4 in hello() at 08:50:54.369\n",
      "ic| hello(True): None\n"
     ]
    }
   ],
   "source": [
    "# 输出调用栈\n",
    "def hello(user):\n",
    "    if user:\n",
    "        ic()\n",
    "    else:\n",
    "        ic()\n",
    "\n",
    "ic(hello(True))"
   ]
  },
  {
   "cell_type": "code",
   "execution_count": null,
   "metadata": {},
   "outputs": [],
   "source": []
  }
 ],
 "metadata": {
  "kernelspec": {
   "display_name": "Python 3",
   "language": "python",
   "name": "python3"
  },
  "language_info": {
   "codemirror_mode": {
    "name": "ipython",
    "version": 3
   },
   "file_extension": ".py",
   "mimetype": "text/x-python",
   "name": "python",
   "nbconvert_exporter": "python",
   "pygments_lexer": "ipython3",
   "version": "3.12.1"
  }
 },
 "nbformat": 4,
 "nbformat_minor": 2
}
