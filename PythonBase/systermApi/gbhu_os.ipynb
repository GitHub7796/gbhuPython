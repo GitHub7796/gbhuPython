{
 "cells": [
  {
   "cell_type": "code",
   "execution_count": 2,
   "metadata": {},
   "outputs": [],
   "source": [
    "from IPython.core.interactiveshell import InteractiveShell\n",
    "InteractiveShell.ast_node_interactivity = \"all\""
   ]
  },
  {
   "cell_type": "code",
   "execution_count": 3,
   "metadata": {},
   "outputs": [],
   "source": [
    "import os"
   ]
  },
  {
   "cell_type": "markdown",
   "metadata": {},
   "source": [
    "os.getcwd"
   ]
  },
  {
   "cell_type": "code",
   "execution_count": null,
   "metadata": {},
   "outputs": [
    {
     "data": {
      "text/plain": [
       "'c:\\\\Users\\\\huguobin\\\\Desktop\\\\gbhuCode\\\\gbhuPython\\\\PythonBase'"
      ]
     },
     "execution_count": 9,
     "metadata": {},
     "output_type": "execute_result"
    }
   ],
   "source": [
    "os.getcwd()"
   ]
  },
  {
   "cell_type": "code",
   "execution_count": 12,
   "metadata": {},
   "outputs": [
    {
     "data": {
      "text/plain": [
       "'c:\\\\Users\\\\huguobin\\\\Desktop\\\\gbhuCode\\\\gbhuPython\\\\PythonBase'"
      ]
     },
     "execution_count": 12,
     "metadata": {},
     "output_type": "execute_result"
    },
    {
     "data": {
      "text/plain": [
       "'c:\\\\Users'"
      ]
     },
     "execution_count": 12,
     "metadata": {},
     "output_type": "execute_result"
    }
   ],
   "source": [
    "os.getcwd()\n",
    "os.chdir(\"c:\\\\Users\")\n",
    "os.getcwd()"
   ]
  },
  {
   "cell_type": "markdown",
   "metadata": {},
   "source": [
    "os.path.join\n",
    "\n",
    "合并多个路径，自动处理不同系统中路径分隔符的差异\n",
    "\n",
    "note：如果出现 绝对路径 那么之前的路径都会被抛弃"
   ]
  },
  {
   "cell_type": "code",
   "execution_count": 4,
   "metadata": {},
   "outputs": [
    {
     "data": {
      "text/plain": [
       "'c:\\\\Users\\\\huguobin\\\\Desktop\\\\gbhuCode\\\\gbhuPython\\\\PythonBase\\\\systermApi\\\\etl\\\\etl_label'"
      ]
     },
     "execution_count": 4,
     "metadata": {},
     "output_type": "execute_result"
    }
   ],
   "source": [
    "os.path.join(os.getcwd(),'etl','etl_label')"
   ]
  },
  {
   "cell_type": "code",
   "execution_count": 8,
   "metadata": {},
   "outputs": [
    {
     "data": {
      "text/plain": [
       "'c:/etl\\\\etl_label'"
      ]
     },
     "execution_count": 8,
     "metadata": {},
     "output_type": "execute_result"
    },
    {
     "data": {
      "text/plain": [
       "'d:/etl\\\\etl_label'"
      ]
     },
     "execution_count": 8,
     "metadata": {},
     "output_type": "execute_result"
    }
   ],
   "source": [
    "# /etl 是绝对路径，因此会抛弃前面的路径，但是因为是win，因此需要个盘符，会将第一个路径的盘符保留\n",
    "# 输出结果中 分隔符不一致，可以通过 os.path.normpath 格式化\n",
    "os.path.join(os.getcwd(),'/etl','etl_label')\n",
    "# 这里指定了盘符，因此会抛弃前面的路径\n",
    "os.path.join(os.getcwd(),'d:/etl','etl_label')"
   ]
  },
  {
   "cell_type": "markdown",
   "metadata": {},
   "source": [
    "os.walk"
   ]
  },
  {
   "cell_type": "markdown",
   "metadata": {},
   "source": [
    "more see [https://www.tutorialspoint.com/python/os_walk.htm]"
   ]
  },
  {
   "cell_type": "code",
   "execution_count": 10,
   "metadata": {},
   "outputs": [
    {
     "data": {
      "text/plain": [
       "'c:\\\\Users\\\\huguobin\\\\Desktop\\\\gbhuCode\\\\gbhuPython\\\\PythonBase\\\\os'"
      ]
     },
     "execution_count": 10,
     "metadata": {},
     "output_type": "execute_result"
    },
    {
     "name": "stdout",
     "output_type": "stream",
     "text": [
      "c:\\Users\\huguobin\\Desktop\\gbhuCode\\gbhuPython\\PythonBase\\os ['oswalk'] ['gbhu_os_stdy.ipynb']\n",
      "c:\\Users\\huguobin\\Desktop\\gbhuCode\\gbhuPython\\PythonBase\\os\\oswalk ['test1', 'test2'] ['test']\n",
      "c:\\Users\\huguobin\\Desktop\\gbhuCode\\gbhuPython\\PythonBase\\os\\oswalk\\test1 [] []\n",
      "c:\\Users\\huguobin\\Desktop\\gbhuCode\\gbhuPython\\PythonBase\\os\\oswalk\\test2 [] ['test']\n"
     ]
    }
   ],
   "source": [
    "os.getcwd()\n",
    "for root,dirs,files in os.walk(\n",
    "    os.getcwd()\n",
    "):\n",
    "    print(root,dirs,files)"
   ]
  },
  {
   "cell_type": "code",
   "execution_count": null,
   "metadata": {},
   "outputs": [],
   "source": [
    "os.path.walk()"
   ]
  },
  {
   "cell_type": "markdown",
   "metadata": {},
   "source": [
    "os.path.normpath"
   ]
  },
  {
   "cell_type": "code",
   "execution_count": 4,
   "metadata": {},
   "outputs": [
    {
     "data": {
      "text/plain": [
       "'\\\\etl\\\\etl_label'"
      ]
     },
     "execution_count": 4,
     "metadata": {},
     "output_type": "execute_result"
    }
   ],
   "source": [
    "os.path.normpath('/etl/etl_label')"
   ]
  },
  {
   "cell_type": "code",
   "execution_count": null,
   "metadata": {},
   "outputs": [],
   "source": []
  }
 ],
 "metadata": {
  "kernelspec": {
   "display_name": "Python 3",
   "language": "python",
   "name": "python3"
  },
  "language_info": {
   "codemirror_mode": {
    "name": "ipython",
    "version": 3
   },
   "file_extension": ".py",
   "mimetype": "text/x-python",
   "name": "python",
   "nbconvert_exporter": "python",
   "pygments_lexer": "ipython3",
   "version": "3.12.1"
  }
 },
 "nbformat": 4,
 "nbformat_minor": 2
}
