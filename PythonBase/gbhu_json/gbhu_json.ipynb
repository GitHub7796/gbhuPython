{
 "cells": [
  {
   "cell_type": "code",
   "execution_count": 5,
   "metadata": {},
   "outputs": [],
   "source": [
    "from IPython.core.interactiveshell import InteractiveShell\n",
    "InteractiveShell.ast_node_interactivity = \"all\"\n"
   ]
  },
  {
   "cell_type": "code",
   "execution_count": 3,
   "metadata": {},
   "outputs": [],
   "source": [
    "for key,value in {}:\n",
    "    print(key,value)"
   ]
  },
  {
   "cell_type": "code",
   "execution_count": 4,
   "metadata": {},
   "outputs": [
    {
     "data": {
      "text/plain": [
       "<function dict.values>"
      ]
     },
     "execution_count": 4,
     "metadata": {},
     "output_type": "execute_result"
    }
   ],
   "source": [
    "a={\n",
    "    'b':{}\n",
    "}\n",
    "a.values"
   ]
  },
  {
   "cell_type": "code",
   "execution_count": 11,
   "metadata": {},
   "outputs": [],
   "source": [
    "a={}\n",
    "a=={}\n",
    "for key,value in a:\n",
    "    print(key,value)"
   ]
  },
  {
   "cell_type": "code",
   "execution_count": 30,
   "metadata": {},
   "outputs": [
    {
     "data": {
      "text/plain": [
       "parent\n",
       "  child1\n",
       "  child2"
      ]
     },
     "execution_count": 30,
     "metadata": {},
     "output_type": "execute_result"
    }
   ],
   "source": [
    "class tree:\n",
    "\n",
    "    def __init__(self,data):\n",
    "        # 对象属性\n",
    "        self.child_tree={}\n",
    "        self.data=data\n",
    "    def addChild(self,cTree):\n",
    "        cnodeName=cTree.data\n",
    "        self.child_tree[cnodeName]=cTree\n",
    "    def __repr__(self, level=0):\n",
    "        indent = \"  \" * level\n",
    "        result = f\"{indent}{self.data}\\n\"\n",
    "        if self.child_tree=={}:\n",
    "            return result\n",
    "        for key,child in self.child_tree.items():\n",
    "            result += child.__repr__(level + 1)\n",
    "        return result\n",
    "child_tree1=tree('child1')\n",
    "child_tree2=tree('child2')\n",
    "parent_tree=tree('parent')\n",
    "parent_tree.addChild(child_tree1)\n",
    "parent_tree.addChild(child_tree2)\n",
    "parent_tree"
   ]
  },
  {
   "cell_type": "code",
   "execution_count": 20,
   "metadata": {},
   "outputs": [
    {
     "data": {
      "text/plain": [
       "'{\\n  \"data\": \"parent\",\\n  \"child_tree\": {}\\n}'"
      ]
     },
     "execution_count": 20,
     "metadata": {},
     "output_type": "execute_result"
    }
   ],
   "source": [
    "import json\n",
    "# 将树结构转换为字典\n",
    "tree_dict = parent_tree.to_dict()\n",
    "\n",
    "# 将字典序列化为 JSON 字符串\n",
    "json_string = json.dumps(tree_dict, indent=2)\n",
    "json_string"
   ]
  },
  {
   "cell_type": "code",
   "execution_count": 9,
   "metadata": {},
   "outputs": [
    {
     "data": {
      "text/plain": [
       "'{\"data\": \"parent\"}'"
      ]
     },
     "execution_count": 9,
     "metadata": {},
     "output_type": "execute_result"
    }
   ],
   "source": [
    "\n",
    "json.dumps(parent_tree.__dict__)"
   ]
  },
  {
   "cell_type": "code",
   "execution_count": 10,
   "metadata": {},
   "outputs": [
    {
     "ename": "TypeError",
     "evalue": "<__main__.tree object at 0x0000012F0CD859A0> is not JSON serializable",
     "output_type": "error",
     "traceback": [
      "\u001b[1;31m---------------------------------------------------------------------------\u001b[0m",
      "\u001b[1;31mTypeError\u001b[0m                                 Traceback (most recent call last)",
      "Cell \u001b[1;32mIn[10], line 2\u001b[0m\n\u001b[0;32m      1\u001b[0m \u001b[38;5;28;01mimport\u001b[39;00m \u001b[38;5;21;01mujson\u001b[39;00m\n\u001b[1;32m----> 2\u001b[0m \u001b[43mujson\u001b[49m\u001b[38;5;241;43m.\u001b[39;49m\u001b[43mdumps\u001b[49m\u001b[43m(\u001b[49m\u001b[43mparent_tree\u001b[49m\u001b[43m)\u001b[49m\n",
      "\u001b[1;31mTypeError\u001b[0m: <__main__.tree object at 0x0000012F0CD859A0> is not JSON serializable"
     ]
    }
   ],
   "source": [
    "import ujson\n",
    "ujson.dumps(parent_tree)"
   ]
  },
  {
   "cell_type": "code",
   "execution_count": null,
   "metadata": {},
   "outputs": [],
   "source": []
  }
 ],
 "metadata": {
  "kernelspec": {
   "display_name": "Python 3",
   "language": "python",
   "name": "python3"
  },
  "language_info": {
   "codemirror_mode": {
    "name": "ipython",
    "version": 3
   },
   "file_extension": ".py",
   "mimetype": "text/x-python",
   "name": "python",
   "nbconvert_exporter": "python",
   "pygments_lexer": "ipython3",
   "version": "3.12.1"
  }
 },
 "nbformat": 4,
 "nbformat_minor": 2
}
