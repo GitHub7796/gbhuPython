{
 "cells": [
  {
   "cell_type": "code",
   "execution_count": 2,
   "metadata": {},
   "outputs": [
    {
     "data": {
      "text/plain": [
       "'a'"
      ]
     },
     "execution_count": 2,
     "metadata": {},
     "output_type": "execute_result"
    }
   ],
   "source": [
    "'abc'[:1]"
   ]
  },
  {
   "cell_type": "code",
   "execution_count": 4,
   "metadata": {},
   "outputs": [
    {
     "data": {
      "text/plain": [
       "'/pap'"
      ]
     },
     "execution_count": 4,
     "metadata": {},
     "output_type": "execute_result"
    }
   ],
   "source": [
    "'cd /pap'.split()\n",
    "'cd /pap'.split()[1]"
   ]
  },
  {
   "cell_type": "code",
   "execution_count": 1,
   "metadata": {
    "ExecuteTime": {
     "end_time": "2024-06-16T03:22:56.935267300Z",
     "start_time": "2024-06-16T03:22:56.928750300Z"
    }
   },
   "outputs": [],
   "source": [
    "WORK_DATE='2024-06-16'"
   ]
  },
  {
   "cell_type": "code",
   "execution_count": 4,
   "outputs": [],
   "source": [
    "str=r'''today is [[WORK_DATE]]'''"
   ],
   "metadata": {
    "collapsed": false,
    "ExecuteTime": {
     "end_time": "2024-06-16T03:23:21.424316800Z",
     "start_time": "2024-06-16T03:23:21.410306400Z"
    }
   }
  },
  {
   "cell_type": "code",
   "execution_count": 5,
   "outputs": [
    {
     "data": {
      "text/plain": "'today is [[WORK_DATE]]'"
     },
     "execution_count": 5,
     "metadata": {},
     "output_type": "execute_result"
    }
   ],
   "source": [
    "str"
   ],
   "metadata": {
    "collapsed": false,
    "ExecuteTime": {
     "end_time": "2024-06-16T03:23:21.768281500Z",
     "start_time": "2024-06-16T03:23:21.746406100Z"
    }
   }
  },
  {
   "cell_type": "code",
   "execution_count": 6,
   "outputs": [
    {
     "name": "stdout",
     "output_type": "stream",
     "text": [
      "today is [[WORK_DATE]]\n"
     ]
    }
   ],
   "source": [
    "print(str)"
   ],
   "metadata": {
    "collapsed": false,
    "ExecuteTime": {
     "end_time": "2024-06-16T03:38:23.794883200Z",
     "start_time": "2024-06-16T03:38:23.787872800Z"
    }
   }
  },
  {
   "cell_type": "code",
   "execution_count": 7,
   "outputs": [
    {
     "name": "stdout",
     "output_type": "stream",
     "text": [
      "str:\n"
     ]
    }
   ],
   "source": [
    "print(\"str:\")"
   ],
   "metadata": {
    "collapsed": false,
    "ExecuteTime": {
     "end_time": "2024-06-16T03:38:31.733260600Z",
     "start_time": "2024-06-16T03:38:31.723574900Z"
    }
   }
  },
  {
   "cell_type": "code",
   "execution_count": 8,
   "outputs": [],
   "source": [
    "import sys"
   ],
   "metadata": {
    "collapsed": false,
    "ExecuteTime": {
     "end_time": "2024-06-16T04:01:47.934707400Z",
     "start_time": "2024-06-16T04:01:47.924749800Z"
    }
   }
  },
  {
   "cell_type": "code",
   "execution_count": 9,
   "outputs": [
    {
     "data": {
      "text/plain": "''"
     },
     "execution_count": 9,
     "metadata": {},
     "output_type": "execute_result"
    }
   ],
   "source": [
    "sys.stdin.readline().strip()"
   ],
   "metadata": {
    "collapsed": false,
    "ExecuteTime": {
     "end_time": "2024-06-16T04:01:58.743746500Z",
     "start_time": "2024-06-16T04:01:58.736227900Z"
    }
   }
  },
  {
   "cell_type": "code",
   "execution_count": 10,
   "outputs": [],
   "source": [
    "import  datetime"
   ],
   "metadata": {
    "collapsed": false,
    "ExecuteTime": {
     "end_time": "2024-06-16T04:02:28.378601200Z",
     "start_time": "2024-06-16T04:02:28.344085500Z"
    }
   }
  },
  {
   "cell_type": "code",
   "execution_count": 11,
   "outputs": [
    {
     "ename": "AttributeError",
     "evalue": "module 'datetime' has no attribute 'now'",
     "output_type": "error",
     "traceback": [
      "\u001B[1;31m---------------------------------------------------------------------------\u001B[0m",
      "\u001B[1;31mAttributeError\u001B[0m                            Traceback (most recent call last)",
      "Cell \u001B[1;32mIn[11], line 1\u001B[0m\n\u001B[1;32m----> 1\u001B[0m \u001B[43mdatetime\u001B[49m\u001B[38;5;241;43m.\u001B[39;49m\u001B[43mnow\u001B[49m()\n",
      "\u001B[1;31mAttributeError\u001B[0m: module 'datetime' has no attribute 'now'"
     ]
    }
   ],
   "source": [
    "datetime.now()"
   ],
   "metadata": {
    "collapsed": false,
    "ExecuteTime": {
     "end_time": "2024-06-16T04:02:32.958675200Z",
     "start_time": "2024-06-16T04:02:32.715406600Z"
    }
   }
  },
  {
   "cell_type": "code",
   "execution_count": 13,
   "outputs": [
    {
     "data": {
      "text/plain": "2024"
     },
     "execution_count": 13,
     "metadata": {},
     "output_type": "execute_result"
    }
   ],
   "source": [
    "datetime.datetime.now().year"
   ],
   "metadata": {
    "collapsed": false,
    "ExecuteTime": {
     "end_time": "2024-06-16T04:05:47.095060800Z",
     "start_time": "2024-06-16T04:05:47.082196100Z"
    }
   }
  },
  {
   "cell_type": "code",
   "execution_count": 14,
   "outputs": [
    {
     "data": {
      "text/plain": "2023"
     },
     "execution_count": 14,
     "metadata": {},
     "output_type": "execute_result"
    }
   ],
   "source": [
    "datetime.datetime.now().year-1"
   ],
   "metadata": {
    "collapsed": false,
    "ExecuteTime": {
     "end_time": "2024-06-16T04:06:22.754918800Z",
     "start_time": "2024-06-16T04:06:22.746813500Z"
    }
   }
  },
  {
   "cell_type": "code",
   "execution_count": 20,
   "outputs": [],
   "source": [],
   "metadata": {
    "collapsed": false,
    "ExecuteTime": {
     "end_time": "2024-06-16T04:08:17.277906200Z",
     "start_time": "2024-06-16T04:08:17.266735600Z"
    }
   }
  },
  {
   "cell_type": "code",
   "execution_count": 35,
   "outputs": [
    {
     "data": {
      "text/plain": "'20200921'"
     },
     "execution_count": 35,
     "metadata": {},
     "output_type": "execute_result"
    }
   ],
   "source": [
    "str_time='2020920'\n",
    "date_1=datetime.datetime.strptime(str_time, \"%Y%m%d\")\n",
    "date_2=date_1+datetime.timedelta(days=1)\n",
    "date_2.strftime(\"%Y%m%d\")"
   ],
   "metadata": {
    "collapsed": false,
    "ExecuteTime": {
     "end_time": "2024-06-16T04:18:50.469697700Z",
     "start_time": "2024-06-16T04:18:50.459182Z"
    }
   }
  },
  {
   "cell_type": "code",
   "execution_count": 25,
   "outputs": [
    {
     "name": "stdout",
     "output_type": "stream",
     "text": [
      "2020-9-20 21:33:21\n",
      "<class 'str'>\n",
      "2020-09-20 21:33:21\n",
      "<class 'datetime.datetime'>\n"
     ]
    }
   ],
   "source": [
    "import time,datetime\n",
    "str_time = '2020-9-20 21:33:21'\n",
    "fmt = '%Y-%m-%d %H:%M:%S'\n",
    "print(str_time)\n",
    "print(type(str_time))\n",
    "str_time = datetime.datetime.strptime(str_time, \"%Y-%m-%d %H:%M:%S\")\n",
    "print(str_time)\n",
    "print(type(str_time))"
   ],
   "metadata": {
    "collapsed": false,
    "ExecuteTime": {
     "end_time": "2024-06-16T04:15:57.362801900Z",
     "start_time": "2024-06-16T04:15:57.342718700Z"
    }
   }
  },
  {
   "cell_type": "code",
   "execution_count": 36,
   "outputs": [
    {
     "data": {
      "text/plain": "{'__name__': '__main__',\n '__doc__': 'Automatically created module for IPython interactive environment',\n '__package__': None,\n '__loader__': None,\n '__spec__': None,\n '__builtin__': <module 'builtins' (built-in)>,\n '__builtins__': <module 'builtins' (built-in)>,\n '_ih': ['',\n  \"WORK_DATE='2024-06-16'\",\n  \"str='''today is [[WORK_DATE]]'''\",\n  'str',\n  \"str=r'''today is [[WORK_DATE]]'''\",\n  'str',\n  'print(str)',\n  'print(\"str:\")',\n  'import sys',\n  'sys.stdin.readline().strip()',\n  'import  datetime',\n  'datetime.now()',\n  'datetime.datetime.now()',\n  'datetime.datetime.now().year',\n  'datetime.datetime.now().year-1',\n  'str=\"2024-06-06\"',\n  'str=\"20240606\"',\n  'datetime.datetime.strftime(str,\"%Y%m%d\")',\n  'datetime.datetime.strftime(str,\"%Y%m%d\")',\n  'datetime.datetime.strftime(str,\"%Y%m%d\")',\n  'str1=\"20240606\"',\n  'datetime.datetime.strftime(str1,\"%Y%m%d\")',\n  'datetime.datetime.strftime(str1,\"%Y%m%d\")',\n  'datetime.datetime.strftime(str1,\"%Y-%m-%d\")',\n  'datetime.strftime(str1,\"%Y-%m-%d\")',\n  'import time,datetime\\nstr_time = \\'2020-9-20 21:33:21\\'\\nfmt = \\'%Y-%m-%d %H:%M:%S\\'\\nprint(str_time)\\nprint(type(str_time))\\nstr_time = datetime.datetime.strptime(str_time, \"%Y-%m-%d %H:%M:%S\")\\nprint(str_time)\\nprint(type(str_time))',\n  'str1=\"2024-06-06\"\\ndatetime.datetime.strftime(str1,\"%Y-%m-%d\")',\n  'str1=\\'2024-06-06\\'\\ndatetime.datetime.strftime(str1,\"%Y-%m-%d\")',\n  'str_time=\\'2024-06-06\\'\\ndatetime.datetime.strftime(str_time,\"%Y-%m-%d\")',\n  'str_time=\\'2020-9-20 21:33:21\\'\\ndatetime.datetime.strftime(str_time, \"%Y-%m-%d %H:%M:%S\")',\n  'str_time=\\'2020-9-20 21:33:21\\'\\ndatetime.datetime.strptime(str_time, \"%Y-%m-%d %H:%M:%S\")',\n  'str_time=\\'2020-9-20\\'\\ndatetime.datetime.strptime(str_time, \"%Y-%m-%d\")',\n  'str_time=\\'2020-9-20\\'\\ndate_1=datetime.datetime.strptime(str_time, \"%Y-%m-%d\")\\ndate_2=date_1+datetime.timedelta(day=1)',\n  'str_time=\\'2020-9-20\\'\\ndate_1=datetime.datetime.strptime(str_time, \"%Y-%m-%d\")\\ndate_2=date_1+datetime.timedelta(days=1)',\n  'str_time=\\'2020-9-20\\'\\ndate_1=datetime.datetime.strptime(str_time, \"%Y-%m-%d\")\\ndate_2=date_1+datetime.timedelta(days=1)\\ndate_2',\n  'str_time=\\'2020920\\'\\ndate_1=datetime.datetime.strptime(str_time, \"%Y%m%d\")\\ndate_2=date_1+datetime.timedelta(days=1)\\ndate_2.strftime(\"%Y%m%d\")',\n  'globals()'],\n '_oh': {3: 'today is [[WORK_DATE]]',\n  5: 'today is [[WORK_DATE]]',\n  9: '',\n  12: datetime.datetime(2024, 6, 16, 12, 5, 41, 455567),\n  13: 2024,\n  14: 2023,\n  30: datetime.datetime(2020, 9, 20, 21, 33, 21),\n  31: datetime.datetime(2020, 9, 20, 0, 0),\n  34: datetime.datetime(2020, 9, 21, 0, 0),\n  35: '20200921'},\n '_dh': [WindowsPath('C:/Users/huguobin/Desktop/gbhuCode/gbhuPython/PythonBase/string')],\n 'In': ['',\n  \"WORK_DATE='2024-06-16'\",\n  \"str='''today is [[WORK_DATE]]'''\",\n  'str',\n  \"str=r'''today is [[WORK_DATE]]'''\",\n  'str',\n  'print(str)',\n  'print(\"str:\")',\n  'import sys',\n  'sys.stdin.readline().strip()',\n  'import  datetime',\n  'datetime.now()',\n  'datetime.datetime.now()',\n  'datetime.datetime.now().year',\n  'datetime.datetime.now().year-1',\n  'str=\"2024-06-06\"',\n  'str=\"20240606\"',\n  'datetime.datetime.strftime(str,\"%Y%m%d\")',\n  'datetime.datetime.strftime(str,\"%Y%m%d\")',\n  'datetime.datetime.strftime(str,\"%Y%m%d\")',\n  'str1=\"20240606\"',\n  'datetime.datetime.strftime(str1,\"%Y%m%d\")',\n  'datetime.datetime.strftime(str1,\"%Y%m%d\")',\n  'datetime.datetime.strftime(str1,\"%Y-%m-%d\")',\n  'datetime.strftime(str1,\"%Y-%m-%d\")',\n  'import time,datetime\\nstr_time = \\'2020-9-20 21:33:21\\'\\nfmt = \\'%Y-%m-%d %H:%M:%S\\'\\nprint(str_time)\\nprint(type(str_time))\\nstr_time = datetime.datetime.strptime(str_time, \"%Y-%m-%d %H:%M:%S\")\\nprint(str_time)\\nprint(type(str_time))',\n  'str1=\"2024-06-06\"\\ndatetime.datetime.strftime(str1,\"%Y-%m-%d\")',\n  'str1=\\'2024-06-06\\'\\ndatetime.datetime.strftime(str1,\"%Y-%m-%d\")',\n  'str_time=\\'2024-06-06\\'\\ndatetime.datetime.strftime(str_time,\"%Y-%m-%d\")',\n  'str_time=\\'2020-9-20 21:33:21\\'\\ndatetime.datetime.strftime(str_time, \"%Y-%m-%d %H:%M:%S\")',\n  'str_time=\\'2020-9-20 21:33:21\\'\\ndatetime.datetime.strptime(str_time, \"%Y-%m-%d %H:%M:%S\")',\n  'str_time=\\'2020-9-20\\'\\ndatetime.datetime.strptime(str_time, \"%Y-%m-%d\")',\n  'str_time=\\'2020-9-20\\'\\ndate_1=datetime.datetime.strptime(str_time, \"%Y-%m-%d\")\\ndate_2=date_1+datetime.timedelta(day=1)',\n  'str_time=\\'2020-9-20\\'\\ndate_1=datetime.datetime.strptime(str_time, \"%Y-%m-%d\")\\ndate_2=date_1+datetime.timedelta(days=1)',\n  'str_time=\\'2020-9-20\\'\\ndate_1=datetime.datetime.strptime(str_time, \"%Y-%m-%d\")\\ndate_2=date_1+datetime.timedelta(days=1)\\ndate_2',\n  'str_time=\\'2020920\\'\\ndate_1=datetime.datetime.strptime(str_time, \"%Y%m%d\")\\ndate_2=date_1+datetime.timedelta(days=1)\\ndate_2.strftime(\"%Y%m%d\")',\n  'globals()'],\n 'Out': {3: 'today is [[WORK_DATE]]',\n  5: 'today is [[WORK_DATE]]',\n  9: '',\n  12: datetime.datetime(2024, 6, 16, 12, 5, 41, 455567),\n  13: 2024,\n  14: 2023,\n  30: datetime.datetime(2020, 9, 20, 21, 33, 21),\n  31: datetime.datetime(2020, 9, 20, 0, 0),\n  34: datetime.datetime(2020, 9, 21, 0, 0),\n  35: '20200921'},\n 'get_ipython': <bound method InteractiveShell.get_ipython of <ipykernel.zmqshell.ZMQInteractiveShell object at 0x000001DDFF3AC920>>,\n 'exit': <IPython.core.autocall.ZMQExitAutocall at 0x1ddff3ad160>,\n 'quit': <IPython.core.autocall.ZMQExitAutocall at 0x1ddff3ad160>,\n 'open': <function _io.open(file, mode='r', buffering=-1, encoding=None, errors=None, newline=None, closefd=True, opener=None)>,\n '_': '20200921',\n '__': datetime.datetime(2020, 9, 21, 0, 0),\n '___': datetime.datetime(2020, 9, 20, 0, 0),\n '__session__': 'PythonBase/string/gbhu_string.ipynb',\n '_i': 'str_time=\\'2020920\\'\\ndate_1=datetime.datetime.strptime(str_time, \"%Y%m%d\")\\ndate_2=date_1+datetime.timedelta(days=1)\\ndate_2.strftime(\"%Y%m%d\")',\n '_ii': 'str_time=\\'2020-9-20\\'\\ndate_1=datetime.datetime.strptime(str_time, \"%Y-%m-%d\")\\ndate_2=date_1+datetime.timedelta(days=1)\\ndate_2',\n '_iii': 'str_time=\\'2020-9-20\\'\\ndate_1=datetime.datetime.strptime(str_time, \"%Y-%m-%d\")\\ndate_2=date_1+datetime.timedelta(days=1)',\n '_i1': \"WORK_DATE='2024-06-16'\",\n 'WORK_DATE': '2024-06-16',\n 'sys': <module 'sys' (built-in)>,\n 'remove_imported_pydev_package': <function pydev_jupyter_utils.remove_imported_pydev_package()>,\n '_pydevd_bundle': <module '_pydevd_bundle' from 'C:\\\\Users\\\\huguobin\\\\AppData\\\\Local\\\\JetBrains\\\\Toolbox\\\\apps\\\\PyCharm-P\\\\ch-0\\\\232.10203.26\\\\plugins\\\\python\\\\helpers\\\\pydev\\\\_pydevd_bundle\\\\__init__.py'>,\n 'pydev_jupyter_vars': <module 'pydev_jupyter_vars' from 'C:\\\\Users\\\\huguobin\\\\AppData\\\\Local\\\\JetBrains\\\\Toolbox\\\\apps\\\\PyCharm-P\\\\ch-0\\\\232.10203.26\\\\plugins\\\\python\\\\helpers-pro\\\\jupyter_debug\\\\pydev_jupyter_vars.py'>,\n '_i2': \"str='''today is [[WORK_DATE]]'''\",\n 'str': '20240606',\n '_i3': 'str',\n '_3': 'today is [[WORK_DATE]]',\n '_i4': \"str=r'''today is [[WORK_DATE]]'''\",\n '_i5': 'str',\n '_5': 'today is [[WORK_DATE]]',\n '_i6': 'print(str)',\n '_i7': 'print(\"str:\")',\n '_i8': 'import sys',\n '_i9': 'sys.stdin.readline().strip()',\n '_9': '',\n '_i10': 'import  datetime',\n 'datetime': <module 'datetime' from 'C:\\\\Users\\\\huguobin\\\\AppData\\\\Local\\\\Programs\\\\Python\\\\Python312\\\\Lib\\\\datetime.py'>,\n '_i11': 'datetime.now()',\n '_i12': 'datetime.datetime.now()',\n '_12': datetime.datetime(2024, 6, 16, 12, 5, 41, 455567),\n '_i13': 'datetime.datetime.now().year',\n '_13': 2024,\n '_i14': 'datetime.datetime.now().year-1',\n '_14': 2023,\n '_i15': 'str=\"2024-06-06\"',\n '_i16': 'str=\"20240606\"',\n '_i17': 'datetime.datetime.strftime(str,\"%Y%m%d\")',\n '_i18': 'datetime.datetime.strftime(str,\"%Y%m%d\")',\n '_i19': 'datetime.datetime.strftime(str,\"%Y%m%d\")',\n '_i20': 'str1=\"20240606\"',\n 'str1': '2024-06-06',\n '_i21': 'datetime.datetime.strftime(str1,\"%Y%m%d\")',\n '_i22': 'datetime.datetime.strftime(str1,\"%Y%m%d\")',\n '_i23': 'datetime.datetime.strftime(str1,\"%Y-%m-%d\")',\n '_i24': 'datetime.strftime(str1,\"%Y-%m-%d\")',\n '_i25': 'import time,datetime\\nstr_time = \\'2020-9-20 21:33:21\\'\\nfmt = \\'%Y-%m-%d %H:%M:%S\\'\\nprint(str_time)\\nprint(type(str_time))\\nstr_time = datetime.datetime.strptime(str_time, \"%Y-%m-%d %H:%M:%S\")\\nprint(str_time)\\nprint(type(str_time))',\n 'time': <module 'time' (built-in)>,\n 'str_time': '2020920',\n 'fmt': '%Y-%m-%d %H:%M:%S',\n '_i26': 'str1=\"2024-06-06\"\\ndatetime.datetime.strftime(str1,\"%Y-%m-%d\")',\n '_i27': 'str1=\\'2024-06-06\\'\\ndatetime.datetime.strftime(str1,\"%Y-%m-%d\")',\n '_i28': 'str_time=\\'2024-06-06\\'\\ndatetime.datetime.strftime(str_time,\"%Y-%m-%d\")',\n '_i29': 'str_time=\\'2020-9-20 21:33:21\\'\\ndatetime.datetime.strftime(str_time, \"%Y-%m-%d %H:%M:%S\")',\n '_i30': 'str_time=\\'2020-9-20 21:33:21\\'\\ndatetime.datetime.strptime(str_time, \"%Y-%m-%d %H:%M:%S\")',\n '_30': datetime.datetime(2020, 9, 20, 21, 33, 21),\n '_i31': 'str_time=\\'2020-9-20\\'\\ndatetime.datetime.strptime(str_time, \"%Y-%m-%d\")',\n '_31': datetime.datetime(2020, 9, 20, 0, 0),\n '_i32': 'str_time=\\'2020-9-20\\'\\ndate_1=datetime.datetime.strptime(str_time, \"%Y-%m-%d\")\\ndate_2=date_1+datetime.timedelta(day=1)',\n 'date_1': datetime.datetime(2020, 9, 20, 0, 0),\n '_i33': 'str_time=\\'2020-9-20\\'\\ndate_1=datetime.datetime.strptime(str_time, \"%Y-%m-%d\")\\ndate_2=date_1+datetime.timedelta(days=1)',\n 'date_2': datetime.datetime(2020, 9, 21, 0, 0),\n '_i34': 'str_time=\\'2020-9-20\\'\\ndate_1=datetime.datetime.strptime(str_time, \"%Y-%m-%d\")\\ndate_2=date_1+datetime.timedelta(days=1)\\ndate_2',\n '_34': datetime.datetime(2020, 9, 21, 0, 0),\n '_i35': 'str_time=\\'2020920\\'\\ndate_1=datetime.datetime.strptime(str_time, \"%Y%m%d\")\\ndate_2=date_1+datetime.timedelta(days=1)\\ndate_2.strftime(\"%Y%m%d\")',\n '_35': '20200921',\n '_i36': 'globals()'}"
     },
     "execution_count": 36,
     "metadata": {},
     "output_type": "execute_result"
    }
   ],
   "source": [
    "globals()"
   ],
   "metadata": {
    "collapsed": false,
    "ExecuteTime": {
     "end_time": "2024-06-16T04:27:24.006414300Z",
     "start_time": "2024-06-16T04:27:23.981938700Z"
    }
   }
  },
  {
   "cell_type": "code",
   "execution_count": 37,
   "outputs": [
    {
     "data": {
      "text/plain": "datetime.datetime(2023, 12, 31, 16, 50, 17, 870548)"
     },
     "execution_count": 37,
     "metadata": {},
     "output_type": "execute_result"
    }
   ],
   "source": [
    "datetime.datetime.now().replace(year=datetime.datetime.now().year-1).replace(month=12,day=31)"
   ],
   "metadata": {
    "collapsed": false,
    "ExecuteTime": {
     "end_time": "2024-06-17T08:50:17.885731Z",
     "start_time": "2024-06-17T08:50:17.865550400Z"
    }
   }
  },
  {
   "cell_type": "code",
   "execution_count": 38,
   "outputs": [
    {
     "name": "stdout",
     "output_type": "stream",
     "text": [
      "2023-12-31 16:53:33.969279\n"
     ]
    }
   ],
   "source": [
    "print(datetime.datetime.now().replace(year=datetime.datetime.now().year-1).replace(month=12,day=31))"
   ],
   "metadata": {
    "collapsed": false,
    "ExecuteTime": {
     "end_time": "2024-06-17T08:53:34.010904700Z",
     "start_time": "2024-06-17T08:53:33.969279200Z"
    }
   }
  },
  {
   "cell_type": "code",
   "execution_count": null,
   "outputs": [],
   "source": [],
   "metadata": {
    "collapsed": false
   }
  }
 ],
 "metadata": {
  "kernelspec": {
   "display_name": "Python 3",
   "language": "python",
   "name": "python3"
  },
  "language_info": {
   "codemirror_mode": {
    "name": "ipython",
    "version": 3
   },
   "file_extension": ".py",
   "mimetype": "text/x-python",
   "name": "python",
   "nbconvert_exporter": "python",
   "pygments_lexer": "ipython3",
   "version": "3.12.1"
  }
 },
 "nbformat": 4,
 "nbformat_minor": 2
}
