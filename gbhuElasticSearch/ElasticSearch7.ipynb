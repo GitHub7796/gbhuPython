{
 "cells": [
  {
   "cell_type": "code",
   "execution_count": 1,
   "metadata": {},
   "outputs": [
    {
     "name": "stdout",
     "output_type": "stream",
     "text": [
      "Collecting elasticsearch\n",
      "  Obtaining dependency information for elasticsearch from https://files.pythonhosted.org/packages/05/08/7bdac135d8a2fa85dfb0abbbedf346a304880fde1fe2352e690c64374b72/elasticsearch-8.13.1-py3-none-any.whl.metadata\n",
      "  Downloading elasticsearch-8.13.1-py3-none-any.whl.metadata (6.5 kB)\n",
      "Collecting elastic-transport<9,>=8.13 (from elasticsearch)\n",
      "  Obtaining dependency information for elastic-transport<9,>=8.13 from https://files.pythonhosted.org/packages/aa/2f/7606c450a4ba07cd8ba818845ea2dca880a76fad5536f6d038289713a619/elastic_transport-8.13.0-py3-none-any.whl.metadata\n",
      "  Downloading elastic_transport-8.13.0-py3-none-any.whl.metadata (3.7 kB)\n",
      "Requirement already satisfied: urllib3<3,>=1.26.2 in c:\\users\\huguobin\\appdata\\local\\programs\\python\\python312\\lib\\site-packages (from elastic-transport<9,>=8.13->elasticsearch) (2.2.0)\n",
      "Requirement already satisfied: certifi in c:\\users\\huguobin\\appdata\\local\\programs\\python\\python312\\lib\\site-packages (from elastic-transport<9,>=8.13->elasticsearch) (2023.11.17)\n",
      "Downloading elasticsearch-8.13.1-py3-none-any.whl (477 kB)\n",
      "   ---------------------------------------- 0.0/477.5 kB ? eta -:--:--\n",
      "    --------------------------------------- 10.2/477.5 kB ? eta -:--:--\n",
      "   -- ------------------------------------ 30.7/477.5 kB 435.7 kB/s eta 0:00:02\n",
      "   ----- --------------------------------- 61.4/477.5 kB 544.7 kB/s eta 0:00:01\n",
      "   -------- ----------------------------- 112.6/477.5 kB 726.2 kB/s eta 0:00:01\n",
      "   ------------- ------------------------ 174.1/477.5 kB 876.1 kB/s eta 0:00:01\n",
      "   --------------------- ------------------ 256.0/477.5 kB 1.1 MB/s eta 0:00:01\n",
      "   --------------------------- ------------ 327.7/477.5 kB 1.1 MB/s eta 0:00:01\n",
      "   ---------------------------------------  471.0/477.5 kB 1.4 MB/s eta 0:00:01\n",
      "   ---------------------------------------- 477.5/477.5 kB 1.3 MB/s eta 0:00:00\n",
      "Downloading elastic_transport-8.13.0-py3-none-any.whl (64 kB)\n",
      "   ---------------------------------------- 0.0/64.3 kB ? eta -:--:--\n",
      "   ---------------------------------------- 64.3/64.3 kB ? eta 0:00:00\n",
      "Installing collected packages: elastic-transport, elasticsearch\n",
      "Successfully installed elastic-transport-8.13.0 elasticsearch-8.13.1\n"
     ]
    },
    {
     "name": "stderr",
     "output_type": "stream",
     "text": [
      "\n",
      "[notice] A new release of pip is available: 23.2.1 -> 24.0\n",
      "[notice] To update, run: python.exe -m pip install --upgrade pip\n"
     ]
    }
   ],
   "source": [
    "!pip install elasticsearch"
   ]
  },
  {
   "cell_type": "code",
   "execution_count": null,
   "metadata": {},
   "outputs": [],
   "source": [
    "from elasticsearch import Elasticsearch\n",
    "\n",
    "es = Elasticsearch([{\"host\":\"ip\",\"port\":9200}])\n",
    "\n",
    "es.search(index='es_python')  # index：选择数据库\n"
   ]
  }
 ],
 "metadata": {
  "kernelspec": {
   "display_name": "Python 3",
   "language": "python",
   "name": "python3"
  },
  "language_info": {
   "name": "python",
   "version": "3.12.1"
  }
 },
 "nbformat": 4,
 "nbformat_minor": 2
}
