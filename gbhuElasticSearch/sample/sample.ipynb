{
 "cells": [
  {
   "cell_type": "code",
   "execution_count": null,
   "metadata": {},
   "outputs": [],
   "source": [
    "# 从数据库读取数据 并 插入es\n",
    "# 数据库可以是多种数据库"
   ]
  },
  {
   "cell_type": "code",
   "execution_count": null,
   "metadata": {},
   "outputs": [],
   "source": []
  },
  {
   "cell_type": "code",
   "execution_count": 12,
   "metadata": {},
   "outputs": [],
   "source": [
    "from elasticsearch6 import Elasticsearch\n",
    "es_client= Elasticsearch(\"http://118.25.151.8:9200/\")"
   ]
  },
  {
   "cell_type": "code",
   "execution_count": 16,
   "metadata": {},
   "outputs": [],
   "source": [
    "INDEX='test'\n",
    "INDEX_ALIAS='app.test'\n",
    "INDEX_BODY='''\n",
    "{\n",
    "\t\"settings\": {\n",
    "\t\t\"number_of_shards\": 3,\n",
    "\t\t\"number_of_replicas\": 2\n",
    "\t},\n",
    "\t\"mapping\": {\n",
    "\t\t\"_doc\": {\n",
    "\t\t\t\"properties\": {\n",
    "\t\t\t\t\"user_name\": {\n",
    "\t\t\t\t\t\"type\": \"long\"\n",
    "\t\t\t\t},\n",
    "\t\t\t\t\"age\": {\n",
    "\t\t\t\t\t\"type\": \"text\"\n",
    "\t\t\t\t},\n",
    "\t\t\t\t\"passwd\": {\n",
    "\t\t\t\t\t\"type\": \"keyword\"\n",
    "\t\t\t\t}\n",
    "\t\t\t}\n",
    "\t\t}\n",
    "\t}\n",
    "}\n",
    "'''"
   ]
  },
  {
   "cell_type": "code",
   "execution_count": 16,
   "metadata": {},
   "outputs": [
    {
     "data": {
      "text/plain": [
       "{'acknowledged': True, 'shards_acknowledged': True, 'index': 'test'}"
      ]
     },
     "execution_count": 16,
     "metadata": {},
     "output_type": "execute_result"
    }
   ],
   "source": [
    "# 创建索引\n",
    "es_client.indices.create(index=INDEX,body=INDEX_BODY)"
   ]
  },
  {
   "cell_type": "code",
   "execution_count": 18,
   "metadata": {},
   "outputs": [
    {
     "data": {
      "text/plain": [
       "True"
      ]
     },
     "execution_count": 18,
     "metadata": {},
     "output_type": "execute_result"
    }
   ],
   "source": [
    "# 判断索引是否存在\n",
    "es_client.indices.exists(INDEX)"
   ]
  },
  {
   "cell_type": "markdown",
   "metadata": {},
   "source": [
    "# 批量插入数据"
   ]
  },
  {
   "cell_type": "code",
   "execution_count": 9,
   "metadata": {},
   "outputs": [],
   "source": [
    "# 模拟数据\n",
    "import uuid\n",
    "from faker import Faker\n",
    "fake=Faker()\n",
    "datas=[]\n",
    "for i in range(10):\n",
    "    row={\n",
    "        \"id\":uuid.uuid4().hex,\n",
    "        \"user_name\":fake.name(),\n",
    "        \"age\":fake.random_int(min=18, max=100),\n",
    "        \"passwd\":uuid.uuid4().hex\n",
    "    }\n",
    "    datas.append(row)\n",
    "actions=[\n",
    "    {\n",
    "        \"_index\":INDEX,\n",
    "        \"_type\":\"_doc\",\n",
    "        \"_id\":data['id'],\n",
    "        \"_source\":{k: v for k, v in data.items() if k != \"id\"}\n",
    "    } for data in datas\n",
    "]"
   ]
  },
  {
   "cell_type": "code",
   "execution_count": 10,
   "metadata": {},
   "outputs": [
    {
     "data": {
      "text/plain": [
       "[{'_index': 'test',\n",
       "  '_type': '_doc',\n",
       "  '_id': '1fa5855fa4584eceaee52676f1c210e3',\n",
       "  '_source': {'user_name': 'Gene Green',\n",
       "   'age': 59,\n",
       "   'passwd': '20e7770fafab49c5b0035a97e06348e4'}},\n",
       " {'_index': 'test',\n",
       "  '_type': '_doc',\n",
       "  '_id': '712a693ff0f54eef91c43bad754cfc26',\n",
       "  '_source': {'user_name': 'Mark Smith',\n",
       "   'age': 78,\n",
       "   'passwd': '4105db6f5d05409981d6c86888731846'}},\n",
       " {'_index': 'test',\n",
       "  '_type': '_doc',\n",
       "  '_id': '1263031244e64eefb7016f0999d06003',\n",
       "  '_source': {'user_name': 'Kelly Chandler',\n",
       "   'age': 58,\n",
       "   'passwd': 'b9adcb8901c34d8e82d29b77247798a1'}},\n",
       " {'_index': 'test',\n",
       "  '_type': '_doc',\n",
       "  '_id': 'dc25df5740404ef7a9751cb310c095cd',\n",
       "  '_source': {'user_name': 'Erin Torres',\n",
       "   'age': 46,\n",
       "   'passwd': '86c6ceae70a14b2195a9ca106befbdbd'}},\n",
       " {'_index': 'test',\n",
       "  '_type': '_doc',\n",
       "  '_id': '902dfb000afd476caf5f029ebc4bc3e9',\n",
       "  '_source': {'user_name': 'Sean Bautista',\n",
       "   'age': 78,\n",
       "   'passwd': '0a4d0c54603d47edbc7ca673f412e05c'}},\n",
       " {'_index': 'test',\n",
       "  '_type': '_doc',\n",
       "  '_id': '4430add063e94de3bf1a23a17bc6cc2d',\n",
       "  '_source': {'user_name': 'Christopher Cohen',\n",
       "   'age': 71,\n",
       "   'passwd': 'db571d46557849459cf921bd4c58a24e'}},\n",
       " {'_index': 'test',\n",
       "  '_type': '_doc',\n",
       "  '_id': 'bfb7ab5be3c7493683f986f7608d7f06',\n",
       "  '_source': {'user_name': 'Kathleen Gaines',\n",
       "   'age': 50,\n",
       "   'passwd': '6af142088ea1448fae2b7e626bbcb2d1'}},\n",
       " {'_index': 'test',\n",
       "  '_type': '_doc',\n",
       "  '_id': 'ea449b4561034f46b10342b940a39ad9',\n",
       "  '_source': {'user_name': 'Jonathan Carter',\n",
       "   'age': 53,\n",
       "   'passwd': '64592b630eb543eba6eb1ff871b962cb'}},\n",
       " {'_index': 'test',\n",
       "  '_type': '_doc',\n",
       "  '_id': '734aba9dd7b74a2fa4163352bb225216',\n",
       "  '_source': {'user_name': 'Mr. John Moyer',\n",
       "   'age': 22,\n",
       "   'passwd': '48f56d9087bd4f62a1c33c3412632447'}},\n",
       " {'_index': 'test',\n",
       "  '_type': '_doc',\n",
       "  '_id': '576cd6c831f64a288a6261a72ee8f142',\n",
       "  '_source': {'user_name': 'Stacy Ramirez',\n",
       "   'age': 93,\n",
       "   'passwd': '7d0ee61d870643dd9cf3e60ccbb6e68f'}}]"
      ]
     },
     "execution_count": 10,
     "metadata": {},
     "output_type": "execute_result"
    }
   ],
   "source": [
    "actions"
   ]
  },
  {
   "cell_type": "code",
   "execution_count": null,
   "metadata": {},
   "outputs": [],
   "source": []
  },
  {
   "cell_type": "code",
   "execution_count": 15,
   "metadata": {},
   "outputs": [
    {
     "data": {
      "text/plain": [
       "(10, [])"
      ]
     },
     "execution_count": 15,
     "metadata": {},
     "output_type": "execute_result"
    }
   ],
   "source": [
    "# 批量插入\n",
    "from elasticsearch6.helpers import bulk\n",
    "bulk(es_client,actions)"
   ]
  },
  {
   "cell_type": "code",
   "execution_count": 23,
   "metadata": {},
   "outputs": [
    {
     "data": {
      "text/plain": [
       "{'acknowledged': True}"
      ]
     },
     "execution_count": 23,
     "metadata": {},
     "output_type": "execute_result"
    }
   ],
   "source": [
    "# 创建别名\n",
    "es_client.indices.put_alias(INDEX,INDEX_ALIAS)"
   ]
  },
  {
   "cell_type": "code",
   "execution_count": 24,
   "metadata": {},
   "outputs": [
    {
     "data": {
      "text/plain": [
       "{'test': {'aliases': {'app.test': {}}}}"
      ]
     },
     "execution_count": 24,
     "metadata": {},
     "output_type": "execute_result"
    }
   ],
   "source": [
    "# 获取别名\n",
    "es_client.indices.get_alias(name=INDEX_ALIAS)"
   ]
  },
  {
   "cell_type": "code",
   "execution_count": 25,
   "metadata": {},
   "outputs": [
    {
     "data": {
      "text/plain": [
       "{'acknowledged': True}"
      ]
     },
     "execution_count": 25,
     "metadata": {},
     "output_type": "execute_result"
    }
   ],
   "source": [
    "# 删除别名\n",
    "es_client.indices.delete_alias(index=INDEX,name=INDEX_ALIAS)"
   ]
  },
  {
   "cell_type": "code",
   "execution_count": 26,
   "metadata": {},
   "outputs": [
    {
     "data": {
      "text/plain": [
       "{'acknowledged': True}"
      ]
     },
     "execution_count": 26,
     "metadata": {},
     "output_type": "execute_result"
    }
   ],
   "source": [
    "# 删除索引\n",
    "es_client.indices.delete(INDEX)"
   ]
  }
 ],
 "metadata": {
  "kernelspec": {
   "display_name": "Python 3",
   "language": "python",
   "name": "python3"
  },
  "language_info": {
   "codemirror_mode": {
    "name": "ipython",
    "version": 3
   },
   "file_extension": ".py",
   "mimetype": "text/x-python",
   "name": "python",
   "nbconvert_exporter": "python",
   "pygments_lexer": "ipython3",
   "version": "3.12.1"
  }
 },
 "nbformat": 4,
 "nbformat_minor": 2
}
