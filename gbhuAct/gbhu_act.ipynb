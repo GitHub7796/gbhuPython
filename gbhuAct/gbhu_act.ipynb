{
 "cells": [
  {
   "cell_type": "markdown",
   "metadata": {},
   "source": [
    "sqlparse ：sqlparse是一个功能强大的SQL解析器和格式化器，可以解析SQL语句并将其转换为Python对象表示形式。它可以处理各种SQL语句，包括复杂的嵌套查询、多语句等。此外，sqlparse还提供了将SQL语句格式化为易于阅读的形式的功能。\n",
    "\n",
    "官方网站：https://github.com/andialbrecht/sqlparse\n",
    "\n",
    "antlr4：antlr4是一个强大的语言识别器生成器，可以根据给定的语法规则生成解析器。它支持广泛的语言和语法，包括SQL。虽然antlr4本身是用Java编写的，但是它也提供了Python的运行时库，可以在Python中使用antlr4生成的解析器。\n",
    "\n",
    "官方网站：https://www.antlr.org/\n",
    "\n",
    "PyParsing：PyParsing是一个纯Python实现的解析器库，用于构建解析器和语法分析器。虽然它没有antlr4那么强大，但它简单易用，适合处理简单到中等复杂度的语法结构。\n",
    "\n",
    "官方网站：https://pyparsing.pyparsing.org/"
   ]
  },
  {
   "cell_type": "markdown",
   "metadata": {},
   "source": [
    "sqlglot\n",
    "\n",
    "官网：https://sqlglot.com/sqlglot.html#examples\n",
    "\n",
    "ast 抽象语法树入门：https://github.com/tobymao/sqlglot/blob/main/posts/ast_primer.md"
   ]
  },
  {
   "cell_type": "code",
   "execution_count": 1,
   "metadata": {
    "ExecuteTime": {
     "end_time": "2024-02-18T07:00:44.286549700Z",
     "start_time": "2024-02-18T07:00:33.368932600Z"
    }
   },
   "outputs": [
    {
     "name": "stdout",
     "output_type": "stream",
     "text": [
      "Collecting sqlglot\n",
      "  Obtaining dependency information for sqlglot from https://files.pythonhosted.org/packages/fd/1b/d5a8755649f8bcdf2a27af87506d9da2058257c07e82bbc3c4bbae6ca403/sqlglot-21.1.1-py3-none-any.whl.metadata\n",
      "  Downloading sqlglot-21.1.1-py3-none-any.whl.metadata (16 kB)\n",
      "Downloading sqlglot-21.1.1-py3-none-any.whl (363 kB)\n",
      "   ---------------------------------------- 0.0/363.6 kB ? eta -:--:--\n",
      "   ---------------------------------------- 0.0/363.6 kB ? eta -:--:--\n",
      "   ---------------------------------------- 0.0/363.6 kB ? eta -:--:--\n",
      "   ---------------------------------------- 0.0/363.6 kB ? eta -:--:--\n",
      "   ---------------------------------------- 0.0/363.6 kB ? eta -:--:--\n",
      "   ---------------------------------------- 0.0/363.6 kB ? eta -:--:--\n",
      "   ---------------------------------------- 0.0/363.6 kB ? eta -:--:--\n",
      "   - -------------------------------------- 10.2/363.6 kB ? eta -:--:--\n",
      "   - -------------------------------------- 10.2/363.6 kB ? eta -:--:--\n",
      "   - -------------------------------------- 10.2/363.6 kB ? eta -:--:--\n",
      "   - -------------------------------------- 10.2/363.6 kB ? eta -:--:--\n",
      "   - -------------------------------------- 10.2/363.6 kB ? eta -:--:--\n",
      "   - -------------------------------------- 10.2/363.6 kB ? eta -:--:--\n",
      "   - -------------------------------------- 10.2/363.6 kB ? eta -:--:--\n",
      "   - -------------------------------------- 10.2/363.6 kB ? eta -:--:--\n",
      "   - -------------------------------------- 10.2/363.6 kB ? eta -:--:--\n",
      "   - -------------------------------------- 10.2/363.6 kB ? eta -:--:--\n",
      "   - -------------------------------------- 10.2/363.6 kB ? eta -:--:--\n",
      "   - -------------------------------------- 10.2/363.6 kB ? eta -:--:--\n",
      "   - -------------------------------------- 10.2/363.6 kB ? eta -:--:--\n",
      "   -------------- ----------------------- 143.4/363.6 kB 213.0 kB/s eta 0:00:02\n",
      "   -------------- ----------------------- 143.4/363.6 kB 213.0 kB/s eta 0:00:02\n",
      "   -------------- ----------------------- 143.4/363.6 kB 213.0 kB/s eta 0:00:02\n",
      "   -------------- ----------------------- 143.4/363.6 kB 213.0 kB/s eta 0:00:02\n",
      "   -------------- ----------------------- 143.4/363.6 kB 213.0 kB/s eta 0:00:02\n",
      "   ------------------ ------------------- 174.1/363.6 kB 194.1 kB/s eta 0:00:01\n",
      "   --------------------- ---------------- 204.8/363.6 kB 218.4 kB/s eta 0:00:01\n",
      "   ----------------------- -------------- 225.3/363.6 kB 237.3 kB/s eta 0:00:01\n",
      "   ----------------------- -------------- 225.3/363.6 kB 237.3 kB/s eta 0:00:01\n",
      "   ----------------------- -------------- 225.3/363.6 kB 237.3 kB/s eta 0:00:01\n",
      "   ----------------------- -------------- 225.3/363.6 kB 237.3 kB/s eta 0:00:01\n",
      "   ----------------------- -------------- 225.3/363.6 kB 237.3 kB/s eta 0:00:01\n",
      "   ------------------------ ------------- 235.5/363.6 kB 189.6 kB/s eta 0:00:01\n",
      "   ------------------------ ------------- 235.5/363.6 kB 189.6 kB/s eta 0:00:01\n",
      "   ---------------------------- --------- 276.5/363.6 kB 213.0 kB/s eta 0:00:01\n",
      "   -------------------------------- ----- 307.2/363.6 kB 223.6 kB/s eta 0:00:01\n",
      "   -------------------------------------  358.4/363.6 kB 256.0 kB/s eta 0:00:01\n",
      "   -------------------------------------- 363.6/363.6 kB 254.0 kB/s eta 0:00:00\n",
      "Installing collected packages: sqlglot\n",
      "Successfully installed sqlglot-21.1.1\n"
     ]
    },
    {
     "name": "stderr",
     "output_type": "stream",
     "text": [
      "\n",
      "[notice] A new release of pip is available: 23.2.1 -> 24.0\n",
      "[notice] To update, run: python.exe -m pip install --upgrade pip\n"
     ]
    }
   ],
   "source": [
    "!pip install sqlglot"
   ]
  },
  {
   "cell_type": "code",
   "execution_count": 3,
   "metadata": {
    "ExecuteTime": {
     "end_time": "2024-02-18T07:00:49.811662300Z",
     "start_time": "2024-02-18T07:00:49.727672100Z"
    }
   },
   "outputs": [],
   "source": [
    "# sql语法解析器\n",
    "import sqlglot\n",
    "# sql 类型\n",
    "from sqlglot import exp"
   ]
  },
  {
   "cell_type": "code",
   "execution_count": 8,
   "metadata": {
    "ExecuteTime": {
     "end_time": "2024-02-18T07:00:50.048324400Z",
     "start_time": "2024-02-18T07:00:50.042996Z"
    }
   },
   "outputs": [],
   "source": [
    "sql='''\n",
    "insert into test\n",
    "(\n",
    "    id,\n",
    "    name\n",
    ")\n",
    "select\n",
    "    t1.id,\n",
    "    case when nvl(length(t1.name1),0) > 0 then t1.bname1\n",
    "    else t2.name2 end as name\n",
    "from table1 t1\n",
    "left join table2 t2 on t1.id = t2.id\n",
    "left join (select id from tc3 left join tc4 on tc3.id = tc4.id and tc4.name<>'') t3 on t1.id = t3.id\n",
    "where id is not null\n",
    "group by name\n",
    "'''"
   ]
  },
  {
   "cell_type": "code",
   "execution_count": 9,
   "metadata": {
    "ExecuteTime": {
     "end_time": "2024-02-18T07:00:51.655056500Z",
     "start_time": "2024-02-18T07:00:51.626031300Z"
    }
   },
   "outputs": [],
   "source": [
    "# 转换sql为 ast tree\n",
    "ast=sqlglot.parse_one(sql)"
   ]
  },
  {
   "cell_type": "code",
   "execution_count": 15,
   "metadata": {},
   "outputs": [
    {
     "name": "stdout",
     "output_type": "stream",
     "text": [
      "test\n"
     ]
    }
   ],
   "source": [
    "# 获取insert table 名称\n",
    "for pre in ast.this.find_all(exp.Table):\n",
    "    print(pre)"
   ]
  },
  {
   "cell_type": "code",
   "execution_count": 16,
   "metadata": {},
   "outputs": [
    {
     "name": "stdout",
     "output_type": "stream",
     "text": [
      "table1 AS t1\n",
      "table2 AS t2\n",
      "tc3\n",
      "tc4\n"
     ]
    }
   ],
   "source": [
    "# 获取from table 名称\n",
    "for pre in ast.expression.find_all(exp.Table):\n",
    "    print(pre)"
   ]
  },
  {
   "cell_type": "code",
   "execution_count": 6,
   "metadata": {
    "ExecuteTime": {
     "end_time": "2024-02-18T07:00:51.978728300Z",
     "start_time": "2024-02-18T07:00:51.969143100Z"
    }
   },
   "outputs": [
    {
     "name": "stdout",
     "output_type": "stream",
     "text": [
      "LEFT JOIN table2 AS t2 ON t1.id = t2.id\n",
      "table2 AS t2\n",
      "LEFT JOIN (SELECT id FROM tc3 LEFT JOIN tc4 ON tc3.id = tc4.id AND tc4.name <> '') AS t3 ON t1.id = t3.id\n",
      "tc3\n",
      "tc4\n",
      "LEFT JOIN tc4 ON tc3.id = tc4.id AND tc4.name <> ''\n",
      "tc4\n"
     ]
    }
   ],
   "source": [
    "for pre in ast.expression.find_all(exp.Join):\n",
    "    print(pre)\n",
    "    for pre_table in pre.find_all(exp.Table):\n",
    "        print(pre_table)"
   ]
  },
  {
   "cell_type": "markdown",
   "metadata": {},
   "source": [
    "ast.this"
   ]
  },
  {
   "cell_type": "code",
   "execution_count": 26,
   "metadata": {},
   "outputs": [
    {
     "data": {
      "text/plain": [
       "Schema(\n",
       "  this=Table(\n",
       "    this=Identifier(this=test, quoted=False)),\n",
       "  expressions=[\n",
       "    Identifier(this=id, quoted=False),\n",
       "    Identifier(this=name, quoted=False)])"
      ]
     },
     "execution_count": 26,
     "metadata": {},
     "output_type": "execute_result"
    }
   ],
   "source": [
    "# root 的 this 指\n",
    "# 如果语句 是 insert 那么 this 指向 insert ... 到 from或select之间的部分\n",
    "# 如果语句 是 select 那么 this 指向 select ... 到 from之间的部分\n",
    "ast.this"
   ]
  },
  {
   "cell_type": "markdown",
   "metadata": {},
   "source": [
    "ast.expression"
   ]
  },
  {
   "cell_type": "code",
   "execution_count": 27,
   "metadata": {},
   "outputs": [
    {
     "data": {
      "text/plain": [
       "Select(\n",
       "  expressions=[\n",
       "    Column(\n",
       "      this=Identifier(this=id, quoted=False),\n",
       "      table=Identifier(this=t1, quoted=False)),\n",
       "    Alias(\n",
       "      this=Case(\n",
       "        ifs=[\n",
       "          If(\n",
       "            this=GT(\n",
       "              this=Coalesce(\n",
       "                this=Length(\n",
       "                  this=Column(\n",
       "                    this=Identifier(this=name1, quoted=False),\n",
       "                    table=Identifier(this=t1, quoted=False))),\n",
       "                expressions=[\n",
       "                  Literal(this=0, is_string=False)]),\n",
       "              expression=Literal(this=0, is_string=False)),\n",
       "            true=Column(\n",
       "              this=Identifier(this=bname1, quoted=False),\n",
       "              table=Identifier(this=t1, quoted=False)))],\n",
       "        default=Column(\n",
       "          this=Identifier(this=name2, quoted=False),\n",
       "          table=Identifier(this=t2, quoted=False))),\n",
       "      alias=Identifier(this=name, quoted=False))],\n",
       "  from=From(\n",
       "    this=Table(\n",
       "      this=Identifier(this=table1, quoted=False),\n",
       "      alias=TableAlias(\n",
       "        this=Identifier(this=t1, quoted=False)))),\n",
       "  joins=[\n",
       "    Join(\n",
       "      this=Table(\n",
       "        this=Identifier(this=table2, quoted=False),\n",
       "        alias=TableAlias(\n",
       "          this=Identifier(this=t2, quoted=False))),\n",
       "      side=left,\n",
       "      on=EQ(\n",
       "        this=Column(\n",
       "          this=Identifier(this=id, quoted=False),\n",
       "          table=Identifier(this=t1, quoted=False)),\n",
       "        expression=Column(\n",
       "          this=Identifier(this=id, quoted=False),\n",
       "          table=Identifier(this=t2, quoted=False))))],\n",
       "  where=Where(\n",
       "    this=Not(\n",
       "      this=Is(\n",
       "        this=Column(\n",
       "          this=Identifier(this=id, quoted=False)),\n",
       "        expression=Null()))),\n",
       "  group=Group(\n",
       "    expressions=[\n",
       "      Column(\n",
       "        this=Identifier(this=name, quoted=False))]))"
      ]
     },
     "execution_count": 27,
     "metadata": {},
     "output_type": "execute_result"
    }
   ],
   "source": [
    "# 指 子查询 或 form 之后的部分\n",
    "ast.expression"
   ]
  },
  {
   "cell_type": "code",
   "execution_count": 54,
   "metadata": {},
   "outputs": [
    {
     "data": {
      "text/plain": [
       "{'this': Schema(\n",
       "   this=Table(\n",
       "     this=Identifier(this=test, quoted=False)),\n",
       "   expressions=[\n",
       "     Identifier(this=id, quoted=False),\n",
       "     Identifier(this=name, quoted=False)]),\n",
       " 'by_name': None,\n",
       " 'exists': None,\n",
       " 'partition': None,\n",
       " 'where': None,\n",
       " 'expression': Select(\n",
       "   expressions=[\n",
       "     Column(\n",
       "       this=Identifier(this=id, quoted=False),\n",
       "       table=Identifier(this=t1, quoted=False)),\n",
       "     Alias(\n",
       "       this=Case(\n",
       "         ifs=[\n",
       "           If(\n",
       "             this=GT(\n",
       "               this=Coalesce(\n",
       "                 this=Length(\n",
       "                   this=Column(\n",
       "                     this=Identifier(this=name1, quoted=False),\n",
       "                     table=Identifier(this=t1, quoted=False))),\n",
       "                 expressions=[\n",
       "                   Literal(this=0, is_string=False)]),\n",
       "               expression=Literal(this=0, is_string=False)),\n",
       "             true=Column(\n",
       "               this=Identifier(this=bname1, quoted=False),\n",
       "               table=Identifier(this=t1, quoted=False)))],\n",
       "         default=Column(\n",
       "           this=Identifier(this=name2, quoted=False),\n",
       "           table=Identifier(this=t2, quoted=False))),\n",
       "       alias=Identifier(this=name, quoted=False))],\n",
       "   from=From(\n",
       "     this=Table(\n",
       "       this=Identifier(this=table1, quoted=False),\n",
       "       alias=TableAlias(\n",
       "         this=Identifier(this=t1, quoted=False)))),\n",
       "   joins=[\n",
       "     Join(\n",
       "       this=Table(\n",
       "         this=Identifier(this=table2, quoted=False),\n",
       "         alias=TableAlias(\n",
       "           this=Identifier(this=t2, quoted=False))),\n",
       "       side=left,\n",
       "       on=EQ(\n",
       "         this=Column(\n",
       "           this=Identifier(this=id, quoted=False),\n",
       "           table=Identifier(this=t1, quoted=False)),\n",
       "         expression=Column(\n",
       "           this=Identifier(this=id, quoted=False),\n",
       "           table=Identifier(this=t2, quoted=False))))],\n",
       "   where=Where(\n",
       "     this=Not(\n",
       "       this=Is(\n",
       "         this=Column(\n",
       "           this=Identifier(this=id, quoted=False)),\n",
       "         expression=Null()))),\n",
       "   group=Group(\n",
       "     expressions=[\n",
       "       Column(\n",
       "         this=Identifier(this=name, quoted=False))])),\n",
       " 'conflict': None,\n",
       " 'returning': None,\n",
       " 'overwrite': None,\n",
       " 'alternative': None,\n",
       " 'ignore': None}"
      ]
     },
     "execution_count": 54,
     "metadata": {},
     "output_type": "execute_result"
    }
   ],
   "source": [
    "ast.args"
   ]
  },
  {
   "cell_type": "code",
   "execution_count": 29,
   "metadata": {},
   "outputs": [
    {
     "data": {
      "text/plain": [
       "[Column(\n",
       "   this=Identifier(this=id, quoted=False),\n",
       "   table=Identifier(this=t1, quoted=False)),\n",
       " Alias(\n",
       "   this=Case(\n",
       "     ifs=[\n",
       "       If(\n",
       "         this=GT(\n",
       "           this=Coalesce(\n",
       "             this=Length(\n",
       "               this=Column(\n",
       "                 this=Identifier(this=name1, quoted=False),\n",
       "                 table=Identifier(this=t1, quoted=False))),\n",
       "             expressions=[\n",
       "               Literal(this=0, is_string=False)]),\n",
       "           expression=Literal(this=0, is_string=False)),\n",
       "         true=Column(\n",
       "           this=Identifier(this=bname1, quoted=False),\n",
       "           table=Identifier(this=t1, quoted=False)))],\n",
       "     default=Column(\n",
       "       this=Identifier(this=name2, quoted=False),\n",
       "       table=Identifier(this=t2, quoted=False))),\n",
       "   alias=Identifier(this=name, quoted=False))]"
      ]
     },
     "execution_count": 29,
     "metadata": {},
     "output_type": "execute_result"
    }
   ],
   "source": [
    "ast.expression.expressions"
   ]
  },
  {
   "cell_type": "code",
   "execution_count": 43,
   "metadata": {},
   "outputs": [
    {
     "data": {
      "text/plain": [
       "{'kind': None,\n",
       " 'hint': None,\n",
       " 'distinct': None,\n",
       " 'expressions': [Column(\n",
       "    this=Identifier(this=id, quoted=False),\n",
       "    table=Identifier(this=t1, quoted=False)),\n",
       "  Alias(\n",
       "    this=Case(\n",
       "      ifs=[\n",
       "        If(\n",
       "          this=GT(\n",
       "            this=Coalesce(\n",
       "              this=Length(\n",
       "                this=Column(\n",
       "                  this=Identifier(this=name1, quoted=False),\n",
       "                  table=Identifier(this=t1, quoted=False))),\n",
       "              expressions=[\n",
       "                Literal(this=0, is_string=False)]),\n",
       "            expression=Literal(this=0, is_string=False)),\n",
       "          true=Column(\n",
       "            this=Identifier(this=bname1, quoted=False),\n",
       "            table=Identifier(this=t1, quoted=False)))],\n",
       "      default=Column(\n",
       "        this=Identifier(this=name2, quoted=False),\n",
       "        table=Identifier(this=t2, quoted=False))),\n",
       "    alias=Identifier(this=name, quoted=False))],\n",
       " 'limit': None,\n",
       " 'from': From(\n",
       "   this=Table(\n",
       "     this=Identifier(this=table1, quoted=False),\n",
       "     alias=TableAlias(\n",
       "       this=Identifier(this=t1, quoted=False)))),\n",
       " 'joins': [Join(\n",
       "    this=Table(\n",
       "      this=Identifier(this=table2, quoted=False),\n",
       "      alias=TableAlias(\n",
       "        this=Identifier(this=t2, quoted=False))),\n",
       "    side=left,\n",
       "    on=EQ(\n",
       "      this=Column(\n",
       "        this=Identifier(this=id, quoted=False),\n",
       "        table=Identifier(this=t1, quoted=False)),\n",
       "      expression=Column(\n",
       "        this=Identifier(this=id, quoted=False),\n",
       "        table=Identifier(this=t2, quoted=False))))],\n",
       " 'where': Where(\n",
       "   this=Not(\n",
       "     this=Is(\n",
       "       this=Column(\n",
       "         this=Identifier(this=id, quoted=False)),\n",
       "       expression=Null()))),\n",
       " 'group': Group(\n",
       "   expressions=[\n",
       "     Column(\n",
       "       this=Identifier(this=name, quoted=False))])}"
      ]
     },
     "execution_count": 43,
     "metadata": {},
     "output_type": "execute_result"
    }
   ],
   "source": [
    "ast.expression.args"
   ]
  },
  {
   "cell_type": "markdown",
   "metadata": {},
   "source": [
    "ast.find_all"
   ]
  },
  {
   "cell_type": "code",
   "execution_count": 52,
   "metadata": {},
   "outputs": [
    {
     "name": "stdout",
     "output_type": "stream",
     "text": [
      "GROUP BY name\n"
     ]
    }
   ],
   "source": [
    "for pre in ast.expression.find_all(exp.Group):\n",
    "    print(pre)\n"
   ]
  },
  {
   "cell_type": "code",
   "execution_count": 65,
   "metadata": {},
   "outputs": [
    {
     "name": "stdout",
     "output_type": "stream",
     "text": [
      "LEFT JOIN table2 AS t2 ON t1.id = t2.id\n"
     ]
    }
   ],
   "source": [
    "for pre in ast.find_all(exp.Join):\n",
    "    print(pre)"
   ]
  },
  {
   "cell_type": "code",
   "execution_count": 63,
   "metadata": {},
   "outputs": [
    {
     "name": "stdout",
     "output_type": "stream",
     "text": [
      "SELECT t1.id, CASE WHEN COALESCE(LENGTH(t1.name1), 0) > 0 THEN t1.bname1 ELSE t2.name2 END AS name FROM table1 AS t1 LEFT JOIN table2 AS t2 ON t1.id = t2.id WHERE NOT id IS NULL GROUP BY name\n"
     ]
    }
   ],
   "source": [
    "for pre in ast.find_all(exp.Select):\n",
    "    print(pre)"
   ]
  },
  {
   "cell_type": "markdown",
   "metadata": {},
   "source": [
    "多sql情况"
   ]
  },
  {
   "cell_type": "code",
   "execution_count": 32,
   "metadata": {},
   "outputs": [],
   "source": [
    "multi_sql='''\n",
    "truncate table a;\n",
    "insert into a(id,name)  select * from b;\n",
    "'''"
   ]
  },
  {
   "cell_type": "code",
   "execution_count": 33,
   "metadata": {},
   "outputs": [
    {
     "name": "stderr",
     "output_type": "stream",
     "text": [
      "'truncate table a' contains unsupported syntax. Falling back to parsing as a 'Command'.\n"
     ]
    }
   ],
   "source": [
    "# 转换sql为 ast tree\n",
    "# parse 会转换多个sql，为ast list\n",
    "ast_list=sqlglot.parse(multi_sql)"
   ]
  },
  {
   "cell_type": "code",
   "execution_count": 40,
   "metadata": {},
   "outputs": [
    {
     "name": "stdout",
     "output_type": "stream",
     "text": [
      "TRUNCATE table a\n",
      "<class 'sqlglot.expressions.Command'>\n",
      "False\n",
      "INSERT INTO a (id, name) SELECT * FROM b\n",
      "<class 'sqlglot.expressions.Insert'>\n",
      "True\n"
     ]
    }
   ],
   "source": [
    "for pre in ast_list:\n",
    "    print(pre)\n",
    "    print(type(pre))\n",
    "    print(isinstance(pre,sqlglot.expressions.Insert))"
   ]
  },
  {
   "cell_type": "code",
   "execution_count": 7,
   "metadata": {},
   "outputs": [],
   "source": [
    "sql='''\n",
    "insert into a\n",
    "select `(num)?+.+` from (\n",
    "select *,row_number() over(partition by id order by id) as rn from b\n",
    ") t where t.num=1\n",
    "'''"
   ]
  },
  {
   "cell_type": "code",
   "execution_count": 8,
   "metadata": {},
   "outputs": [
    {
     "ename": "ParseError",
     "evalue": "Required keyword: 'expression' missing for <class 'sqlglot.expressions.JSONBContains'>. Line 3, Col: 15.\n  \ninsert into a\nselect `(num)?\u001b[4m+\u001b[0m.+` from (\nselect *,row_number() over(partition by id order by id) as rn from b\n) t where t.num=1\n",
     "output_type": "error",
     "traceback": [
      "\u001b[1;31m---------------------------------------------------------------------------\u001b[0m",
      "\u001b[1;31mParseError\u001b[0m                                Traceback (most recent call last)",
      "Cell \u001b[1;32mIn[8], line 1\u001b[0m\n\u001b[1;32m----> 1\u001b[0m \u001b[43msqlglot\u001b[49m\u001b[38;5;241;43m.\u001b[39;49m\u001b[43mparse\u001b[49m\u001b[43m(\u001b[49m\u001b[43msql\u001b[49m\u001b[43m)\u001b[49m\n",
      "File \u001b[1;32mc:\\Users\\huguobin\\AppData\\Local\\Programs\\Python\\Python312\\Lib\\site-packages\\sqlglot\\__init__.py:87\u001b[0m, in \u001b[0;36mparse\u001b[1;34m(sql, read, dialect, **opts)\u001b[0m\n\u001b[0;32m     72\u001b[0m \u001b[38;5;28;01mdef\u001b[39;00m \u001b[38;5;21mparse\u001b[39m(\n\u001b[0;32m     73\u001b[0m     sql: \u001b[38;5;28mstr\u001b[39m, read: DialectType \u001b[38;5;241m=\u001b[39m \u001b[38;5;28;01mNone\u001b[39;00m, dialect: DialectType \u001b[38;5;241m=\u001b[39m \u001b[38;5;28;01mNone\u001b[39;00m, \u001b[38;5;241m*\u001b[39m\u001b[38;5;241m*\u001b[39mopts\n\u001b[0;32m     74\u001b[0m ) \u001b[38;5;241m-\u001b[39m\u001b[38;5;241m>\u001b[39m t\u001b[38;5;241m.\u001b[39mList[t\u001b[38;5;241m.\u001b[39mOptional[Expression]]:\n\u001b[0;32m     75\u001b[0m \u001b[38;5;250m    \u001b[39m\u001b[38;5;124;03m\"\"\"\u001b[39;00m\n\u001b[0;32m     76\u001b[0m \u001b[38;5;124;03m    Parses the given SQL string into a collection of syntax trees, one per parsed SQL statement.\u001b[39;00m\n\u001b[0;32m     77\u001b[0m \n\u001b[1;32m   (...)\u001b[0m\n\u001b[0;32m     85\u001b[0m \u001b[38;5;124;03m        The resulting syntax tree collection.\u001b[39;00m\n\u001b[0;32m     86\u001b[0m \u001b[38;5;124;03m    \"\"\"\u001b[39;00m\n\u001b[1;32m---> 87\u001b[0m     \u001b[38;5;28;01mreturn\u001b[39;00m \u001b[43mDialect\u001b[49m\u001b[38;5;241;43m.\u001b[39;49m\u001b[43mget_or_raise\u001b[49m\u001b[43m(\u001b[49m\u001b[43mread\u001b[49m\u001b[43m \u001b[49m\u001b[38;5;129;43;01mor\u001b[39;49;00m\u001b[43m \u001b[49m\u001b[43mdialect\u001b[49m\u001b[43m)\u001b[49m\u001b[38;5;241;43m.\u001b[39;49m\u001b[43mparse\u001b[49m\u001b[43m(\u001b[49m\u001b[43msql\u001b[49m\u001b[43m,\u001b[49m\u001b[43m \u001b[49m\u001b[38;5;241;43m*\u001b[39;49m\u001b[38;5;241;43m*\u001b[39;49m\u001b[43mopts\u001b[49m\u001b[43m)\u001b[49m\n",
      "File \u001b[1;32mc:\\Users\\huguobin\\AppData\\Local\\Programs\\Python\\Python312\\Lib\\site-packages\\sqlglot\\dialects\\dialect.py:463\u001b[0m, in \u001b[0;36mDialect.parse\u001b[1;34m(self, sql, **opts)\u001b[0m\n\u001b[0;32m    462\u001b[0m \u001b[38;5;28;01mdef\u001b[39;00m \u001b[38;5;21mparse\u001b[39m(\u001b[38;5;28mself\u001b[39m, sql: \u001b[38;5;28mstr\u001b[39m, \u001b[38;5;241m*\u001b[39m\u001b[38;5;241m*\u001b[39mopts) \u001b[38;5;241m-\u001b[39m\u001b[38;5;241m>\u001b[39m t\u001b[38;5;241m.\u001b[39mList[t\u001b[38;5;241m.\u001b[39mOptional[exp\u001b[38;5;241m.\u001b[39mExpression]]:\n\u001b[1;32m--> 463\u001b[0m     \u001b[38;5;28;01mreturn\u001b[39;00m \u001b[38;5;28;43mself\u001b[39;49m\u001b[38;5;241;43m.\u001b[39;49m\u001b[43mparser\u001b[49m\u001b[43m(\u001b[49m\u001b[38;5;241;43m*\u001b[39;49m\u001b[38;5;241;43m*\u001b[39;49m\u001b[43mopts\u001b[49m\u001b[43m)\u001b[49m\u001b[38;5;241;43m.\u001b[39;49m\u001b[43mparse\u001b[49m\u001b[43m(\u001b[49m\u001b[38;5;28;43mself\u001b[39;49m\u001b[38;5;241;43m.\u001b[39;49m\u001b[43mtokenize\u001b[49m\u001b[43m(\u001b[49m\u001b[43msql\u001b[49m\u001b[43m)\u001b[49m\u001b[43m,\u001b[49m\u001b[43m \u001b[49m\u001b[43msql\u001b[49m\u001b[43m)\u001b[49m\n",
      "File \u001b[1;32mc:\\Users\\huguobin\\AppData\\Local\\Programs\\Python\\Python312\\Lib\\site-packages\\sqlglot\\parser.py:1065\u001b[0m, in \u001b[0;36mParser.parse\u001b[1;34m(self, raw_tokens, sql)\u001b[0m\n\u001b[0;32m   1051\u001b[0m \u001b[38;5;28;01mdef\u001b[39;00m \u001b[38;5;21mparse\u001b[39m(\n\u001b[0;32m   1052\u001b[0m     \u001b[38;5;28mself\u001b[39m, raw_tokens: t\u001b[38;5;241m.\u001b[39mList[Token], sql: t\u001b[38;5;241m.\u001b[39mOptional[\u001b[38;5;28mstr\u001b[39m] \u001b[38;5;241m=\u001b[39m \u001b[38;5;28;01mNone\u001b[39;00m\n\u001b[0;32m   1053\u001b[0m ) \u001b[38;5;241m-\u001b[39m\u001b[38;5;241m>\u001b[39m t\u001b[38;5;241m.\u001b[39mList[t\u001b[38;5;241m.\u001b[39mOptional[exp\u001b[38;5;241m.\u001b[39mExpression]]:\n\u001b[0;32m   1054\u001b[0m \u001b[38;5;250m    \u001b[39m\u001b[38;5;124;03m\"\"\"\u001b[39;00m\n\u001b[0;32m   1055\u001b[0m \u001b[38;5;124;03m    Parses a list of tokens and returns a list of syntax trees, one tree\u001b[39;00m\n\u001b[0;32m   1056\u001b[0m \u001b[38;5;124;03m    per parsed SQL statement.\u001b[39;00m\n\u001b[1;32m   (...)\u001b[0m\n\u001b[0;32m   1063\u001b[0m \u001b[38;5;124;03m        The list of the produced syntax trees.\u001b[39;00m\n\u001b[0;32m   1064\u001b[0m \u001b[38;5;124;03m    \"\"\"\u001b[39;00m\n\u001b[1;32m-> 1065\u001b[0m     \u001b[38;5;28;01mreturn\u001b[39;00m \u001b[38;5;28;43mself\u001b[39;49m\u001b[38;5;241;43m.\u001b[39;49m\u001b[43m_parse\u001b[49m\u001b[43m(\u001b[49m\n\u001b[0;32m   1066\u001b[0m \u001b[43m        \u001b[49m\u001b[43mparse_method\u001b[49m\u001b[38;5;241;43m=\u001b[39;49m\u001b[38;5;28;43mself\u001b[39;49m\u001b[38;5;241;43m.\u001b[39;49m\u001b[38;5;18;43m__class__\u001b[39;49m\u001b[38;5;241;43m.\u001b[39;49m\u001b[43m_parse_statement\u001b[49m\u001b[43m,\u001b[49m\u001b[43m \u001b[49m\u001b[43mraw_tokens\u001b[49m\u001b[38;5;241;43m=\u001b[39;49m\u001b[43mraw_tokens\u001b[49m\u001b[43m,\u001b[49m\u001b[43m \u001b[49m\u001b[43msql\u001b[49m\u001b[38;5;241;43m=\u001b[39;49m\u001b[43msql\u001b[49m\n\u001b[0;32m   1067\u001b[0m \u001b[43m    \u001b[49m\u001b[43m)\u001b[49m\n",
      "File \u001b[1;32mc:\\Users\\huguobin\\AppData\\Local\\Programs\\Python\\Python312\\Lib\\site-packages\\sqlglot\\parser.py:1131\u001b[0m, in \u001b[0;36mParser._parse\u001b[1;34m(self, parse_method, raw_tokens, sql)\u001b[0m\n\u001b[0;32m   1128\u001b[0m \u001b[38;5;28mself\u001b[39m\u001b[38;5;241m.\u001b[39m_tokens \u001b[38;5;241m=\u001b[39m tokens\n\u001b[0;32m   1129\u001b[0m \u001b[38;5;28mself\u001b[39m\u001b[38;5;241m.\u001b[39m_advance()\n\u001b[1;32m-> 1131\u001b[0m expressions\u001b[38;5;241m.\u001b[39mappend(\u001b[43mparse_method\u001b[49m\u001b[43m(\u001b[49m\u001b[38;5;28;43mself\u001b[39;49m\u001b[43m)\u001b[49m)\n\u001b[0;32m   1133\u001b[0m \u001b[38;5;28;01mif\u001b[39;00m \u001b[38;5;28mself\u001b[39m\u001b[38;5;241m.\u001b[39m_index \u001b[38;5;241m<\u001b[39m \u001b[38;5;28mlen\u001b[39m(\u001b[38;5;28mself\u001b[39m\u001b[38;5;241m.\u001b[39m_tokens):\n\u001b[0;32m   1134\u001b[0m     \u001b[38;5;28mself\u001b[39m\u001b[38;5;241m.\u001b[39mraise_error(\u001b[38;5;124m\"\u001b[39m\u001b[38;5;124mInvalid expression / Unexpected token\u001b[39m\u001b[38;5;124m\"\u001b[39m)\n",
      "File \u001b[1;32mc:\\Users\\huguobin\\AppData\\Local\\Programs\\Python\\Python312\\Lib\\site-packages\\sqlglot\\parser.py:1333\u001b[0m, in \u001b[0;36mParser._parse_statement\u001b[1;34m(self)\u001b[0m\n\u001b[0;32m   1330\u001b[0m     \u001b[38;5;28;01mreturn\u001b[39;00m \u001b[38;5;28;01mNone\u001b[39;00m\n\u001b[0;32m   1332\u001b[0m \u001b[38;5;28;01mif\u001b[39;00m \u001b[38;5;28mself\u001b[39m\u001b[38;5;241m.\u001b[39m_match_set(\u001b[38;5;28mself\u001b[39m\u001b[38;5;241m.\u001b[39mSTATEMENT_PARSERS):\n\u001b[1;32m-> 1333\u001b[0m     \u001b[38;5;28;01mreturn\u001b[39;00m \u001b[38;5;28;43mself\u001b[39;49m\u001b[38;5;241;43m.\u001b[39;49m\u001b[43mSTATEMENT_PARSERS\u001b[49m\u001b[43m[\u001b[49m\u001b[38;5;28;43mself\u001b[39;49m\u001b[38;5;241;43m.\u001b[39;49m\u001b[43m_prev\u001b[49m\u001b[38;5;241;43m.\u001b[39;49m\u001b[43mtoken_type\u001b[49m\u001b[43m]\u001b[49m\u001b[43m(\u001b[49m\u001b[38;5;28;43mself\u001b[39;49m\u001b[43m)\u001b[49m\n\u001b[0;32m   1335\u001b[0m \u001b[38;5;28;01mif\u001b[39;00m \u001b[38;5;28mself\u001b[39m\u001b[38;5;241m.\u001b[39m_match_set(Tokenizer\u001b[38;5;241m.\u001b[39mCOMMANDS):\n\u001b[0;32m   1336\u001b[0m     \u001b[38;5;28;01mreturn\u001b[39;00m \u001b[38;5;28mself\u001b[39m\u001b[38;5;241m.\u001b[39m_parse_command()\n",
      "File \u001b[1;32mc:\\Users\\huguobin\\AppData\\Local\\Programs\\Python\\Python312\\Lib\\site-packages\\sqlglot\\parser.py:617\u001b[0m, in \u001b[0;36mParser.<lambda>\u001b[1;34m(self)\u001b[0m\n\u001b[0;32m    542\u001b[0m COLUMN_OPERATORS \u001b[38;5;241m=\u001b[39m {\n\u001b[0;32m    543\u001b[0m     TokenType\u001b[38;5;241m.\u001b[39mDOT: \u001b[38;5;28;01mNone\u001b[39;00m,\n\u001b[0;32m    544\u001b[0m     TokenType\u001b[38;5;241m.\u001b[39mDCOLON: \u001b[38;5;28;01mlambda\u001b[39;00m \u001b[38;5;28mself\u001b[39m, this, to: \u001b[38;5;28mself\u001b[39m\u001b[38;5;241m.\u001b[39mexpression(\n\u001b[1;32m   (...)\u001b[0m\n\u001b[0;32m    573\u001b[0m     ),\n\u001b[0;32m    574\u001b[0m }\n\u001b[0;32m    576\u001b[0m EXPRESSION_PARSERS \u001b[38;5;241m=\u001b[39m {\n\u001b[0;32m    577\u001b[0m     exp\u001b[38;5;241m.\u001b[39mCluster: \u001b[38;5;28;01mlambda\u001b[39;00m \u001b[38;5;28mself\u001b[39m: \u001b[38;5;28mself\u001b[39m\u001b[38;5;241m.\u001b[39m_parse_sort(exp\u001b[38;5;241m.\u001b[39mCluster, TokenType\u001b[38;5;241m.\u001b[39mCLUSTER_BY),\n\u001b[0;32m    578\u001b[0m     exp\u001b[38;5;241m.\u001b[39mColumn: \u001b[38;5;28;01mlambda\u001b[39;00m \u001b[38;5;28mself\u001b[39m: \u001b[38;5;28mself\u001b[39m\u001b[38;5;241m.\u001b[39m_parse_column(),\n\u001b[1;32m   (...)\u001b[0m\n\u001b[0;32m    603\u001b[0m     \u001b[38;5;124m\"\u001b[39m\u001b[38;5;124mJOIN_TYPE\u001b[39m\u001b[38;5;124m\"\u001b[39m: \u001b[38;5;28;01mlambda\u001b[39;00m \u001b[38;5;28mself\u001b[39m: \u001b[38;5;28mself\u001b[39m\u001b[38;5;241m.\u001b[39m_parse_join_parts(),\n\u001b[0;32m    604\u001b[0m }\n\u001b[0;32m    606\u001b[0m STATEMENT_PARSERS \u001b[38;5;241m=\u001b[39m {\n\u001b[0;32m    607\u001b[0m     TokenType\u001b[38;5;241m.\u001b[39mALTER: \u001b[38;5;28;01mlambda\u001b[39;00m \u001b[38;5;28mself\u001b[39m: \u001b[38;5;28mself\u001b[39m\u001b[38;5;241m.\u001b[39m_parse_alter(),\n\u001b[0;32m    608\u001b[0m     TokenType\u001b[38;5;241m.\u001b[39mBEGIN: \u001b[38;5;28;01mlambda\u001b[39;00m \u001b[38;5;28mself\u001b[39m: \u001b[38;5;28mself\u001b[39m\u001b[38;5;241m.\u001b[39m_parse_transaction(),\n\u001b[0;32m    609\u001b[0m     TokenType\u001b[38;5;241m.\u001b[39mCACHE: \u001b[38;5;28;01mlambda\u001b[39;00m \u001b[38;5;28mself\u001b[39m: \u001b[38;5;28mself\u001b[39m\u001b[38;5;241m.\u001b[39m_parse_cache(),\n\u001b[0;32m    610\u001b[0m     TokenType\u001b[38;5;241m.\u001b[39mCOMMIT: \u001b[38;5;28;01mlambda\u001b[39;00m \u001b[38;5;28mself\u001b[39m: \u001b[38;5;28mself\u001b[39m\u001b[38;5;241m.\u001b[39m_parse_commit_or_rollback(),\n\u001b[0;32m    611\u001b[0m     TokenType\u001b[38;5;241m.\u001b[39mCOMMENT: \u001b[38;5;28;01mlambda\u001b[39;00m \u001b[38;5;28mself\u001b[39m: \u001b[38;5;28mself\u001b[39m\u001b[38;5;241m.\u001b[39m_parse_comment(),\n\u001b[0;32m    612\u001b[0m     TokenType\u001b[38;5;241m.\u001b[39mCREATE: \u001b[38;5;28;01mlambda\u001b[39;00m \u001b[38;5;28mself\u001b[39m: \u001b[38;5;28mself\u001b[39m\u001b[38;5;241m.\u001b[39m_parse_create(),\n\u001b[0;32m    613\u001b[0m     TokenType\u001b[38;5;241m.\u001b[39mDELETE: \u001b[38;5;28;01mlambda\u001b[39;00m \u001b[38;5;28mself\u001b[39m: \u001b[38;5;28mself\u001b[39m\u001b[38;5;241m.\u001b[39m_parse_delete(),\n\u001b[0;32m    614\u001b[0m     TokenType\u001b[38;5;241m.\u001b[39mDESC: \u001b[38;5;28;01mlambda\u001b[39;00m \u001b[38;5;28mself\u001b[39m: \u001b[38;5;28mself\u001b[39m\u001b[38;5;241m.\u001b[39m_parse_describe(),\n\u001b[0;32m    615\u001b[0m     TokenType\u001b[38;5;241m.\u001b[39mDESCRIBE: \u001b[38;5;28;01mlambda\u001b[39;00m \u001b[38;5;28mself\u001b[39m: \u001b[38;5;28mself\u001b[39m\u001b[38;5;241m.\u001b[39m_parse_describe(),\n\u001b[0;32m    616\u001b[0m     TokenType\u001b[38;5;241m.\u001b[39mDROP: \u001b[38;5;28;01mlambda\u001b[39;00m \u001b[38;5;28mself\u001b[39m: \u001b[38;5;28mself\u001b[39m\u001b[38;5;241m.\u001b[39m_parse_drop(),\n\u001b[1;32m--> 617\u001b[0m     TokenType\u001b[38;5;241m.\u001b[39mINSERT: \u001b[38;5;28;01mlambda\u001b[39;00m \u001b[38;5;28mself\u001b[39m: \u001b[38;5;28;43mself\u001b[39;49m\u001b[38;5;241;43m.\u001b[39;49m\u001b[43m_parse_insert\u001b[49m\u001b[43m(\u001b[49m\u001b[43m)\u001b[49m,\n\u001b[0;32m    618\u001b[0m     TokenType\u001b[38;5;241m.\u001b[39mKILL: \u001b[38;5;28;01mlambda\u001b[39;00m \u001b[38;5;28mself\u001b[39m: \u001b[38;5;28mself\u001b[39m\u001b[38;5;241m.\u001b[39m_parse_kill(),\n\u001b[0;32m    619\u001b[0m     TokenType\u001b[38;5;241m.\u001b[39mLOAD: \u001b[38;5;28;01mlambda\u001b[39;00m \u001b[38;5;28mself\u001b[39m: \u001b[38;5;28mself\u001b[39m\u001b[38;5;241m.\u001b[39m_parse_load(),\n\u001b[0;32m    620\u001b[0m     TokenType\u001b[38;5;241m.\u001b[39mMERGE: \u001b[38;5;28;01mlambda\u001b[39;00m \u001b[38;5;28mself\u001b[39m: \u001b[38;5;28mself\u001b[39m\u001b[38;5;241m.\u001b[39m_parse_merge(),\n\u001b[0;32m    621\u001b[0m     TokenType\u001b[38;5;241m.\u001b[39mPIVOT: \u001b[38;5;28;01mlambda\u001b[39;00m \u001b[38;5;28mself\u001b[39m: \u001b[38;5;28mself\u001b[39m\u001b[38;5;241m.\u001b[39m_parse_simplified_pivot(),\n\u001b[0;32m    622\u001b[0m     TokenType\u001b[38;5;241m.\u001b[39mPRAGMA: \u001b[38;5;28;01mlambda\u001b[39;00m \u001b[38;5;28mself\u001b[39m: \u001b[38;5;28mself\u001b[39m\u001b[38;5;241m.\u001b[39mexpression(exp\u001b[38;5;241m.\u001b[39mPragma, this\u001b[38;5;241m=\u001b[39m\u001b[38;5;28mself\u001b[39m\u001b[38;5;241m.\u001b[39m_parse_expression()),\n\u001b[0;32m    623\u001b[0m     TokenType\u001b[38;5;241m.\u001b[39mREFRESH: \u001b[38;5;28;01mlambda\u001b[39;00m \u001b[38;5;28mself\u001b[39m: \u001b[38;5;28mself\u001b[39m\u001b[38;5;241m.\u001b[39m_parse_refresh(),\n\u001b[0;32m    624\u001b[0m     TokenType\u001b[38;5;241m.\u001b[39mROLLBACK: \u001b[38;5;28;01mlambda\u001b[39;00m \u001b[38;5;28mself\u001b[39m: \u001b[38;5;28mself\u001b[39m\u001b[38;5;241m.\u001b[39m_parse_commit_or_rollback(),\n\u001b[0;32m    625\u001b[0m     TokenType\u001b[38;5;241m.\u001b[39mSET: \u001b[38;5;28;01mlambda\u001b[39;00m \u001b[38;5;28mself\u001b[39m: \u001b[38;5;28mself\u001b[39m\u001b[38;5;241m.\u001b[39m_parse_set(),\n\u001b[0;32m    626\u001b[0m     TokenType\u001b[38;5;241m.\u001b[39mUNCACHE: \u001b[38;5;28;01mlambda\u001b[39;00m \u001b[38;5;28mself\u001b[39m: \u001b[38;5;28mself\u001b[39m\u001b[38;5;241m.\u001b[39m_parse_uncache(),\n\u001b[0;32m    627\u001b[0m     TokenType\u001b[38;5;241m.\u001b[39mUPDATE: \u001b[38;5;28;01mlambda\u001b[39;00m \u001b[38;5;28mself\u001b[39m: \u001b[38;5;28mself\u001b[39m\u001b[38;5;241m.\u001b[39m_parse_update(),\n\u001b[0;32m    628\u001b[0m     TokenType\u001b[38;5;241m.\u001b[39mUSE: \u001b[38;5;28;01mlambda\u001b[39;00m \u001b[38;5;28mself\u001b[39m: \u001b[38;5;28mself\u001b[39m\u001b[38;5;241m.\u001b[39mexpression(\n\u001b[0;32m    629\u001b[0m         exp\u001b[38;5;241m.\u001b[39mUse,\n\u001b[0;32m    630\u001b[0m         kind\u001b[38;5;241m=\u001b[39m\u001b[38;5;28mself\u001b[39m\u001b[38;5;241m.\u001b[39m_match_texts((\u001b[38;5;124m\"\u001b[39m\u001b[38;5;124mROLE\u001b[39m\u001b[38;5;124m\"\u001b[39m, \u001b[38;5;124m\"\u001b[39m\u001b[38;5;124mWAREHOUSE\u001b[39m\u001b[38;5;124m\"\u001b[39m, \u001b[38;5;124m\"\u001b[39m\u001b[38;5;124mDATABASE\u001b[39m\u001b[38;5;124m\"\u001b[39m, \u001b[38;5;124m\"\u001b[39m\u001b[38;5;124mSCHEMA\u001b[39m\u001b[38;5;124m\"\u001b[39m))\n\u001b[0;32m    631\u001b[0m         \u001b[38;5;129;01mand\u001b[39;00m exp\u001b[38;5;241m.\u001b[39mvar(\u001b[38;5;28mself\u001b[39m\u001b[38;5;241m.\u001b[39m_prev\u001b[38;5;241m.\u001b[39mtext),\n\u001b[0;32m    632\u001b[0m         this\u001b[38;5;241m=\u001b[39m\u001b[38;5;28mself\u001b[39m\u001b[38;5;241m.\u001b[39m_parse_table(schema\u001b[38;5;241m=\u001b[39m\u001b[38;5;28;01mFalse\u001b[39;00m),\n\u001b[0;32m    633\u001b[0m     ),\n\u001b[0;32m    634\u001b[0m }\n\u001b[0;32m    636\u001b[0m UNARY_PARSERS \u001b[38;5;241m=\u001b[39m {\n\u001b[0;32m    637\u001b[0m     TokenType\u001b[38;5;241m.\u001b[39mPLUS: \u001b[38;5;28;01mlambda\u001b[39;00m \u001b[38;5;28mself\u001b[39m: \u001b[38;5;28mself\u001b[39m\u001b[38;5;241m.\u001b[39m_parse_unary(),  \u001b[38;5;66;03m# Unary + is handled as a no-op\u001b[39;00m\n\u001b[0;32m    638\u001b[0m     TokenType\u001b[38;5;241m.\u001b[39mNOT: \u001b[38;5;28;01mlambda\u001b[39;00m \u001b[38;5;28mself\u001b[39m: \u001b[38;5;28mself\u001b[39m\u001b[38;5;241m.\u001b[39mexpression(exp\u001b[38;5;241m.\u001b[39mNot, this\u001b[38;5;241m=\u001b[39m\u001b[38;5;28mself\u001b[39m\u001b[38;5;241m.\u001b[39m_parse_equality()),\n\u001b[0;32m    639\u001b[0m     TokenType\u001b[38;5;241m.\u001b[39mTILDA: \u001b[38;5;28;01mlambda\u001b[39;00m \u001b[38;5;28mself\u001b[39m: \u001b[38;5;28mself\u001b[39m\u001b[38;5;241m.\u001b[39mexpression(exp\u001b[38;5;241m.\u001b[39mBitwiseNot, this\u001b[38;5;241m=\u001b[39m\u001b[38;5;28mself\u001b[39m\u001b[38;5;241m.\u001b[39m_parse_unary()),\n\u001b[0;32m    640\u001b[0m     TokenType\u001b[38;5;241m.\u001b[39mDASH: \u001b[38;5;28;01mlambda\u001b[39;00m \u001b[38;5;28mself\u001b[39m: \u001b[38;5;28mself\u001b[39m\u001b[38;5;241m.\u001b[39mexpression(exp\u001b[38;5;241m.\u001b[39mNeg, this\u001b[38;5;241m=\u001b[39m\u001b[38;5;28mself\u001b[39m\u001b[38;5;241m.\u001b[39m_parse_unary()),\n\u001b[0;32m    641\u001b[0m }\n\u001b[0;32m    643\u001b[0m PRIMARY_PARSERS \u001b[38;5;241m=\u001b[39m {\n\u001b[0;32m    644\u001b[0m     TokenType\u001b[38;5;241m.\u001b[39mSTRING: \u001b[38;5;28;01mlambda\u001b[39;00m \u001b[38;5;28mself\u001b[39m, token: \u001b[38;5;28mself\u001b[39m\u001b[38;5;241m.\u001b[39mexpression(\n\u001b[0;32m    645\u001b[0m         exp\u001b[38;5;241m.\u001b[39mLiteral, this\u001b[38;5;241m=\u001b[39mtoken\u001b[38;5;241m.\u001b[39mtext, is_string\u001b[38;5;241m=\u001b[39m\u001b[38;5;28;01mTrue\u001b[39;00m\n\u001b[1;32m   (...)\u001b[0m\n\u001b[0;32m    672\u001b[0m     TokenType\u001b[38;5;241m.\u001b[39mSESSION_PARAMETER: \u001b[38;5;28;01mlambda\u001b[39;00m \u001b[38;5;28mself\u001b[39m, _: \u001b[38;5;28mself\u001b[39m\u001b[38;5;241m.\u001b[39m_parse_session_parameter(),\n\u001b[0;32m    673\u001b[0m }\n",
      "File \u001b[1;32mc:\\Users\\huguobin\\AppData\\Local\\Programs\\Python\\Python312\\Lib\\site-packages\\sqlglot\\parser.py:2062\u001b[0m, in \u001b[0;36mParser._parse_insert\u001b[1;34m(self)\u001b[0m\n\u001b[0;32m   2049\u001b[0m     this \u001b[38;5;241m=\u001b[39m \u001b[38;5;28mself\u001b[39m\u001b[38;5;241m.\u001b[39m_parse_table(schema\u001b[38;5;241m=\u001b[39m\u001b[38;5;28;01mTrue\u001b[39;00m)\n\u001b[0;32m   2051\u001b[0m returning \u001b[38;5;241m=\u001b[39m \u001b[38;5;28mself\u001b[39m\u001b[38;5;241m.\u001b[39m_parse_returning()\n\u001b[0;32m   2053\u001b[0m \u001b[38;5;28;01mreturn\u001b[39;00m \u001b[38;5;28mself\u001b[39m\u001b[38;5;241m.\u001b[39mexpression(\n\u001b[0;32m   2054\u001b[0m     exp\u001b[38;5;241m.\u001b[39mInsert,\n\u001b[0;32m   2055\u001b[0m     comments\u001b[38;5;241m=\u001b[39mcomments,\n\u001b[0;32m   2056\u001b[0m     this\u001b[38;5;241m=\u001b[39mthis,\n\u001b[0;32m   2057\u001b[0m     by_name\u001b[38;5;241m=\u001b[39m\u001b[38;5;28mself\u001b[39m\u001b[38;5;241m.\u001b[39m_match_text_seq(\u001b[38;5;124m\"\u001b[39m\u001b[38;5;124mBY\u001b[39m\u001b[38;5;124m\"\u001b[39m, \u001b[38;5;124m\"\u001b[39m\u001b[38;5;124mNAME\u001b[39m\u001b[38;5;124m\"\u001b[39m),\n\u001b[0;32m   2058\u001b[0m     exists\u001b[38;5;241m=\u001b[39m\u001b[38;5;28mself\u001b[39m\u001b[38;5;241m.\u001b[39m_parse_exists(),\n\u001b[0;32m   2059\u001b[0m     partition\u001b[38;5;241m=\u001b[39m\u001b[38;5;28mself\u001b[39m\u001b[38;5;241m.\u001b[39m_parse_partition(),\n\u001b[0;32m   2060\u001b[0m     where\u001b[38;5;241m=\u001b[39m\u001b[38;5;28mself\u001b[39m\u001b[38;5;241m.\u001b[39m_match_pair(TokenType\u001b[38;5;241m.\u001b[39mREPLACE, TokenType\u001b[38;5;241m.\u001b[39mWHERE)\n\u001b[0;32m   2061\u001b[0m     \u001b[38;5;129;01mand\u001b[39;00m \u001b[38;5;28mself\u001b[39m\u001b[38;5;241m.\u001b[39m_parse_conjunction(),\n\u001b[1;32m-> 2062\u001b[0m     expression\u001b[38;5;241m=\u001b[39m\u001b[38;5;28;43mself\u001b[39;49m\u001b[38;5;241;43m.\u001b[39;49m\u001b[43m_parse_ddl_select\u001b[49m\u001b[43m(\u001b[49m\u001b[43m)\u001b[49m,\n\u001b[0;32m   2063\u001b[0m     conflict\u001b[38;5;241m=\u001b[39m\u001b[38;5;28mself\u001b[39m\u001b[38;5;241m.\u001b[39m_parse_on_conflict(),\n\u001b[0;32m   2064\u001b[0m     returning\u001b[38;5;241m=\u001b[39mreturning \u001b[38;5;129;01mor\u001b[39;00m \u001b[38;5;28mself\u001b[39m\u001b[38;5;241m.\u001b[39m_parse_returning(),\n\u001b[0;32m   2065\u001b[0m     overwrite\u001b[38;5;241m=\u001b[39moverwrite,\n\u001b[0;32m   2066\u001b[0m     alternative\u001b[38;5;241m=\u001b[39malternative,\n\u001b[0;32m   2067\u001b[0m     ignore\u001b[38;5;241m=\u001b[39mignore,\n\u001b[0;32m   2068\u001b[0m )\n",
      "File \u001b[1;32mc:\\Users\\huguobin\\AppData\\Local\\Programs\\Python\\Python312\\Lib\\site-packages\\sqlglot\\parser.py:5266\u001b[0m, in \u001b[0;36mParser._parse_ddl_select\u001b[1;34m(self)\u001b[0m\n\u001b[0;32m   5264\u001b[0m \u001b[38;5;28;01mdef\u001b[39;00m \u001b[38;5;21m_parse_ddl_select\u001b[39m(\u001b[38;5;28mself\u001b[39m) \u001b[38;5;241m-\u001b[39m\u001b[38;5;241m>\u001b[39m t\u001b[38;5;241m.\u001b[39mOptional[exp\u001b[38;5;241m.\u001b[39mExpression]:\n\u001b[0;32m   5265\u001b[0m     \u001b[38;5;28;01mreturn\u001b[39;00m \u001b[38;5;28mself\u001b[39m\u001b[38;5;241m.\u001b[39m_parse_query_modifiers(\n\u001b[1;32m-> 5266\u001b[0m         \u001b[38;5;28mself\u001b[39m\u001b[38;5;241m.\u001b[39m_parse_set_operations(\u001b[38;5;28;43mself\u001b[39;49m\u001b[38;5;241;43m.\u001b[39;49m\u001b[43m_parse_select\u001b[49m\u001b[43m(\u001b[49m\u001b[43mnested\u001b[49m\u001b[38;5;241;43m=\u001b[39;49m\u001b[38;5;28;43;01mTrue\u001b[39;49;00m\u001b[43m,\u001b[49m\u001b[43m \u001b[49m\u001b[43mparse_subquery_alias\u001b[49m\u001b[38;5;241;43m=\u001b[39;49m\u001b[38;5;28;43;01mFalse\u001b[39;49;00m\u001b[43m)\u001b[49m)\n\u001b[0;32m   5267\u001b[0m     )\n",
      "File \u001b[1;32mc:\\Users\\huguobin\\AppData\\Local\\Programs\\Python\\Python312\\Lib\\site-packages\\sqlglot\\parser.py:2328\u001b[0m, in \u001b[0;36mParser._parse_select\u001b[1;34m(self, nested, table, parse_subquery_alias, parse_set_operation)\u001b[0m\n\u001b[0;32m   2325\u001b[0m     \u001b[38;5;28mself\u001b[39m\u001b[38;5;241m.\u001b[39mraise_error(\u001b[38;5;124m\"\u001b[39m\u001b[38;5;124mCannot specify both ALL and DISTINCT after SELECT\u001b[39m\u001b[38;5;124m\"\u001b[39m)\n\u001b[0;32m   2327\u001b[0m limit \u001b[38;5;241m=\u001b[39m \u001b[38;5;28mself\u001b[39m\u001b[38;5;241m.\u001b[39m_parse_limit(top\u001b[38;5;241m=\u001b[39m\u001b[38;5;28;01mTrue\u001b[39;00m)\n\u001b[1;32m-> 2328\u001b[0m projections \u001b[38;5;241m=\u001b[39m \u001b[38;5;28;43mself\u001b[39;49m\u001b[38;5;241;43m.\u001b[39;49m\u001b[43m_parse_projections\u001b[49m\u001b[43m(\u001b[49m\u001b[43m)\u001b[49m\n\u001b[0;32m   2330\u001b[0m this \u001b[38;5;241m=\u001b[39m \u001b[38;5;28mself\u001b[39m\u001b[38;5;241m.\u001b[39mexpression(\n\u001b[0;32m   2331\u001b[0m     exp\u001b[38;5;241m.\u001b[39mSelect,\n\u001b[0;32m   2332\u001b[0m     kind\u001b[38;5;241m=\u001b[39mkind,\n\u001b[1;32m   (...)\u001b[0m\n\u001b[0;32m   2336\u001b[0m     limit\u001b[38;5;241m=\u001b[39mlimit,\n\u001b[0;32m   2337\u001b[0m )\n\u001b[0;32m   2338\u001b[0m this\u001b[38;5;241m.\u001b[39mcomments \u001b[38;5;241m=\u001b[39m comments\n",
      "File \u001b[1;32mc:\\Users\\huguobin\\AppData\\Local\\Programs\\Python\\Python312\\Lib\\site-packages\\sqlglot\\parser.py:2276\u001b[0m, in \u001b[0;36mParser._parse_projections\u001b[1;34m(self)\u001b[0m\n\u001b[0;32m   2275\u001b[0m \u001b[38;5;28;01mdef\u001b[39;00m \u001b[38;5;21m_parse_projections\u001b[39m(\u001b[38;5;28mself\u001b[39m) \u001b[38;5;241m-\u001b[39m\u001b[38;5;241m>\u001b[39m t\u001b[38;5;241m.\u001b[39mList[exp\u001b[38;5;241m.\u001b[39mExpression]:\n\u001b[1;32m-> 2276\u001b[0m     \u001b[38;5;28;01mreturn\u001b[39;00m \u001b[38;5;28;43mself\u001b[39;49m\u001b[38;5;241;43m.\u001b[39;49m\u001b[43m_parse_expressions\u001b[49m\u001b[43m(\u001b[49m\u001b[43m)\u001b[49m\n",
      "File \u001b[1;32mc:\\Users\\huguobin\\AppData\\Local\\Programs\\Python\\Python312\\Lib\\site-packages\\sqlglot\\parser.py:5257\u001b[0m, in \u001b[0;36mParser._parse_expressions\u001b[1;34m(self)\u001b[0m\n\u001b[0;32m   5256\u001b[0m \u001b[38;5;28;01mdef\u001b[39;00m \u001b[38;5;21m_parse_expressions\u001b[39m(\u001b[38;5;28mself\u001b[39m) \u001b[38;5;241m-\u001b[39m\u001b[38;5;241m>\u001b[39m t\u001b[38;5;241m.\u001b[39mList[exp\u001b[38;5;241m.\u001b[39mExpression]:\n\u001b[1;32m-> 5257\u001b[0m     \u001b[38;5;28;01mreturn\u001b[39;00m \u001b[38;5;28;43mself\u001b[39;49m\u001b[38;5;241;43m.\u001b[39;49m\u001b[43m_parse_csv\u001b[49m\u001b[43m(\u001b[49m\u001b[38;5;28;43mself\u001b[39;49m\u001b[38;5;241;43m.\u001b[39;49m\u001b[43m_parse_expression\u001b[49m\u001b[43m)\u001b[49m\n",
      "File \u001b[1;32mc:\\Users\\huguobin\\AppData\\Local\\Programs\\Python\\Python312\\Lib\\site-packages\\sqlglot\\parser.py:5211\u001b[0m, in \u001b[0;36mParser._parse_csv\u001b[1;34m(self, parse_method, sep)\u001b[0m\n\u001b[0;32m   5208\u001b[0m \u001b[38;5;28;01mdef\u001b[39;00m \u001b[38;5;21m_parse_csv\u001b[39m(\n\u001b[0;32m   5209\u001b[0m     \u001b[38;5;28mself\u001b[39m, parse_method: t\u001b[38;5;241m.\u001b[39mCallable, sep: TokenType \u001b[38;5;241m=\u001b[39m TokenType\u001b[38;5;241m.\u001b[39mCOMMA\n\u001b[0;32m   5210\u001b[0m ) \u001b[38;5;241m-\u001b[39m\u001b[38;5;241m>\u001b[39m t\u001b[38;5;241m.\u001b[39mList[exp\u001b[38;5;241m.\u001b[39mExpression]:\n\u001b[1;32m-> 5211\u001b[0m     parse_result \u001b[38;5;241m=\u001b[39m \u001b[43mparse_method\u001b[49m\u001b[43m(\u001b[49m\u001b[43m)\u001b[49m\n\u001b[0;32m   5212\u001b[0m     items \u001b[38;5;241m=\u001b[39m [parse_result] \u001b[38;5;28;01mif\u001b[39;00m parse_result \u001b[38;5;129;01mis\u001b[39;00m \u001b[38;5;129;01mnot\u001b[39;00m \u001b[38;5;28;01mNone\u001b[39;00m \u001b[38;5;28;01melse\u001b[39;00m []\n\u001b[0;32m   5214\u001b[0m     \u001b[38;5;28;01mwhile\u001b[39;00m \u001b[38;5;28mself\u001b[39m\u001b[38;5;241m.\u001b[39m_match(sep):\n",
      "File \u001b[1;32mc:\\Users\\huguobin\\AppData\\Local\\Programs\\Python\\Python312\\Lib\\site-packages\\sqlglot\\parser.py:3449\u001b[0m, in \u001b[0;36mParser._parse_expression\u001b[1;34m(self)\u001b[0m\n\u001b[0;32m   3448\u001b[0m \u001b[38;5;28;01mdef\u001b[39;00m \u001b[38;5;21m_parse_expression\u001b[39m(\u001b[38;5;28mself\u001b[39m) \u001b[38;5;241m-\u001b[39m\u001b[38;5;241m>\u001b[39m t\u001b[38;5;241m.\u001b[39mOptional[exp\u001b[38;5;241m.\u001b[39mExpression]:\n\u001b[1;32m-> 3449\u001b[0m     \u001b[38;5;28;01mreturn\u001b[39;00m \u001b[38;5;28mself\u001b[39m\u001b[38;5;241m.\u001b[39m_parse_alias(\u001b[38;5;28;43mself\u001b[39;49m\u001b[38;5;241;43m.\u001b[39;49m\u001b[43m_parse_conjunction\u001b[49m\u001b[43m(\u001b[49m\u001b[43m)\u001b[49m)\n",
      "File \u001b[1;32mc:\\Users\\huguobin\\AppData\\Local\\Programs\\Python\\Python312\\Lib\\site-packages\\sqlglot\\parser.py:3452\u001b[0m, in \u001b[0;36mParser._parse_conjunction\u001b[1;34m(self)\u001b[0m\n\u001b[0;32m   3451\u001b[0m \u001b[38;5;28;01mdef\u001b[39;00m \u001b[38;5;21m_parse_conjunction\u001b[39m(\u001b[38;5;28mself\u001b[39m) \u001b[38;5;241m-\u001b[39m\u001b[38;5;241m>\u001b[39m t\u001b[38;5;241m.\u001b[39mOptional[exp\u001b[38;5;241m.\u001b[39mExpression]:\n\u001b[1;32m-> 3452\u001b[0m     \u001b[38;5;28;01mreturn\u001b[39;00m \u001b[38;5;28;43mself\u001b[39;49m\u001b[38;5;241;43m.\u001b[39;49m\u001b[43m_parse_tokens\u001b[49m\u001b[43m(\u001b[49m\u001b[38;5;28;43mself\u001b[39;49m\u001b[38;5;241;43m.\u001b[39;49m\u001b[43m_parse_equality\u001b[49m\u001b[43m,\u001b[49m\u001b[43m \u001b[49m\u001b[38;5;28;43mself\u001b[39;49m\u001b[38;5;241;43m.\u001b[39;49m\u001b[43mCONJUNCTION\u001b[49m\u001b[43m)\u001b[49m\n",
      "File \u001b[1;32mc:\\Users\\huguobin\\AppData\\Local\\Programs\\Python\\Python312\\Lib\\site-packages\\sqlglot\\parser.py:5225\u001b[0m, in \u001b[0;36mParser._parse_tokens\u001b[1;34m(self, parse_method, expressions)\u001b[0m\n\u001b[0;32m   5222\u001b[0m \u001b[38;5;28;01mdef\u001b[39;00m \u001b[38;5;21m_parse_tokens\u001b[39m(\n\u001b[0;32m   5223\u001b[0m     \u001b[38;5;28mself\u001b[39m, parse_method: t\u001b[38;5;241m.\u001b[39mCallable, expressions: t\u001b[38;5;241m.\u001b[39mDict\n\u001b[0;32m   5224\u001b[0m ) \u001b[38;5;241m-\u001b[39m\u001b[38;5;241m>\u001b[39m t\u001b[38;5;241m.\u001b[39mOptional[exp\u001b[38;5;241m.\u001b[39mExpression]:\n\u001b[1;32m-> 5225\u001b[0m     this \u001b[38;5;241m=\u001b[39m \u001b[43mparse_method\u001b[49m\u001b[43m(\u001b[49m\u001b[43m)\u001b[49m\n\u001b[0;32m   5227\u001b[0m     \u001b[38;5;28;01mwhile\u001b[39;00m \u001b[38;5;28mself\u001b[39m\u001b[38;5;241m.\u001b[39m_match_set(expressions):\n\u001b[0;32m   5228\u001b[0m         this \u001b[38;5;241m=\u001b[39m \u001b[38;5;28mself\u001b[39m\u001b[38;5;241m.\u001b[39mexpression(\n\u001b[0;32m   5229\u001b[0m             expressions[\u001b[38;5;28mself\u001b[39m\u001b[38;5;241m.\u001b[39m_prev\u001b[38;5;241m.\u001b[39mtoken_type],\n\u001b[0;32m   5230\u001b[0m             this\u001b[38;5;241m=\u001b[39mthis,\n\u001b[0;32m   5231\u001b[0m             comments\u001b[38;5;241m=\u001b[39m\u001b[38;5;28mself\u001b[39m\u001b[38;5;241m.\u001b[39m_prev_comments,\n\u001b[0;32m   5232\u001b[0m             expression\u001b[38;5;241m=\u001b[39mparse_method(),\n\u001b[0;32m   5233\u001b[0m         )\n",
      "File \u001b[1;32mc:\\Users\\huguobin\\AppData\\Local\\Programs\\Python\\Python312\\Lib\\site-packages\\sqlglot\\parser.py:3455\u001b[0m, in \u001b[0;36mParser._parse_equality\u001b[1;34m(self)\u001b[0m\n\u001b[0;32m   3454\u001b[0m \u001b[38;5;28;01mdef\u001b[39;00m \u001b[38;5;21m_parse_equality\u001b[39m(\u001b[38;5;28mself\u001b[39m) \u001b[38;5;241m-\u001b[39m\u001b[38;5;241m>\u001b[39m t\u001b[38;5;241m.\u001b[39mOptional[exp\u001b[38;5;241m.\u001b[39mExpression]:\n\u001b[1;32m-> 3455\u001b[0m     \u001b[38;5;28;01mreturn\u001b[39;00m \u001b[38;5;28;43mself\u001b[39;49m\u001b[38;5;241;43m.\u001b[39;49m\u001b[43m_parse_tokens\u001b[49m\u001b[43m(\u001b[49m\u001b[38;5;28;43mself\u001b[39;49m\u001b[38;5;241;43m.\u001b[39;49m\u001b[43m_parse_comparison\u001b[49m\u001b[43m,\u001b[49m\u001b[43m \u001b[49m\u001b[38;5;28;43mself\u001b[39;49m\u001b[38;5;241;43m.\u001b[39;49m\u001b[43mEQUALITY\u001b[49m\u001b[43m)\u001b[49m\n",
      "File \u001b[1;32mc:\\Users\\huguobin\\AppData\\Local\\Programs\\Python\\Python312\\Lib\\site-packages\\sqlglot\\parser.py:5225\u001b[0m, in \u001b[0;36mParser._parse_tokens\u001b[1;34m(self, parse_method, expressions)\u001b[0m\n\u001b[0;32m   5222\u001b[0m \u001b[38;5;28;01mdef\u001b[39;00m \u001b[38;5;21m_parse_tokens\u001b[39m(\n\u001b[0;32m   5223\u001b[0m     \u001b[38;5;28mself\u001b[39m, parse_method: t\u001b[38;5;241m.\u001b[39mCallable, expressions: t\u001b[38;5;241m.\u001b[39mDict\n\u001b[0;32m   5224\u001b[0m ) \u001b[38;5;241m-\u001b[39m\u001b[38;5;241m>\u001b[39m t\u001b[38;5;241m.\u001b[39mOptional[exp\u001b[38;5;241m.\u001b[39mExpression]:\n\u001b[1;32m-> 5225\u001b[0m     this \u001b[38;5;241m=\u001b[39m \u001b[43mparse_method\u001b[49m\u001b[43m(\u001b[49m\u001b[43m)\u001b[49m\n\u001b[0;32m   5227\u001b[0m     \u001b[38;5;28;01mwhile\u001b[39;00m \u001b[38;5;28mself\u001b[39m\u001b[38;5;241m.\u001b[39m_match_set(expressions):\n\u001b[0;32m   5228\u001b[0m         this \u001b[38;5;241m=\u001b[39m \u001b[38;5;28mself\u001b[39m\u001b[38;5;241m.\u001b[39mexpression(\n\u001b[0;32m   5229\u001b[0m             expressions[\u001b[38;5;28mself\u001b[39m\u001b[38;5;241m.\u001b[39m_prev\u001b[38;5;241m.\u001b[39mtoken_type],\n\u001b[0;32m   5230\u001b[0m             this\u001b[38;5;241m=\u001b[39mthis,\n\u001b[0;32m   5231\u001b[0m             comments\u001b[38;5;241m=\u001b[39m\u001b[38;5;28mself\u001b[39m\u001b[38;5;241m.\u001b[39m_prev_comments,\n\u001b[0;32m   5232\u001b[0m             expression\u001b[38;5;241m=\u001b[39mparse_method(),\n\u001b[0;32m   5233\u001b[0m         )\n",
      "File \u001b[1;32mc:\\Users\\huguobin\\AppData\\Local\\Programs\\Python\\Python312\\Lib\\site-packages\\sqlglot\\parser.py:3458\u001b[0m, in \u001b[0;36mParser._parse_comparison\u001b[1;34m(self)\u001b[0m\n\u001b[0;32m   3457\u001b[0m \u001b[38;5;28;01mdef\u001b[39;00m \u001b[38;5;21m_parse_comparison\u001b[39m(\u001b[38;5;28mself\u001b[39m) \u001b[38;5;241m-\u001b[39m\u001b[38;5;241m>\u001b[39m t\u001b[38;5;241m.\u001b[39mOptional[exp\u001b[38;5;241m.\u001b[39mExpression]:\n\u001b[1;32m-> 3458\u001b[0m     \u001b[38;5;28;01mreturn\u001b[39;00m \u001b[38;5;28;43mself\u001b[39;49m\u001b[38;5;241;43m.\u001b[39;49m\u001b[43m_parse_tokens\u001b[49m\u001b[43m(\u001b[49m\u001b[38;5;28;43mself\u001b[39;49m\u001b[38;5;241;43m.\u001b[39;49m\u001b[43m_parse_range\u001b[49m\u001b[43m,\u001b[49m\u001b[43m \u001b[49m\u001b[38;5;28;43mself\u001b[39;49m\u001b[38;5;241;43m.\u001b[39;49m\u001b[43mCOMPARISON\u001b[49m\u001b[43m)\u001b[49m\n",
      "File \u001b[1;32mc:\\Users\\huguobin\\AppData\\Local\\Programs\\Python\\Python312\\Lib\\site-packages\\sqlglot\\parser.py:5225\u001b[0m, in \u001b[0;36mParser._parse_tokens\u001b[1;34m(self, parse_method, expressions)\u001b[0m\n\u001b[0;32m   5222\u001b[0m \u001b[38;5;28;01mdef\u001b[39;00m \u001b[38;5;21m_parse_tokens\u001b[39m(\n\u001b[0;32m   5223\u001b[0m     \u001b[38;5;28mself\u001b[39m, parse_method: t\u001b[38;5;241m.\u001b[39mCallable, expressions: t\u001b[38;5;241m.\u001b[39mDict\n\u001b[0;32m   5224\u001b[0m ) \u001b[38;5;241m-\u001b[39m\u001b[38;5;241m>\u001b[39m t\u001b[38;5;241m.\u001b[39mOptional[exp\u001b[38;5;241m.\u001b[39mExpression]:\n\u001b[1;32m-> 5225\u001b[0m     this \u001b[38;5;241m=\u001b[39m \u001b[43mparse_method\u001b[49m\u001b[43m(\u001b[49m\u001b[43m)\u001b[49m\n\u001b[0;32m   5227\u001b[0m     \u001b[38;5;28;01mwhile\u001b[39;00m \u001b[38;5;28mself\u001b[39m\u001b[38;5;241m.\u001b[39m_match_set(expressions):\n\u001b[0;32m   5228\u001b[0m         this \u001b[38;5;241m=\u001b[39m \u001b[38;5;28mself\u001b[39m\u001b[38;5;241m.\u001b[39mexpression(\n\u001b[0;32m   5229\u001b[0m             expressions[\u001b[38;5;28mself\u001b[39m\u001b[38;5;241m.\u001b[39m_prev\u001b[38;5;241m.\u001b[39mtoken_type],\n\u001b[0;32m   5230\u001b[0m             this\u001b[38;5;241m=\u001b[39mthis,\n\u001b[0;32m   5231\u001b[0m             comments\u001b[38;5;241m=\u001b[39m\u001b[38;5;28mself\u001b[39m\u001b[38;5;241m.\u001b[39m_prev_comments,\n\u001b[0;32m   5232\u001b[0m             expression\u001b[38;5;241m=\u001b[39mparse_method(),\n\u001b[0;32m   5233\u001b[0m         )\n",
      "File \u001b[1;32mc:\\Users\\huguobin\\AppData\\Local\\Programs\\Python\\Python312\\Lib\\site-packages\\sqlglot\\parser.py:3461\u001b[0m, in \u001b[0;36mParser._parse_range\u001b[1;34m(self, this)\u001b[0m\n\u001b[0;32m   3460\u001b[0m \u001b[38;5;28;01mdef\u001b[39;00m \u001b[38;5;21m_parse_range\u001b[39m(\u001b[38;5;28mself\u001b[39m, this: t\u001b[38;5;241m.\u001b[39mOptional[exp\u001b[38;5;241m.\u001b[39mExpression] \u001b[38;5;241m=\u001b[39m \u001b[38;5;28;01mNone\u001b[39;00m) \u001b[38;5;241m-\u001b[39m\u001b[38;5;241m>\u001b[39m t\u001b[38;5;241m.\u001b[39mOptional[exp\u001b[38;5;241m.\u001b[39mExpression]:\n\u001b[1;32m-> 3461\u001b[0m     this \u001b[38;5;241m=\u001b[39m this \u001b[38;5;129;01mor\u001b[39;00m \u001b[38;5;28;43mself\u001b[39;49m\u001b[38;5;241;43m.\u001b[39;49m\u001b[43m_parse_bitwise\u001b[49m\u001b[43m(\u001b[49m\u001b[43m)\u001b[49m\n\u001b[0;32m   3462\u001b[0m     negate \u001b[38;5;241m=\u001b[39m \u001b[38;5;28mself\u001b[39m\u001b[38;5;241m.\u001b[39m_match(TokenType\u001b[38;5;241m.\u001b[39mNOT)\n\u001b[0;32m   3464\u001b[0m     \u001b[38;5;28;01mif\u001b[39;00m \u001b[38;5;28mself\u001b[39m\u001b[38;5;241m.\u001b[39m_match_set(\u001b[38;5;28mself\u001b[39m\u001b[38;5;241m.\u001b[39mRANGE_PARSERS):\n",
      "File \u001b[1;32mc:\\Users\\huguobin\\AppData\\Local\\Programs\\Python\\Python312\\Lib\\site-packages\\sqlglot\\parser.py:3580\u001b[0m, in \u001b[0;36mParser._parse_bitwise\u001b[1;34m(self)\u001b[0m\n\u001b[0;32m   3579\u001b[0m \u001b[38;5;28;01mdef\u001b[39;00m \u001b[38;5;21m_parse_bitwise\u001b[39m(\u001b[38;5;28mself\u001b[39m) \u001b[38;5;241m-\u001b[39m\u001b[38;5;241m>\u001b[39m t\u001b[38;5;241m.\u001b[39mOptional[exp\u001b[38;5;241m.\u001b[39mExpression]:\n\u001b[1;32m-> 3580\u001b[0m     this \u001b[38;5;241m=\u001b[39m \u001b[38;5;28;43mself\u001b[39;49m\u001b[38;5;241;43m.\u001b[39;49m\u001b[43m_parse_term\u001b[49m\u001b[43m(\u001b[49m\u001b[43m)\u001b[49m\n\u001b[0;32m   3582\u001b[0m     \u001b[38;5;28;01mwhile\u001b[39;00m \u001b[38;5;28;01mTrue\u001b[39;00m:\n\u001b[0;32m   3583\u001b[0m         \u001b[38;5;28;01mif\u001b[39;00m \u001b[38;5;28mself\u001b[39m\u001b[38;5;241m.\u001b[39m_match_set(\u001b[38;5;28mself\u001b[39m\u001b[38;5;241m.\u001b[39mBITWISE):\n",
      "File \u001b[1;32mc:\\Users\\huguobin\\AppData\\Local\\Programs\\Python\\Python312\\Lib\\site-packages\\sqlglot\\parser.py:3612\u001b[0m, in \u001b[0;36mParser._parse_term\u001b[1;34m(self)\u001b[0m\n\u001b[0;32m   3611\u001b[0m \u001b[38;5;28;01mdef\u001b[39;00m \u001b[38;5;21m_parse_term\u001b[39m(\u001b[38;5;28mself\u001b[39m) \u001b[38;5;241m-\u001b[39m\u001b[38;5;241m>\u001b[39m t\u001b[38;5;241m.\u001b[39mOptional[exp\u001b[38;5;241m.\u001b[39mExpression]:\n\u001b[1;32m-> 3612\u001b[0m     \u001b[38;5;28;01mreturn\u001b[39;00m \u001b[38;5;28;43mself\u001b[39;49m\u001b[38;5;241;43m.\u001b[39;49m\u001b[43m_parse_tokens\u001b[49m\u001b[43m(\u001b[49m\u001b[38;5;28;43mself\u001b[39;49m\u001b[38;5;241;43m.\u001b[39;49m\u001b[43m_parse_factor\u001b[49m\u001b[43m,\u001b[49m\u001b[43m \u001b[49m\u001b[38;5;28;43mself\u001b[39;49m\u001b[38;5;241;43m.\u001b[39;49m\u001b[43mTERM\u001b[49m\u001b[43m)\u001b[49m\n",
      "File \u001b[1;32mc:\\Users\\huguobin\\AppData\\Local\\Programs\\Python\\Python312\\Lib\\site-packages\\sqlglot\\parser.py:5225\u001b[0m, in \u001b[0;36mParser._parse_tokens\u001b[1;34m(self, parse_method, expressions)\u001b[0m\n\u001b[0;32m   5222\u001b[0m \u001b[38;5;28;01mdef\u001b[39;00m \u001b[38;5;21m_parse_tokens\u001b[39m(\n\u001b[0;32m   5223\u001b[0m     \u001b[38;5;28mself\u001b[39m, parse_method: t\u001b[38;5;241m.\u001b[39mCallable, expressions: t\u001b[38;5;241m.\u001b[39mDict\n\u001b[0;32m   5224\u001b[0m ) \u001b[38;5;241m-\u001b[39m\u001b[38;5;241m>\u001b[39m t\u001b[38;5;241m.\u001b[39mOptional[exp\u001b[38;5;241m.\u001b[39mExpression]:\n\u001b[1;32m-> 5225\u001b[0m     this \u001b[38;5;241m=\u001b[39m \u001b[43mparse_method\u001b[49m\u001b[43m(\u001b[49m\u001b[43m)\u001b[49m\n\u001b[0;32m   5227\u001b[0m     \u001b[38;5;28;01mwhile\u001b[39;00m \u001b[38;5;28mself\u001b[39m\u001b[38;5;241m.\u001b[39m_match_set(expressions):\n\u001b[0;32m   5228\u001b[0m         this \u001b[38;5;241m=\u001b[39m \u001b[38;5;28mself\u001b[39m\u001b[38;5;241m.\u001b[39mexpression(\n\u001b[0;32m   5229\u001b[0m             expressions[\u001b[38;5;28mself\u001b[39m\u001b[38;5;241m.\u001b[39m_prev\u001b[38;5;241m.\u001b[39mtoken_type],\n\u001b[0;32m   5230\u001b[0m             this\u001b[38;5;241m=\u001b[39mthis,\n\u001b[0;32m   5231\u001b[0m             comments\u001b[38;5;241m=\u001b[39m\u001b[38;5;28mself\u001b[39m\u001b[38;5;241m.\u001b[39m_prev_comments,\n\u001b[0;32m   5232\u001b[0m             expression\u001b[38;5;241m=\u001b[39mparse_method(),\n\u001b[0;32m   5233\u001b[0m         )\n",
      "File \u001b[1;32mc:\\Users\\huguobin\\AppData\\Local\\Programs\\Python\\Python312\\Lib\\site-packages\\sqlglot\\parser.py:3616\u001b[0m, in \u001b[0;36mParser._parse_factor\u001b[1;34m(self)\u001b[0m\n\u001b[0;32m   3614\u001b[0m \u001b[38;5;28;01mdef\u001b[39;00m \u001b[38;5;21m_parse_factor\u001b[39m(\u001b[38;5;28mself\u001b[39m) \u001b[38;5;241m-\u001b[39m\u001b[38;5;241m>\u001b[39m t\u001b[38;5;241m.\u001b[39mOptional[exp\u001b[38;5;241m.\u001b[39mExpression]:\n\u001b[0;32m   3615\u001b[0m     parse_method \u001b[38;5;241m=\u001b[39m \u001b[38;5;28mself\u001b[39m\u001b[38;5;241m.\u001b[39m_parse_exponent \u001b[38;5;28;01mif\u001b[39;00m \u001b[38;5;28mself\u001b[39m\u001b[38;5;241m.\u001b[39mEXPONENT \u001b[38;5;28;01melse\u001b[39;00m \u001b[38;5;28mself\u001b[39m\u001b[38;5;241m.\u001b[39m_parse_unary\n\u001b[1;32m-> 3616\u001b[0m     this \u001b[38;5;241m=\u001b[39m \u001b[43mparse_method\u001b[49m\u001b[43m(\u001b[49m\u001b[43m)\u001b[49m\n\u001b[0;32m   3618\u001b[0m     \u001b[38;5;28;01mwhile\u001b[39;00m \u001b[38;5;28mself\u001b[39m\u001b[38;5;241m.\u001b[39m_match_set(\u001b[38;5;28mself\u001b[39m\u001b[38;5;241m.\u001b[39mFACTOR):\n\u001b[0;32m   3619\u001b[0m         this \u001b[38;5;241m=\u001b[39m \u001b[38;5;28mself\u001b[39m\u001b[38;5;241m.\u001b[39mexpression(\n\u001b[0;32m   3620\u001b[0m             \u001b[38;5;28mself\u001b[39m\u001b[38;5;241m.\u001b[39mFACTOR[\u001b[38;5;28mself\u001b[39m\u001b[38;5;241m.\u001b[39m_prev\u001b[38;5;241m.\u001b[39mtoken_type],\n\u001b[0;32m   3621\u001b[0m             this\u001b[38;5;241m=\u001b[39mthis,\n\u001b[0;32m   3622\u001b[0m             comments\u001b[38;5;241m=\u001b[39m\u001b[38;5;28mself\u001b[39m\u001b[38;5;241m.\u001b[39m_prev_comments,\n\u001b[0;32m   3623\u001b[0m             expression\u001b[38;5;241m=\u001b[39mparse_method(),\n\u001b[0;32m   3624\u001b[0m         )\n",
      "File \u001b[1;32mc:\\Users\\huguobin\\AppData\\Local\\Programs\\Python\\Python312\\Lib\\site-packages\\sqlglot\\parser.py:3637\u001b[0m, in \u001b[0;36mParser._parse_unary\u001b[1;34m(self)\u001b[0m\n\u001b[0;32m   3635\u001b[0m \u001b[38;5;28;01mif\u001b[39;00m \u001b[38;5;28mself\u001b[39m\u001b[38;5;241m.\u001b[39m_match_set(\u001b[38;5;28mself\u001b[39m\u001b[38;5;241m.\u001b[39mUNARY_PARSERS):\n\u001b[0;32m   3636\u001b[0m     \u001b[38;5;28;01mreturn\u001b[39;00m \u001b[38;5;28mself\u001b[39m\u001b[38;5;241m.\u001b[39mUNARY_PARSERS[\u001b[38;5;28mself\u001b[39m\u001b[38;5;241m.\u001b[39m_prev\u001b[38;5;241m.\u001b[39mtoken_type](\u001b[38;5;28mself\u001b[39m)\n\u001b[1;32m-> 3637\u001b[0m \u001b[38;5;28;01mreturn\u001b[39;00m \u001b[38;5;28mself\u001b[39m\u001b[38;5;241m.\u001b[39m_parse_at_time_zone(\u001b[38;5;28;43mself\u001b[39;49m\u001b[38;5;241;43m.\u001b[39;49m\u001b[43m_parse_type\u001b[49m\u001b[43m(\u001b[49m\u001b[43m)\u001b[49m)\n",
      "File \u001b[1;32mc:\\Users\\huguobin\\AppData\\Local\\Programs\\Python\\Python312\\Lib\\site-packages\\sqlglot\\parser.py:3652\u001b[0m, in \u001b[0;36mParser._parse_type\u001b[1;34m(self, parse_interval)\u001b[0m\n\u001b[0;32m   3650\u001b[0m index \u001b[38;5;241m=\u001b[39m \u001b[38;5;28mself\u001b[39m\u001b[38;5;241m.\u001b[39m_index\n\u001b[0;32m   3651\u001b[0m data_type \u001b[38;5;241m=\u001b[39m \u001b[38;5;28mself\u001b[39m\u001b[38;5;241m.\u001b[39m_parse_types(check_func\u001b[38;5;241m=\u001b[39m\u001b[38;5;28;01mTrue\u001b[39;00m, allow_identifiers\u001b[38;5;241m=\u001b[39m\u001b[38;5;28;01mFalse\u001b[39;00m)\n\u001b[1;32m-> 3652\u001b[0m this \u001b[38;5;241m=\u001b[39m \u001b[38;5;28;43mself\u001b[39;49m\u001b[38;5;241;43m.\u001b[39;49m\u001b[43m_parse_column\u001b[49m\u001b[43m(\u001b[49m\u001b[43m)\u001b[49m\n\u001b[0;32m   3654\u001b[0m \u001b[38;5;28;01mif\u001b[39;00m data_type:\n\u001b[0;32m   3655\u001b[0m     \u001b[38;5;28;01mif\u001b[39;00m \u001b[38;5;28misinstance\u001b[39m(this, exp\u001b[38;5;241m.\u001b[39mLiteral):\n",
      "File \u001b[1;32mc:\\Users\\huguobin\\AppData\\Local\\Programs\\Python\\Python312\\Lib\\site-packages\\sqlglot\\parser.py:3855\u001b[0m, in \u001b[0;36mParser._parse_column\u001b[1;34m(self)\u001b[0m\n\u001b[0;32m   3853\u001b[0m \u001b[38;5;28;01mdef\u001b[39;00m \u001b[38;5;21m_parse_column\u001b[39m(\u001b[38;5;28mself\u001b[39m) \u001b[38;5;241m-\u001b[39m\u001b[38;5;241m>\u001b[39m t\u001b[38;5;241m.\u001b[39mOptional[exp\u001b[38;5;241m.\u001b[39mExpression]:\n\u001b[0;32m   3854\u001b[0m     this \u001b[38;5;241m=\u001b[39m \u001b[38;5;28mself\u001b[39m\u001b[38;5;241m.\u001b[39m_parse_column_reference()\n\u001b[1;32m-> 3855\u001b[0m     \u001b[38;5;28;01mreturn\u001b[39;00m \u001b[38;5;28;43mself\u001b[39;49m\u001b[38;5;241;43m.\u001b[39;49m\u001b[43m_parse_column_ops\u001b[49m\u001b[43m(\u001b[49m\u001b[43mthis\u001b[49m\u001b[43m)\u001b[49m \u001b[38;5;28;01mif\u001b[39;00m this \u001b[38;5;28;01melse\u001b[39;00m \u001b[38;5;28mself\u001b[39m\u001b[38;5;241m.\u001b[39m_parse_bracket(this)\n",
      "File \u001b[1;32mc:\\Users\\huguobin\\AppData\\Local\\Programs\\Python\\Python312\\Lib\\site-packages\\sqlglot\\parser.py:3886\u001b[0m, in \u001b[0;36mParser._parse_column_ops\u001b[1;34m(self, this)\u001b[0m\n\u001b[0;32m   3883\u001b[0m     this \u001b[38;5;241m=\u001b[39m \u001b[38;5;28mself\u001b[39m\u001b[38;5;241m.\u001b[39m_replace_columns_with_dots(this)\n\u001b[0;32m   3885\u001b[0m \u001b[38;5;28;01mif\u001b[39;00m op:\n\u001b[1;32m-> 3886\u001b[0m     this \u001b[38;5;241m=\u001b[39m \u001b[43mop\u001b[49m\u001b[43m(\u001b[49m\u001b[38;5;28;43mself\u001b[39;49m\u001b[43m,\u001b[49m\u001b[43m \u001b[49m\u001b[43mthis\u001b[49m\u001b[43m,\u001b[49m\u001b[43m \u001b[49m\u001b[43mfield\u001b[49m\u001b[43m)\u001b[49m\n\u001b[0;32m   3887\u001b[0m \u001b[38;5;28;01melif\u001b[39;00m \u001b[38;5;28misinstance\u001b[39m(this, exp\u001b[38;5;241m.\u001b[39mColumn) \u001b[38;5;129;01mand\u001b[39;00m \u001b[38;5;129;01mnot\u001b[39;00m this\u001b[38;5;241m.\u001b[39margs\u001b[38;5;241m.\u001b[39mget(\u001b[38;5;124m\"\u001b[39m\u001b[38;5;124mcatalog\u001b[39m\u001b[38;5;124m\"\u001b[39m):\n\u001b[0;32m   3888\u001b[0m     this \u001b[38;5;241m=\u001b[39m \u001b[38;5;28mself\u001b[39m\u001b[38;5;241m.\u001b[39mexpression(\n\u001b[0;32m   3889\u001b[0m         exp\u001b[38;5;241m.\u001b[39mColumn,\n\u001b[0;32m   3890\u001b[0m         this\u001b[38;5;241m=\u001b[39mfield,\n\u001b[1;32m   (...)\u001b[0m\n\u001b[0;32m   3893\u001b[0m         catalog\u001b[38;5;241m=\u001b[39mthis\u001b[38;5;241m.\u001b[39margs\u001b[38;5;241m.\u001b[39mget(\u001b[38;5;124m\"\u001b[39m\u001b[38;5;124mdb\u001b[39m\u001b[38;5;124m\"\u001b[39m),\n\u001b[0;32m   3894\u001b[0m     )\n",
      "File \u001b[1;32mc:\\Users\\huguobin\\AppData\\Local\\Programs\\Python\\Python312\\Lib\\site-packages\\sqlglot\\parser.py:569\u001b[0m, in \u001b[0;36mParser.<lambda>\u001b[1;34m(self, this, key)\u001b[0m\n\u001b[0;32m    524\u001b[0m JOIN_HINTS: t\u001b[38;5;241m.\u001b[39mSet[\u001b[38;5;28mstr\u001b[39m] \u001b[38;5;241m=\u001b[39m \u001b[38;5;28mset\u001b[39m()\n\u001b[0;32m    526\u001b[0m LAMBDAS \u001b[38;5;241m=\u001b[39m {\n\u001b[0;32m    527\u001b[0m     TokenType\u001b[38;5;241m.\u001b[39mARROW: \u001b[38;5;28;01mlambda\u001b[39;00m \u001b[38;5;28mself\u001b[39m, expressions: \u001b[38;5;28mself\u001b[39m\u001b[38;5;241m.\u001b[39mexpression(\n\u001b[0;32m    528\u001b[0m         exp\u001b[38;5;241m.\u001b[39mLambda,\n\u001b[1;32m   (...)\u001b[0m\n\u001b[0;32m    539\u001b[0m     ),\n\u001b[0;32m    540\u001b[0m }\n\u001b[0;32m    542\u001b[0m COLUMN_OPERATORS \u001b[38;5;241m=\u001b[39m {\n\u001b[0;32m    543\u001b[0m     TokenType\u001b[38;5;241m.\u001b[39mDOT: \u001b[38;5;28;01mNone\u001b[39;00m,\n\u001b[0;32m    544\u001b[0m     TokenType\u001b[38;5;241m.\u001b[39mDCOLON: \u001b[38;5;28;01mlambda\u001b[39;00m \u001b[38;5;28mself\u001b[39m, this, to: \u001b[38;5;28mself\u001b[39m\u001b[38;5;241m.\u001b[39mexpression(\n\u001b[0;32m    545\u001b[0m         exp\u001b[38;5;241m.\u001b[39mCast \u001b[38;5;28;01mif\u001b[39;00m \u001b[38;5;28mself\u001b[39m\u001b[38;5;241m.\u001b[39mSTRICT_CAST \u001b[38;5;28;01melse\u001b[39;00m exp\u001b[38;5;241m.\u001b[39mTryCast,\n\u001b[0;32m    546\u001b[0m         this\u001b[38;5;241m=\u001b[39mthis,\n\u001b[0;32m    547\u001b[0m         to\u001b[38;5;241m=\u001b[39mto,\n\u001b[0;32m    548\u001b[0m     ),\n\u001b[0;32m    549\u001b[0m     TokenType\u001b[38;5;241m.\u001b[39mARROW: \u001b[38;5;28;01mlambda\u001b[39;00m \u001b[38;5;28mself\u001b[39m, this, path: \u001b[38;5;28mself\u001b[39m\u001b[38;5;241m.\u001b[39mexpression(\n\u001b[0;32m    550\u001b[0m         exp\u001b[38;5;241m.\u001b[39mJSONExtract,\n\u001b[0;32m    551\u001b[0m         this\u001b[38;5;241m=\u001b[39mthis,\n\u001b[0;32m    552\u001b[0m         expression\u001b[38;5;241m=\u001b[39m\u001b[38;5;28mself\u001b[39m\u001b[38;5;241m.\u001b[39mdialect\u001b[38;5;241m.\u001b[39mto_json_path(path),\n\u001b[0;32m    553\u001b[0m     ),\n\u001b[0;32m    554\u001b[0m     TokenType\u001b[38;5;241m.\u001b[39mDARROW: \u001b[38;5;28;01mlambda\u001b[39;00m \u001b[38;5;28mself\u001b[39m, this, path: \u001b[38;5;28mself\u001b[39m\u001b[38;5;241m.\u001b[39mexpression(\n\u001b[0;32m    555\u001b[0m         exp\u001b[38;5;241m.\u001b[39mJSONExtractScalar,\n\u001b[0;32m    556\u001b[0m         this\u001b[38;5;241m=\u001b[39mthis,\n\u001b[0;32m    557\u001b[0m         expression\u001b[38;5;241m=\u001b[39m\u001b[38;5;28mself\u001b[39m\u001b[38;5;241m.\u001b[39mdialect\u001b[38;5;241m.\u001b[39mto_json_path(path),\n\u001b[0;32m    558\u001b[0m     ),\n\u001b[0;32m    559\u001b[0m     TokenType\u001b[38;5;241m.\u001b[39mHASH_ARROW: \u001b[38;5;28;01mlambda\u001b[39;00m \u001b[38;5;28mself\u001b[39m, this, path: \u001b[38;5;28mself\u001b[39m\u001b[38;5;241m.\u001b[39mexpression(\n\u001b[0;32m    560\u001b[0m         exp\u001b[38;5;241m.\u001b[39mJSONBExtract,\n\u001b[0;32m    561\u001b[0m         this\u001b[38;5;241m=\u001b[39mthis,\n\u001b[0;32m    562\u001b[0m         expression\u001b[38;5;241m=\u001b[39mpath,\n\u001b[0;32m    563\u001b[0m     ),\n\u001b[0;32m    564\u001b[0m     TokenType\u001b[38;5;241m.\u001b[39mDHASH_ARROW: \u001b[38;5;28;01mlambda\u001b[39;00m \u001b[38;5;28mself\u001b[39m, this, path: \u001b[38;5;28mself\u001b[39m\u001b[38;5;241m.\u001b[39mexpression(\n\u001b[0;32m    565\u001b[0m         exp\u001b[38;5;241m.\u001b[39mJSONBExtractScalar,\n\u001b[0;32m    566\u001b[0m         this\u001b[38;5;241m=\u001b[39mthis,\n\u001b[0;32m    567\u001b[0m         expression\u001b[38;5;241m=\u001b[39mpath,\n\u001b[0;32m    568\u001b[0m     ),\n\u001b[1;32m--> 569\u001b[0m     TokenType\u001b[38;5;241m.\u001b[39mPLACEHOLDER: \u001b[38;5;28;01mlambda\u001b[39;00m \u001b[38;5;28mself\u001b[39m, this, key: \u001b[38;5;28;43mself\u001b[39;49m\u001b[38;5;241;43m.\u001b[39;49m\u001b[43mexpression\u001b[49m\u001b[43m(\u001b[49m\n\u001b[0;32m    570\u001b[0m \u001b[43m        \u001b[49m\u001b[43mexp\u001b[49m\u001b[38;5;241;43m.\u001b[39;49m\u001b[43mJSONBContains\u001b[49m\u001b[43m,\u001b[49m\n\u001b[0;32m    571\u001b[0m \u001b[43m        \u001b[49m\u001b[43mthis\u001b[49m\u001b[38;5;241;43m=\u001b[39;49m\u001b[43mthis\u001b[49m\u001b[43m,\u001b[49m\n\u001b[0;32m    572\u001b[0m \u001b[43m        \u001b[49m\u001b[43mexpression\u001b[49m\u001b[38;5;241;43m=\u001b[39;49m\u001b[43mkey\u001b[49m\u001b[43m,\u001b[49m\n\u001b[0;32m    573\u001b[0m \u001b[43m    \u001b[49m\u001b[43m)\u001b[49m,\n\u001b[0;32m    574\u001b[0m }\n\u001b[0;32m    576\u001b[0m EXPRESSION_PARSERS \u001b[38;5;241m=\u001b[39m {\n\u001b[0;32m    577\u001b[0m     exp\u001b[38;5;241m.\u001b[39mCluster: \u001b[38;5;28;01mlambda\u001b[39;00m \u001b[38;5;28mself\u001b[39m: \u001b[38;5;28mself\u001b[39m\u001b[38;5;241m.\u001b[39m_parse_sort(exp\u001b[38;5;241m.\u001b[39mCluster, TokenType\u001b[38;5;241m.\u001b[39mCLUSTER_BY),\n\u001b[0;32m    578\u001b[0m     exp\u001b[38;5;241m.\u001b[39mColumn: \u001b[38;5;28;01mlambda\u001b[39;00m \u001b[38;5;28mself\u001b[39m: \u001b[38;5;28mself\u001b[39m\u001b[38;5;241m.\u001b[39m_parse_column(),\n\u001b[1;32m   (...)\u001b[0m\n\u001b[0;32m    603\u001b[0m     \u001b[38;5;124m\"\u001b[39m\u001b[38;5;124mJOIN_TYPE\u001b[39m\u001b[38;5;124m\"\u001b[39m: \u001b[38;5;28;01mlambda\u001b[39;00m \u001b[38;5;28mself\u001b[39m: \u001b[38;5;28mself\u001b[39m\u001b[38;5;241m.\u001b[39m_parse_join_parts(),\n\u001b[0;32m    604\u001b[0m }\n\u001b[0;32m    606\u001b[0m STATEMENT_PARSERS \u001b[38;5;241m=\u001b[39m {\n\u001b[0;32m    607\u001b[0m     TokenType\u001b[38;5;241m.\u001b[39mALTER: \u001b[38;5;28;01mlambda\u001b[39;00m \u001b[38;5;28mself\u001b[39m: \u001b[38;5;28mself\u001b[39m\u001b[38;5;241m.\u001b[39m_parse_alter(),\n\u001b[0;32m    608\u001b[0m     TokenType\u001b[38;5;241m.\u001b[39mBEGIN: \u001b[38;5;28;01mlambda\u001b[39;00m \u001b[38;5;28mself\u001b[39m: \u001b[38;5;28mself\u001b[39m\u001b[38;5;241m.\u001b[39m_parse_transaction(),\n\u001b[1;32m   (...)\u001b[0m\n\u001b[0;32m    633\u001b[0m     ),\n\u001b[0;32m    634\u001b[0m }\n",
      "File \u001b[1;32mc:\\Users\\huguobin\\AppData\\Local\\Programs\\Python\\Python312\\Lib\\site-packages\\sqlglot\\parser.py:1195\u001b[0m, in \u001b[0;36mParser.expression\u001b[1;34m(self, exp_class, comments, **kwargs)\u001b[0m\n\u001b[0;32m   1193\u001b[0m instance \u001b[38;5;241m=\u001b[39m exp_class(\u001b[38;5;241m*\u001b[39m\u001b[38;5;241m*\u001b[39mkwargs)\n\u001b[0;32m   1194\u001b[0m instance\u001b[38;5;241m.\u001b[39madd_comments(comments) \u001b[38;5;28;01mif\u001b[39;00m comments \u001b[38;5;28;01melse\u001b[39;00m \u001b[38;5;28mself\u001b[39m\u001b[38;5;241m.\u001b[39m_add_comments(instance)\n\u001b[1;32m-> 1195\u001b[0m \u001b[38;5;28;01mreturn\u001b[39;00m \u001b[38;5;28;43mself\u001b[39;49m\u001b[38;5;241;43m.\u001b[39;49m\u001b[43mvalidate_expression\u001b[49m\u001b[43m(\u001b[49m\u001b[43minstance\u001b[49m\u001b[43m)\u001b[49m\n",
      "File \u001b[1;32mc:\\Users\\huguobin\\AppData\\Local\\Programs\\Python\\Python312\\Lib\\site-packages\\sqlglot\\parser.py:1215\u001b[0m, in \u001b[0;36mParser.validate_expression\u001b[1;34m(self, expression, args)\u001b[0m\n\u001b[0;32m   1213\u001b[0m \u001b[38;5;28;01mif\u001b[39;00m \u001b[38;5;28mself\u001b[39m\u001b[38;5;241m.\u001b[39merror_level \u001b[38;5;241m!=\u001b[39m ErrorLevel\u001b[38;5;241m.\u001b[39mIGNORE:\n\u001b[0;32m   1214\u001b[0m     \u001b[38;5;28;01mfor\u001b[39;00m error_message \u001b[38;5;129;01min\u001b[39;00m expression\u001b[38;5;241m.\u001b[39merror_messages(args):\n\u001b[1;32m-> 1215\u001b[0m         \u001b[38;5;28;43mself\u001b[39;49m\u001b[38;5;241;43m.\u001b[39;49m\u001b[43mraise_error\u001b[49m\u001b[43m(\u001b[49m\u001b[43merror_message\u001b[49m\u001b[43m)\u001b[49m\n\u001b[0;32m   1217\u001b[0m \u001b[38;5;28;01mreturn\u001b[39;00m expression\n",
      "File \u001b[1;32mc:\\Users\\huguobin\\AppData\\Local\\Programs\\Python\\Python312\\Lib\\site-packages\\sqlglot\\parser.py:1175\u001b[0m, in \u001b[0;36mParser.raise_error\u001b[1;34m(self, message, token)\u001b[0m\n\u001b[0;32m   1163\u001b[0m error \u001b[38;5;241m=\u001b[39m ParseError\u001b[38;5;241m.\u001b[39mnew(\n\u001b[0;32m   1164\u001b[0m     \u001b[38;5;124mf\u001b[39m\u001b[38;5;124m\"\u001b[39m\u001b[38;5;132;01m{\u001b[39;00mmessage\u001b[38;5;132;01m}\u001b[39;00m\u001b[38;5;124m. Line \u001b[39m\u001b[38;5;132;01m{\u001b[39;00mtoken\u001b[38;5;241m.\u001b[39mline\u001b[38;5;132;01m}\u001b[39;00m\u001b[38;5;124m, Col: \u001b[39m\u001b[38;5;132;01m{\u001b[39;00mtoken\u001b[38;5;241m.\u001b[39mcol\u001b[38;5;132;01m}\u001b[39;00m\u001b[38;5;124m.\u001b[39m\u001b[38;5;130;01m\\n\u001b[39;00m\u001b[38;5;124m\"\u001b[39m\n\u001b[0;32m   1165\u001b[0m     \u001b[38;5;124mf\u001b[39m\u001b[38;5;124m\"\u001b[39m\u001b[38;5;124m  \u001b[39m\u001b[38;5;132;01m{\u001b[39;00mstart_context\u001b[38;5;132;01m}\u001b[39;00m\u001b[38;5;130;01m\\033\u001b[39;00m\u001b[38;5;124m[4m\u001b[39m\u001b[38;5;132;01m{\u001b[39;00mhighlight\u001b[38;5;132;01m}\u001b[39;00m\u001b[38;5;130;01m\\033\u001b[39;00m\u001b[38;5;124m[0m\u001b[39m\u001b[38;5;132;01m{\u001b[39;00mend_context\u001b[38;5;132;01m}\u001b[39;00m\u001b[38;5;124m\"\u001b[39m,\n\u001b[1;32m   (...)\u001b[0m\n\u001b[0;32m   1171\u001b[0m     end_context\u001b[38;5;241m=\u001b[39mend_context,\n\u001b[0;32m   1172\u001b[0m )\n\u001b[0;32m   1174\u001b[0m \u001b[38;5;28;01mif\u001b[39;00m \u001b[38;5;28mself\u001b[39m\u001b[38;5;241m.\u001b[39merror_level \u001b[38;5;241m==\u001b[39m ErrorLevel\u001b[38;5;241m.\u001b[39mIMMEDIATE:\n\u001b[1;32m-> 1175\u001b[0m     \u001b[38;5;28;01mraise\u001b[39;00m error\n\u001b[0;32m   1177\u001b[0m \u001b[38;5;28mself\u001b[39m\u001b[38;5;241m.\u001b[39merrors\u001b[38;5;241m.\u001b[39mappend(error)\n",
      "\u001b[1;31mParseError\u001b[0m: Required keyword: 'expression' missing for <class 'sqlglot.expressions.JSONBContains'>. Line 3, Col: 15.\n  \ninsert into a\nselect `(num)?\u001b[4m+\u001b[0m.+` from (\nselect *,row_number() over(partition by id order by id) as rn from b\n) t where t.num=1\n"
     ]
    }
   ],
   "source": [
    "sqlglot.parse(sql)"
   ]
  },
  {
   "cell_type": "code",
   "execution_count": null,
   "metadata": {},
   "outputs": [],
   "source": []
  }
 ],
 "metadata": {
  "kernelspec": {
   "display_name": "Python 3",
   "language": "python",
   "name": "python3"
  },
  "language_info": {
   "codemirror_mode": {
    "name": "ipython",
    "version": 3
   },
   "file_extension": ".py",
   "mimetype": "text/x-python",
   "name": "python",
   "nbconvert_exporter": "python",
   "pygments_lexer": "ipython3",
   "version": "3.12.1"
  }
 },
 "nbformat": 4,
 "nbformat_minor": 2
}
