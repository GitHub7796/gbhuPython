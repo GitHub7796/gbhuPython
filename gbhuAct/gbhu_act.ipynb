{
 "cells": [
  {
   "cell_type": "markdown",
   "metadata": {},
   "source": [
    "sqlparse ：sqlparse是一个功能强大的SQL解析器和格式化器，可以解析SQL语句并将其转换为Python对象表示形式。它可以处理各种SQL语句，包括复杂的嵌套查询、多语句等。此外，sqlparse还提供了将SQL语句格式化为易于阅读的形式的功能。\n",
    "\n",
    "官方网站：https://github.com/andialbrecht/sqlparse\n",
    "\n",
    "antlr4：antlr4是一个强大的语言识别器生成器，可以根据给定的语法规则生成解析器。它支持广泛的语言和语法，包括SQL。虽然antlr4本身是用Java编写的，但是它也提供了Python的运行时库，可以在Python中使用antlr4生成的解析器。\n",
    "\n",
    "官方网站：https://www.antlr.org/\n",
    "\n",
    "PyParsing：PyParsing是一个纯Python实现的解析器库，用于构建解析器和语法分析器。虽然它没有antlr4那么强大，但它简单易用，适合处理简单到中等复杂度的语法结构。\n",
    "\n",
    "官方网站：https://pyparsing.pyparsing.org/"
   ]
  },
  {
   "cell_type": "markdown",
   "metadata": {},
   "source": [
    "sqlglot\n",
    "\n",
    "官网：https://sqlglot.com/sqlglot.html#examples\n",
    "\n",
    "ast 抽象语法树入门：https://github.com/tobymao/sqlglot/blob/main/posts/ast_primer.md"
   ]
  },
  {
   "cell_type": "code",
   "execution_count": 1,
   "metadata": {
    "ExecuteTime": {
     "end_time": "2024-02-18T07:00:44.286549700Z",
     "start_time": "2024-02-18T07:00:33.368932600Z"
    }
   },
   "outputs": [
    {
     "name": "stdout",
     "output_type": "stream",
     "text": [
      "Collecting sqlglot\n",
      "  Obtaining dependency information for sqlglot from https://files.pythonhosted.org/packages/fd/1b/d5a8755649f8bcdf2a27af87506d9da2058257c07e82bbc3c4bbae6ca403/sqlglot-21.1.1-py3-none-any.whl.metadata\n",
      "  Downloading sqlglot-21.1.1-py3-none-any.whl.metadata (16 kB)\n",
      "Downloading sqlglot-21.1.1-py3-none-any.whl (363 kB)\n",
      "   ---------------------------------------- 0.0/363.6 kB ? eta -:--:--\n",
      "   ---------------------------------------- 0.0/363.6 kB ? eta -:--:--\n",
      "   ---------------------------------------- 0.0/363.6 kB ? eta -:--:--\n",
      "   ---------------------------------------- 0.0/363.6 kB ? eta -:--:--\n",
      "   ---------------------------------------- 0.0/363.6 kB ? eta -:--:--\n",
      "   ---------------------------------------- 0.0/363.6 kB ? eta -:--:--\n",
      "   ---------------------------------------- 0.0/363.6 kB ? eta -:--:--\n",
      "   - -------------------------------------- 10.2/363.6 kB ? eta -:--:--\n",
      "   - -------------------------------------- 10.2/363.6 kB ? eta -:--:--\n",
      "   - -------------------------------------- 10.2/363.6 kB ? eta -:--:--\n",
      "   - -------------------------------------- 10.2/363.6 kB ? eta -:--:--\n",
      "   - -------------------------------------- 10.2/363.6 kB ? eta -:--:--\n",
      "   - -------------------------------------- 10.2/363.6 kB ? eta -:--:--\n",
      "   - -------------------------------------- 10.2/363.6 kB ? eta -:--:--\n",
      "   - -------------------------------------- 10.2/363.6 kB ? eta -:--:--\n",
      "   - -------------------------------------- 10.2/363.6 kB ? eta -:--:--\n",
      "   - -------------------------------------- 10.2/363.6 kB ? eta -:--:--\n",
      "   - -------------------------------------- 10.2/363.6 kB ? eta -:--:--\n",
      "   - -------------------------------------- 10.2/363.6 kB ? eta -:--:--\n",
      "   - -------------------------------------- 10.2/363.6 kB ? eta -:--:--\n",
      "   -------------- ----------------------- 143.4/363.6 kB 213.0 kB/s eta 0:00:02\n",
      "   -------------- ----------------------- 143.4/363.6 kB 213.0 kB/s eta 0:00:02\n",
      "   -------------- ----------------------- 143.4/363.6 kB 213.0 kB/s eta 0:00:02\n",
      "   -------------- ----------------------- 143.4/363.6 kB 213.0 kB/s eta 0:00:02\n",
      "   -------------- ----------------------- 143.4/363.6 kB 213.0 kB/s eta 0:00:02\n",
      "   ------------------ ------------------- 174.1/363.6 kB 194.1 kB/s eta 0:00:01\n",
      "   --------------------- ---------------- 204.8/363.6 kB 218.4 kB/s eta 0:00:01\n",
      "   ----------------------- -------------- 225.3/363.6 kB 237.3 kB/s eta 0:00:01\n",
      "   ----------------------- -------------- 225.3/363.6 kB 237.3 kB/s eta 0:00:01\n",
      "   ----------------------- -------------- 225.3/363.6 kB 237.3 kB/s eta 0:00:01\n",
      "   ----------------------- -------------- 225.3/363.6 kB 237.3 kB/s eta 0:00:01\n",
      "   ----------------------- -------------- 225.3/363.6 kB 237.3 kB/s eta 0:00:01\n",
      "   ------------------------ ------------- 235.5/363.6 kB 189.6 kB/s eta 0:00:01\n",
      "   ------------------------ ------------- 235.5/363.6 kB 189.6 kB/s eta 0:00:01\n",
      "   ---------------------------- --------- 276.5/363.6 kB 213.0 kB/s eta 0:00:01\n",
      "   -------------------------------- ----- 307.2/363.6 kB 223.6 kB/s eta 0:00:01\n",
      "   -------------------------------------  358.4/363.6 kB 256.0 kB/s eta 0:00:01\n",
      "   -------------------------------------- 363.6/363.6 kB 254.0 kB/s eta 0:00:00\n",
      "Installing collected packages: sqlglot\n",
      "Successfully installed sqlglot-21.1.1\n"
     ]
    },
    {
     "name": "stderr",
     "output_type": "stream",
     "text": [
      "\n",
      "[notice] A new release of pip is available: 23.2.1 -> 24.0\n",
      "[notice] To update, run: python.exe -m pip install --upgrade pip\n"
     ]
    }
   ],
   "source": [
    "!pip install sqlglot"
   ]
  },
  {
   "cell_type": "code",
   "execution_count": 2,
   "metadata": {
    "ExecuteTime": {
     "end_time": "2024-02-18T07:00:49.811662300Z",
     "start_time": "2024-02-18T07:00:49.727672100Z"
    }
   },
   "outputs": [],
   "source": [
    "# sql语法解析器\n",
    "import sqlglot\n",
    "# sql 类型\n",
    "from sqlglot import exp"
   ]
  },
  {
   "cell_type": "code",
   "execution_count": 3,
   "metadata": {
    "ExecuteTime": {
     "end_time": "2024-02-18T07:00:50.048324400Z",
     "start_time": "2024-02-18T07:00:50.042996Z"
    }
   },
   "outputs": [],
   "source": [
    "sql='''\n",
    "insert into test\n",
    "(\n",
    "    id,\n",
    "    name\n",
    ")\n",
    "select\n",
    "    t1.id,\n",
    "    case when nvl(length(t1.name1),0) > 0 then t1.bname1\n",
    "    else t2.name2 end as name\n",
    "from table1 t1\n",
    "left join table2 t2 on t1.id = t2.id\n",
    "left join (select id from tc3 left join tc4 on tc3.id = tc4.id and tc4.name<>'') t3 on t1.id = t3.id\n",
    "where id is not null\n",
    "group by name\n",
    "'''"
   ]
  },
  {
   "cell_type": "code",
   "execution_count": 4,
   "metadata": {
    "ExecuteTime": {
     "end_time": "2024-02-18T07:00:51.655056500Z",
     "start_time": "2024-02-18T07:00:51.626031300Z"
    }
   },
   "outputs": [],
   "source": [
    "# 转换sql为 ast tree\n",
    "ast=sqlglot.parse_one(sql)"
   ]
  },
  {
   "cell_type": "code",
   "execution_count": 5,
   "metadata": {
    "ExecuteTime": {
     "end_time": "2024-02-18T07:00:51.978728300Z",
     "start_time": "2024-02-18T07:00:51.969143100Z"
    }
   },
   "outputs": [
    {
     "name": "stdout",
     "output_type": "stream",
     "text": [
      "LEFT JOIN table2 AS t2 ON t1.id = t2.id\n",
      "LEFT JOIN (SELECT id FROM tc3 LEFT JOIN tc4 ON tc3.id = tc4.id AND tc4.name <> '') AS t3 ON t1.id = t3.id\n",
      "LEFT JOIN tc4 ON tc3.id = tc4.id AND tc4.name <> ''\n"
     ]
    }
   ],
   "source": [
    "for pre in ast.expression.find_all(exp.Join):\n",
    "    print(pre)"
   ]
  },
  {
   "cell_type": "markdown",
   "metadata": {},
   "source": [
    "ast.this"
   ]
  },
  {
   "cell_type": "code",
   "execution_count": 26,
   "metadata": {},
   "outputs": [
    {
     "data": {
      "text/plain": [
       "Schema(\n",
       "  this=Table(\n",
       "    this=Identifier(this=test, quoted=False)),\n",
       "  expressions=[\n",
       "    Identifier(this=id, quoted=False),\n",
       "    Identifier(this=name, quoted=False)])"
      ]
     },
     "execution_count": 26,
     "metadata": {},
     "output_type": "execute_result"
    }
   ],
   "source": [
    "# root 的 this 指\n",
    "# 如果语句 是 insert 那么 this 指向 insert ... 到 from或select之间的部分\n",
    "# 如果语句 是 select 那么 this 指向 select ... 到 from之间的部分\n",
    "ast.this"
   ]
  },
  {
   "cell_type": "markdown",
   "metadata": {},
   "source": [
    "ast.expression"
   ]
  },
  {
   "cell_type": "code",
   "execution_count": 27,
   "metadata": {},
   "outputs": [
    {
     "data": {
      "text/plain": [
       "Select(\n",
       "  expressions=[\n",
       "    Column(\n",
       "      this=Identifier(this=id, quoted=False),\n",
       "      table=Identifier(this=t1, quoted=False)),\n",
       "    Alias(\n",
       "      this=Case(\n",
       "        ifs=[\n",
       "          If(\n",
       "            this=GT(\n",
       "              this=Coalesce(\n",
       "                this=Length(\n",
       "                  this=Column(\n",
       "                    this=Identifier(this=name1, quoted=False),\n",
       "                    table=Identifier(this=t1, quoted=False))),\n",
       "                expressions=[\n",
       "                  Literal(this=0, is_string=False)]),\n",
       "              expression=Literal(this=0, is_string=False)),\n",
       "            true=Column(\n",
       "              this=Identifier(this=bname1, quoted=False),\n",
       "              table=Identifier(this=t1, quoted=False)))],\n",
       "        default=Column(\n",
       "          this=Identifier(this=name2, quoted=False),\n",
       "          table=Identifier(this=t2, quoted=False))),\n",
       "      alias=Identifier(this=name, quoted=False))],\n",
       "  from=From(\n",
       "    this=Table(\n",
       "      this=Identifier(this=table1, quoted=False),\n",
       "      alias=TableAlias(\n",
       "        this=Identifier(this=t1, quoted=False)))),\n",
       "  joins=[\n",
       "    Join(\n",
       "      this=Table(\n",
       "        this=Identifier(this=table2, quoted=False),\n",
       "        alias=TableAlias(\n",
       "          this=Identifier(this=t2, quoted=False))),\n",
       "      side=left,\n",
       "      on=EQ(\n",
       "        this=Column(\n",
       "          this=Identifier(this=id, quoted=False),\n",
       "          table=Identifier(this=t1, quoted=False)),\n",
       "        expression=Column(\n",
       "          this=Identifier(this=id, quoted=False),\n",
       "          table=Identifier(this=t2, quoted=False))))],\n",
       "  where=Where(\n",
       "    this=Not(\n",
       "      this=Is(\n",
       "        this=Column(\n",
       "          this=Identifier(this=id, quoted=False)),\n",
       "        expression=Null()))),\n",
       "  group=Group(\n",
       "    expressions=[\n",
       "      Column(\n",
       "        this=Identifier(this=name, quoted=False))]))"
      ]
     },
     "execution_count": 27,
     "metadata": {},
     "output_type": "execute_result"
    }
   ],
   "source": [
    "# 指 子查询 或 form 之后的部分\n",
    "ast.expression"
   ]
  },
  {
   "cell_type": "code",
   "execution_count": 54,
   "metadata": {},
   "outputs": [
    {
     "data": {
      "text/plain": [
       "{'this': Schema(\n",
       "   this=Table(\n",
       "     this=Identifier(this=test, quoted=False)),\n",
       "   expressions=[\n",
       "     Identifier(this=id, quoted=False),\n",
       "     Identifier(this=name, quoted=False)]),\n",
       " 'by_name': None,\n",
       " 'exists': None,\n",
       " 'partition': None,\n",
       " 'where': None,\n",
       " 'expression': Select(\n",
       "   expressions=[\n",
       "     Column(\n",
       "       this=Identifier(this=id, quoted=False),\n",
       "       table=Identifier(this=t1, quoted=False)),\n",
       "     Alias(\n",
       "       this=Case(\n",
       "         ifs=[\n",
       "           If(\n",
       "             this=GT(\n",
       "               this=Coalesce(\n",
       "                 this=Length(\n",
       "                   this=Column(\n",
       "                     this=Identifier(this=name1, quoted=False),\n",
       "                     table=Identifier(this=t1, quoted=False))),\n",
       "                 expressions=[\n",
       "                   Literal(this=0, is_string=False)]),\n",
       "               expression=Literal(this=0, is_string=False)),\n",
       "             true=Column(\n",
       "               this=Identifier(this=bname1, quoted=False),\n",
       "               table=Identifier(this=t1, quoted=False)))],\n",
       "         default=Column(\n",
       "           this=Identifier(this=name2, quoted=False),\n",
       "           table=Identifier(this=t2, quoted=False))),\n",
       "       alias=Identifier(this=name, quoted=False))],\n",
       "   from=From(\n",
       "     this=Table(\n",
       "       this=Identifier(this=table1, quoted=False),\n",
       "       alias=TableAlias(\n",
       "         this=Identifier(this=t1, quoted=False)))),\n",
       "   joins=[\n",
       "     Join(\n",
       "       this=Table(\n",
       "         this=Identifier(this=table2, quoted=False),\n",
       "         alias=TableAlias(\n",
       "           this=Identifier(this=t2, quoted=False))),\n",
       "       side=left,\n",
       "       on=EQ(\n",
       "         this=Column(\n",
       "           this=Identifier(this=id, quoted=False),\n",
       "           table=Identifier(this=t1, quoted=False)),\n",
       "         expression=Column(\n",
       "           this=Identifier(this=id, quoted=False),\n",
       "           table=Identifier(this=t2, quoted=False))))],\n",
       "   where=Where(\n",
       "     this=Not(\n",
       "       this=Is(\n",
       "         this=Column(\n",
       "           this=Identifier(this=id, quoted=False)),\n",
       "         expression=Null()))),\n",
       "   group=Group(\n",
       "     expressions=[\n",
       "       Column(\n",
       "         this=Identifier(this=name, quoted=False))])),\n",
       " 'conflict': None,\n",
       " 'returning': None,\n",
       " 'overwrite': None,\n",
       " 'alternative': None,\n",
       " 'ignore': None}"
      ]
     },
     "execution_count": 54,
     "metadata": {},
     "output_type": "execute_result"
    }
   ],
   "source": [
    "ast.args"
   ]
  },
  {
   "cell_type": "code",
   "execution_count": 29,
   "metadata": {},
   "outputs": [
    {
     "data": {
      "text/plain": [
       "[Column(\n",
       "   this=Identifier(this=id, quoted=False),\n",
       "   table=Identifier(this=t1, quoted=False)),\n",
       " Alias(\n",
       "   this=Case(\n",
       "     ifs=[\n",
       "       If(\n",
       "         this=GT(\n",
       "           this=Coalesce(\n",
       "             this=Length(\n",
       "               this=Column(\n",
       "                 this=Identifier(this=name1, quoted=False),\n",
       "                 table=Identifier(this=t1, quoted=False))),\n",
       "             expressions=[\n",
       "               Literal(this=0, is_string=False)]),\n",
       "           expression=Literal(this=0, is_string=False)),\n",
       "         true=Column(\n",
       "           this=Identifier(this=bname1, quoted=False),\n",
       "           table=Identifier(this=t1, quoted=False)))],\n",
       "     default=Column(\n",
       "       this=Identifier(this=name2, quoted=False),\n",
       "       table=Identifier(this=t2, quoted=False))),\n",
       "   alias=Identifier(this=name, quoted=False))]"
      ]
     },
     "execution_count": 29,
     "metadata": {},
     "output_type": "execute_result"
    }
   ],
   "source": [
    "ast.expression.expressions"
   ]
  },
  {
   "cell_type": "code",
   "execution_count": 43,
   "metadata": {},
   "outputs": [
    {
     "data": {
      "text/plain": [
       "{'kind': None,\n",
       " 'hint': None,\n",
       " 'distinct': None,\n",
       " 'expressions': [Column(\n",
       "    this=Identifier(this=id, quoted=False),\n",
       "    table=Identifier(this=t1, quoted=False)),\n",
       "  Alias(\n",
       "    this=Case(\n",
       "      ifs=[\n",
       "        If(\n",
       "          this=GT(\n",
       "            this=Coalesce(\n",
       "              this=Length(\n",
       "                this=Column(\n",
       "                  this=Identifier(this=name1, quoted=False),\n",
       "                  table=Identifier(this=t1, quoted=False))),\n",
       "              expressions=[\n",
       "                Literal(this=0, is_string=False)]),\n",
       "            expression=Literal(this=0, is_string=False)),\n",
       "          true=Column(\n",
       "            this=Identifier(this=bname1, quoted=False),\n",
       "            table=Identifier(this=t1, quoted=False)))],\n",
       "      default=Column(\n",
       "        this=Identifier(this=name2, quoted=False),\n",
       "        table=Identifier(this=t2, quoted=False))),\n",
       "    alias=Identifier(this=name, quoted=False))],\n",
       " 'limit': None,\n",
       " 'from': From(\n",
       "   this=Table(\n",
       "     this=Identifier(this=table1, quoted=False),\n",
       "     alias=TableAlias(\n",
       "       this=Identifier(this=t1, quoted=False)))),\n",
       " 'joins': [Join(\n",
       "    this=Table(\n",
       "      this=Identifier(this=table2, quoted=False),\n",
       "      alias=TableAlias(\n",
       "        this=Identifier(this=t2, quoted=False))),\n",
       "    side=left,\n",
       "    on=EQ(\n",
       "      this=Column(\n",
       "        this=Identifier(this=id, quoted=False),\n",
       "        table=Identifier(this=t1, quoted=False)),\n",
       "      expression=Column(\n",
       "        this=Identifier(this=id, quoted=False),\n",
       "        table=Identifier(this=t2, quoted=False))))],\n",
       " 'where': Where(\n",
       "   this=Not(\n",
       "     this=Is(\n",
       "       this=Column(\n",
       "         this=Identifier(this=id, quoted=False)),\n",
       "       expression=Null()))),\n",
       " 'group': Group(\n",
       "   expressions=[\n",
       "     Column(\n",
       "       this=Identifier(this=name, quoted=False))])}"
      ]
     },
     "execution_count": 43,
     "metadata": {},
     "output_type": "execute_result"
    }
   ],
   "source": [
    "ast.expression.args"
   ]
  },
  {
   "cell_type": "markdown",
   "metadata": {},
   "source": [
    "ast.find_all"
   ]
  },
  {
   "cell_type": "code",
   "execution_count": 52,
   "metadata": {},
   "outputs": [
    {
     "name": "stdout",
     "output_type": "stream",
     "text": [
      "GROUP BY name\n"
     ]
    }
   ],
   "source": [
    "for pre in ast.expression.find_all(exp.Group):\n",
    "    print(pre)\n"
   ]
  },
  {
   "cell_type": "code",
   "execution_count": 65,
   "metadata": {},
   "outputs": [
    {
     "name": "stdout",
     "output_type": "stream",
     "text": [
      "LEFT JOIN table2 AS t2 ON t1.id = t2.id\n"
     ]
    }
   ],
   "source": [
    "for pre in ast.find_all(exp.Join):\n",
    "    print(pre)"
   ]
  },
  {
   "cell_type": "code",
   "execution_count": 63,
   "metadata": {},
   "outputs": [
    {
     "name": "stdout",
     "output_type": "stream",
     "text": [
      "SELECT t1.id, CASE WHEN COALESCE(LENGTH(t1.name1), 0) > 0 THEN t1.bname1 ELSE t2.name2 END AS name FROM table1 AS t1 LEFT JOIN table2 AS t2 ON t1.id = t2.id WHERE NOT id IS NULL GROUP BY name\n"
     ]
    }
   ],
   "source": [
    "for pre in ast.find_all(exp.Select):\n",
    "    print(pre)"
   ]
  },
  {
   "cell_type": "code",
   "execution_count": null,
   "metadata": {},
   "outputs": [],
   "source": []
  }
 ],
 "metadata": {
  "kernelspec": {
   "display_name": "Python 3",
   "language": "python",
   "name": "python3"
  },
  "language_info": {
   "codemirror_mode": {
    "name": "ipython",
    "version": 3
   },
   "file_extension": ".py",
   "mimetype": "text/x-python",
   "name": "python",
   "nbconvert_exporter": "python",
   "pygments_lexer": "ipython3",
   "version": "3.12.1"
  }
 },
 "nbformat": 4,
 "nbformat_minor": 2
}
