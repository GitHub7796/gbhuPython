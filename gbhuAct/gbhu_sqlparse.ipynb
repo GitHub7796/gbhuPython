{
 "cells": [
  {
   "cell_type": "markdown",
   "metadata": {},
   "source": [
    "sqlparse ：sqlparse是一个功能强大的SQL解析器和格式化器，可以解析SQL语句并将其转换为Python对象表示形式。它可以处理各种SQL语句，包括复杂的嵌套查询、多语句等。此外，sqlparse还提供了将SQL语句格式化为易于阅读的形式的功能。\n",
    "\n",
    "sqlparse 中文文档丰富，因此选择"
   ]
  },
  {
   "cell_type": "code",
   "execution_count": null,
   "metadata": {},
   "outputs": [],
   "source": [
    "!pip install "
   ]
  }
 ],
 "metadata": {
  "kernelspec": {
   "display_name": "Python 3",
   "language": "python",
   "name": "python3"
  },
  "language_info": {
   "codemirror_mode": {
    "name": "ipython",
    "version": 3
   },
   "file_extension": ".py",
   "mimetype": "text/x-python",
   "name": "python",
   "nbconvert_exporter": "python",
   "pygments_lexer": "ipython3",
   "version": "3.12.1"
  }
 },
 "nbformat": 4,
 "nbformat_minor": 2
}
