{
 "cells": [
  {
   "cell_type": "code",
   "execution_count": null,
   "metadata": {},
   "outputs": [],
   "source": [
    "# Python-docx 库。这个库可以读取、修改和写入 Word 文档，并且可以方便地保留原始样式\n",
    "\n",
    "# python-docx-template： 这个库基于 Python-docx 构建，提供了更方便的模板功能，可以根据模板文件生成 Word 文档，并填充变量、插入图片等。\n",
    "\n",
    "# docx2python： 这个库可以将 Word 文档转换为 Python 数据结构，使得可以直接在 Python 中操作 Word 文档的内容和样式。\n",
    "\n",
    "# pywin32： 如果你使用的是 Windows 操作系统，可以考虑使用 pywin32 这个库，它可以与 Microsoft Office 应用程序进行交互，包括 Word。\n",
    "\n",
    "# python-docx2pdf： 这个库可以将 Word 文档转换为 PDF 格式，如果你需要将 Word 文档转换为 PDF 格式，可以考虑使用这个库"
   ]
  },
  {
   "cell_type": "code",
   "execution_count": 2,
   "metadata": {},
   "outputs": [
    {
     "name": "stdout",
     "output_type": "stream",
     "text": [
      "Collecting Python-docx"
     ]
    },
    {
     "name": "stderr",
     "output_type": "stream",
     "text": [
      "WARNING: Retrying (Retry(total=4, connect=None, read=None, redirect=None, status=None)) after connection broken by 'ProxyError('Cannot connect to proxy.', TimeoutError('_ssl.c:983: The handshake operation timed out'))': /simple/python-docx/\n",
      "WARNING: Retrying (Retry(total=3, connect=None, read=None, redirect=None, status=None)) after connection broken by 'ProxyError('Cannot connect to proxy.', TimeoutError('_ssl.c:983: The handshake operation timed out'))': /simple/python-docx/\n",
      "WARNING: Retrying (Retry(total=2, connect=None, read=None, redirect=None, status=None)) after connection broken by 'ProxyError('Cannot connect to proxy.', TimeoutError('_ssl.c:983: The handshake operation timed out'))': /simple/python-docx/\n",
      "WARNING: Retrying (Retry(total=1, connect=None, read=None, redirect=None, status=None)) after connection broken by 'ProxyError('Cannot connect to proxy.', TimeoutError('_ssl.c:983: The handshake operation timed out'))': /simple/python-docx/\n",
      "\n",
      "[notice] A new release of pip is available: 23.2.1 -> 23.3.2\n",
      "[notice] To update, run: python.exe -m pip install --upgrade pip\n"
     ]
    },
    {
     "name": "stdout",
     "output_type": "stream",
     "text": [
      "\n",
      "  Obtaining dependency information for Python-docx from https://files.pythonhosted.org/packages/5f/d8/6948f7ac00edf74bfa52b3c5e3073df20284bec1db466d13e668fe991707/python_docx-1.1.0-py3-none-any.whl.metadata\n",
      "  Using cached python_docx-1.1.0-py3-none-any.whl.metadata (2.0 kB)\n",
      "Collecting lxml>=3.1.0 (from Python-docx)\n",
      "  Obtaining dependency information for lxml>=3.1.0 from https://files.pythonhosted.org/packages/02/59/e1fbe2514d8ab39977b72e77f98d0fa49772f61e938049baf151b307a4f0/lxml-5.1.0-cp312-cp312-win_amd64.whl.metadata\n",
      "  Using cached lxml-5.1.0-cp312-cp312-win_amd64.whl.metadata (3.6 kB)\n",
      "Collecting typing-extensions (from Python-docx)\n",
      "  Obtaining dependency information for typing-extensions from https://files.pythonhosted.org/packages/b7/f4/6a90020cd2d93349b442bfcb657d0dc91eee65491600b2cb1d388bc98e6b/typing_extensions-4.9.0-py3-none-any.whl.metadata\n",
      "  Using cached typing_extensions-4.9.0-py3-none-any.whl.metadata (3.0 kB)\n",
      "Using cached python_docx-1.1.0-py3-none-any.whl (239 kB)\n",
      "Using cached lxml-5.1.0-cp312-cp312-win_amd64.whl (3.9 MB)\n",
      "Using cached typing_extensions-4.9.0-py3-none-any.whl (32 kB)\n",
      "Installing collected packages: typing-extensions, lxml, Python-docx\n",
      "Successfully installed Python-docx-1.1.0 lxml-5.1.0 typing-extensions-4.9.0\n"
     ]
    }
   ],
   "source": [
    "!pip install Python-docx"
   ]
  },
  {
   "cell_type": "markdown",
   "metadata": {},
   "source": [
    "参考：\n",
    "- 【官网】https://python-docx.readthedocs.io/en/latest/\n",
    "- 【中文翻译】https://hellowac.github.io/docx-doc-zh/tutorial.html\n",
    "- https://zhuanlan.zhihu.com/p/423704887"
   ]
  },
  {
   "cell_type": "code",
   "execution_count": 3,
   "metadata": {},
   "outputs": [],
   "source": [
    "from docx import Document"
   ]
  },
  {
   "cell_type": "code",
   "execution_count": 8,
   "metadata": {},
   "outputs": [],
   "source": [
    "# 读取现有的 Word 文档，仅读取 .docx\n",
    "document = Document('./template/单元测试步骤书.docx')"
   ]
  },
  {
   "cell_type": "code",
   "execution_count": 9,
   "metadata": {},
   "outputs": [],
   "source": [
    "# 获取文档中所有段落\n",
    "paragraphs = document.paragraphs"
   ]
  },
  {
   "cell_type": "code",
   "execution_count": 11,
   "metadata": {},
   "outputs": [
    {
     "name": "stdout",
     "output_type": "stream",
     "text": [
      "单元测试检查表\n",
      "说明：\n",
      "单元测试是对单元进行测试\n",
      "具体测试案例需要逐一列出\n",
      "单元测试后才可进行集成测试\n",
      "\n"
     ]
    }
   ],
   "source": [
    "# 遍历所有段落，修改内容\n",
    "for paragraph in paragraphs:\n",
    "    print(paragraph.text)"
   ]
  },
  {
   "cell_type": "code",
   "execution_count": null,
   "metadata": {},
   "outputs": [],
   "source": [
    "# 获取文档中所有表格\n",
    "tables = document.tables"
   ]
  },
  {
   "cell_type": "code",
   "execution_count": 13,
   "metadata": {},
   "outputs": [
    {
     "name": "stdout",
     "output_type": "stream",
     "text": [
      "系统名称：\n",
      "系统名称：\n",
      "系统负责人：\n",
      "系统负责人：\n",
      "需求列表：\n",
      "需求列表：\n",
      "需求列表：\n",
      "模块\n",
      "功能点\n",
      "测试案例\n",
      "检查情况\n",
      "测试人\n",
      "测试日期\n",
      "备注\n",
      "模块1 \n",
      "测试企业画像\n",
      "测试案例：正例\n",
      "操作步骤：点击企业画像\n",
      "预期结果：符合预期\n",
      "√\n",
      "虚拟人\n",
      "2024年2月7日\n",
      "\n",
      "\n",
      "\n",
      "\n",
      "\n",
      "\n",
      "\n",
      "\n",
      "测试结论\n",
      "通过\n",
      "通过\n",
      "通过\n",
      "通过\n",
      "通过\n",
      "通过\n",
      "测试负责人\n",
      "虚拟人\n",
      "虚拟人\n",
      "虚拟人\n",
      "虚拟人\n",
      "虚拟人\n",
      "虚拟人\n"
     ]
    }
   ],
   "source": [
    "# 遍历所有表格\n",
    "for table in tables:\n",
    "    # 遍历表格中的每一行\n",
    "    for row in table.rows:\n",
    "        # 遍历每一行中的单元格\n",
    "        for cell in row.cells:\n",
    "            # 打印单元格内容\n",
    "            print(cell.text)"
   ]
  },
  {
   "cell_type": "code",
   "execution_count": 17,
   "metadata": {},
   "outputs": [],
   "source": [
    "# 参考：\n",
    "# - https://zhuanlan.zhihu.com/p/679681871\n",
    "# - https://blog.csdn.net/qq_39147299/article/details/125414499\n",
    "# 得到第一个表格\n",
    "table=tables[0]\n",
    "# 修改特定单元格的内容\n",
    "table.cell(2,0).text='模块1'\n",
    "table.cell(2,1).text='登录'\n",
    "table.cell(2,2).text='输入用户名和密码，点击登录按钮'\n",
    "table.cell(2,3).text='√'\n",
    "table.cell(2,4).text='alice'\n",
    "table.cell(2,5).text='2023-02-07'\n",
    "\n",
    "table.cell(4,1).text='未通过'\n",
    "table.cell(4,2).text='alice'\n"
   ]
  },
  {
   "cell_type": "code",
   "execution_count": 15,
   "metadata": {},
   "outputs": [],
   "source": [
    "document.save('单元测试步骤书.doc')"
   ]
  }
 ],
 "metadata": {
  "kernelspec": {
   "display_name": "Python 3",
   "language": "python",
   "name": "python3"
  },
  "language_info": {
   "codemirror_mode": {
    "name": "ipython",
    "version": 3
   },
   "file_extension": ".py",
   "mimetype": "text/x-python",
   "name": "python",
   "nbconvert_exporter": "python",
   "pygments_lexer": "ipython3",
   "version": "3.12.1"
  }
 },
 "nbformat": 4,
 "nbformat_minor": 2
}
