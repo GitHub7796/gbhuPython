{
 "cells": [
  {
   "cell_type": "code",
   "execution_count": 4,
   "metadata": {},
   "outputs": [],
   "source": [
    "import tomllib"
   ]
  },
  {
   "cell_type": "code",
   "execution_count": 10,
   "metadata": {},
   "outputs": [
    {
     "data": {
      "text/plain": [
       "{'env': 'sit'}"
      ]
     },
     "execution_count": 10,
     "metadata": {},
     "output_type": "execute_result"
    }
   ],
   "source": [
    "with open('./env.toml','rb') as fileObj:\n",
    "    env=tomllib.load(fileObj)\n",
    "env"
   ]
  },
  {
   "cell_type": "markdown",
   "metadata": {},
   "source": [
    "根据指定 环境 加载配置"
   ]
  },
  {
   "cell_type": "code",
   "execution_count": 21,
   "metadata": {},
   "outputs": [],
   "source": [
    "from enum import Enum\n",
    "class ENV(Enum):\n",
    "    SIT='sit'\n",
    "    UAT='uat'\n",
    "    PROD='pord'"
   ]
  },
  {
   "cell_type": "code",
   "execution_count": 25,
   "metadata": {},
   "outputs": [
    {
     "data": {
      "text/plain": [
       "'SIT'"
      ]
     },
     "execution_count": 25,
     "metadata": {},
     "output_type": "execute_result"
    }
   ],
   "source": [
    "ENV.SIT.name"
   ]
  },
  {
   "cell_type": "code",
   "execution_count": 31,
   "metadata": {},
   "outputs": [
    {
     "name": "stdout",
     "output_type": "stream",
     "text": [
      "{'env': 'sit', 'app': {'home': '/app/xxx', 'log': '/app/log'}, 'mysql': {'ip': '172.0.0.1', 'port': '8080', 'scehma': 'gbhu', 'user': 'admin', 'passwd': 'admin'}, 'sys_1': {'url': '172.0.0.1/hello'}}\n"
     ]
    }
   ],
   "source": [
    "from enum import Enum\n",
    "class ENV(Enum):\n",
    "    SIT='sit'\n",
    "    UAT='uat'\n",
    "    PROD='pord'\n",
    "def load_toml(toml_path):\n",
    "    with open(toml_path,'rb') as fileObj:\n",
    "        return tomllib.load(fileObj)\n",
    "env=load_toml('./env.toml')\n",
    "prof={}\n",
    "match env['env']:\n",
    "    case ENV.SIT.value:\n",
    "        prof=load_toml('./sit.toml')\n",
    "    case ENV.UAT.value:\n",
    "        prof=load_toml('./uat.toml')\n",
    "    case _:\n",
    "        prof='unknown' #或其他预期值\n",
    "print(prof)"
   ]
  },
  {
   "cell_type": "code",
   "execution_count": 32,
   "metadata": {},
   "outputs": [
    {
     "data": {
      "text/plain": [
       "{'env': 'sit',\n",
       " 'app': {'home': '/app/xxx', 'log': '/app/log'},\n",
       " 'mysql': {'ip': '172.0.0.1',\n",
       "  'port': '8080',\n",
       "  'scehma': 'gbhu',\n",
       "  'user': 'admin',\n",
       "  'passwd': 'admin'},\n",
       " 'sys_1': {'url': '172.0.0.1/hello'}}"
      ]
     },
     "execution_count": 32,
     "metadata": {},
     "output_type": "execute_result"
    }
   ],
   "source": [
    "from config_reader import load_toml\n",
    "load_toml('./sit.toml')"
   ]
  },
  {
   "cell_type": "code",
   "execution_count": null,
   "metadata": {},
   "outputs": [],
   "source": []
  }
 ],
 "metadata": {
  "kernelspec": {
   "display_name": "Python 3",
   "language": "python",
   "name": "python3"
  },
  "language_info": {
   "codemirror_mode": {
    "name": "ipython",
    "version": 3
   },
   "file_extension": ".py",
   "mimetype": "text/x-python",
   "name": "python",
   "nbconvert_exporter": "python",
   "pygments_lexer": "ipython3",
   "version": "3.12.1"
  }
 },
 "nbformat": 4,
 "nbformat_minor": 2
}
